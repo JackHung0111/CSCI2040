{
 "cells": [
  {
   "cell_type": "markdown",
   "metadata": {},
   "source": [
    "# Files and utilities\n",
    "\n",
    "In this lecture, we will go over ways to open/close/read/write/delete files, as well as some useful system utilities.\n",
    "\n",
    "**Created and edited by**  John C.S. Lui on August 14, 2020.\n",
    "\n",
    "**Important note:** *If you want to use and modify this notebook file, please acknowledge the author.*"
   ]
  },
  {
   "cell_type": "markdown",
   "metadata": {},
   "source": [
    "## File methods\n",
    "\n",
    "f = open(“filename”) &nbsp;&nbsp;&nbsp;&nbsp;&nbsp;&nbsp;&nbsp;&nbsp;&nbsp;&nbsp;&nbsp;&nbsp; # open a file, return file value<br>\n",
    "f = open(“filename”, “w”)  &nbsp;&nbsp;&nbsp;&nbsp; # open a file for writing<br>\n",
    "f.read()  &nbsp;&nbsp;&nbsp;&nbsp;&nbsp;&nbsp;&nbsp;&nbsp;&nbsp;&nbsp;&nbsp;&nbsp;&nbsp;&nbsp;&nbsp;&nbsp;&nbsp;&nbsp;&nbsp;&nbsp;&nbsp;&nbsp;&nbsp;&nbsp;&nbsp;&nbsp;&nbsp;&nbsp;&nbsp;&nbsp;&nbsp;&nbsp; # return a single character value<br>\n",
    "f.read(n) &nbsp;&nbsp;&nbsp;&nbsp;&nbsp;&nbsp;&nbsp;&nbsp;&nbsp;&nbsp;&nbsp;&nbsp;&nbsp;&nbsp;&nbsp;&nbsp;&nbsp;&nbsp;&nbsp;&nbsp;&nbsp;&nbsp;&nbsp;&nbsp;&nbsp;&nbsp;&nbsp;&nbsp;&nbsp;&nbsp; #  return no more than n character values<br>\n",
    "f.readline() &nbsp;&nbsp;&nbsp;&nbsp;&nbsp;&nbsp;&nbsp;&nbsp;&nbsp;&nbsp;&nbsp;&nbsp;&nbsp;&nbsp;&nbsp;&nbsp;&nbsp;&nbsp;&nbsp;&nbsp;&nbsp;&nbsp;&nbsp;&nbsp;&nbsp;&nbsp; #  return the next line of input<br>\n",
    "f.readlines() &nbsp;&nbsp;&nbsp;&nbsp;&nbsp;&nbsp;&nbsp;&nbsp;&nbsp;&nbsp;&nbsp;&nbsp;&nbsp;&nbsp;&nbsp;&nbsp;&nbsp;&nbsp;&nbsp;&nbsp;&nbsp;&nbsp;&nbsp;&nbsp; #  return all the file content as a list<br>\n",
    "f.write(s) &nbsp;&nbsp;&nbsp;&nbsp;&nbsp;&nbsp;&nbsp;&nbsp;&nbsp;&nbsp;&nbsp;&nbsp;&nbsp;&nbsp;&nbsp;&nbsp;&nbsp;&nbsp;&nbsp;&nbsp;&nbsp;&nbsp;&nbsp;&nbsp;&nbsp;&nbsp;&nbsp;&nbsp;&nbsp; #  write string s to file<br>\n",
    "f.writelines(lst) &nbsp;&nbsp;&nbsp;&nbsp;&nbsp;&nbsp;&nbsp;&nbsp;&nbsp;&nbsp;&nbsp;&nbsp;&nbsp;&nbsp;&nbsp;&nbsp;&nbsp;&nbsp;&nbsp;&nbsp; #   write list lst to file<br>\n",
    "f.close()  &nbsp;&nbsp;&nbsp;&nbsp;&nbsp;&nbsp;&nbsp;&nbsp;&nbsp;&nbsp;&nbsp;&nbsp;&nbsp;&nbsp;&nbsp;&nbsp;&nbsp;&nbsp;&nbsp;&nbsp;&nbsp;&nbsp;&nbsp;&nbsp;&nbsp;&nbsp;&nbsp;&nbsp;&nbsp;&nbsp; #  close file\n"
   ]
  },
  {
   "cell_type": "code",
   "execution_count": null,
   "metadata": {
    "scrolled": true
   },
   "outputs": [],
   "source": [
    "# process a line at a time\n",
    "f = open('message.txt')   # open a specific file\n",
    "for line in f:            # process a line at a time\n",
    "    print('Read in:', line)"
   ]
  },
  {
   "cell_type": "code",
   "execution_count": null,
   "metadata": {
    "scrolled": true
   },
   "outputs": [],
   "source": [
    "# process a character at a time\n",
    "f = open('message.txt')   # open a specific file\n",
    "for char in f.read():      # process a character at a time\n",
    "    print('Read in:', char)"
   ]
  },
  {
   "cell_type": "code",
   "execution_count": null,
   "metadata": {
    "scrolled": true
   },
   "outputs": [],
   "source": [
    "# process 2 character only\n",
    "f = open('message.txt')   # open a specific file\n",
    "for char in f.read(2):      # process a character at a time\n",
    "    print('Read in:', char)"
   ]
  },
  {
   "cell_type": "code",
   "execution_count": null,
   "metadata": {
    "scrolled": true
   },
   "outputs": [],
   "source": [
    "# process a line only\n",
    "f = open('message.txt')   # open a specific file\n",
    "#print('linemode:', f.readline())\n",
    "\n",
    "for line in f.readline():      # process a character in this line\n",
    "    print('Read in:', line)"
   ]
  },
  {
   "cell_type": "code",
   "execution_count": null,
   "metadata": {
    "scrolled": true
   },
   "outputs": [],
   "source": [
    "# process a line at a time\n",
    "f = open('message.txt')   # open a specific file\n",
    "for line in f.readlines():      # process a character in this line\n",
    "    print('Read in:', line)"
   ]
  },
  {
   "cell_type": "code",
   "execution_count": null,
   "metadata": {
    "scrolled": true
   },
   "outputs": [],
   "source": [
    "# write something to the file\n",
    "f = open('message1.txt', \"w\")   # open a specific file with write permission\n",
    "f.write(\"write 1st string\\n\")   \n",
    "f.write(\"write 2nd string\\n\")\n",
    "f.write(\"write 3rd string\\n\")\n",
    "f.write(\"write 4th string\\n\")\n",
    "f.close()                       # remember to close the file"
   ]
  },
  {
   "cell_type": "code",
   "execution_count": null,
   "metadata": {
    "scrolled": true
   },
   "outputs": [],
   "source": [
    "# write something to the file\n",
    "f = open('message1.txt', \"w\")   # open a specific file with write permission\n",
    "f.writelines([\"1st item\\n\", \"2nd item\\n\", \"3rd item\\n\", \"4th item\\n\"])   \n",
    "f.close()                       # remember to close the file"
   ]
  },
  {
   "cell_type": "markdown",
   "metadata": {},
   "source": [
    "## Operating system support\n",
    "\n",
    "At times, it will be useful to ask the server (or OS) to help us to process files.  Let's take a look."
   ]
  },
  {
   "cell_type": "code",
   "execution_count": null,
   "metadata": {},
   "outputs": [],
   "source": [
    "import os\n",
    "os.rename (\"message1.txt\", \"message2.txt\")  # rename a file\n",
    "\n",
    "# os.curdir               # show current working director\n",
    "os.system('ls -al')     # perform a long listing of files in current directory\n",
    "\n",
    "# os.remove(\"message2.txt\") # want to remove the file we just created"
   ]
  },
  {
   "cell_type": "markdown",
   "metadata": {},
   "source": [
    "## Recovering from exception\n",
    "\n",
    "Sometimes, when you want to open a file, there can be error (can you give example on this error?).  We want to have a way to handle this problem. Let's illustrate."
   ]
  },
  {
   "cell_type": "code",
   "execution_count": null,
   "metadata": {},
   "outputs": [],
   "source": [
    "try:\n",
    "    f = open('input.txt')   # try to open a file 'input.txt'\n",
    "\n",
    "except OSError:\n",
    "    print ('unable to open the file')\n",
    "else:\n",
    "    print ('continue with processing')\n",
    "    f.close()\n",
    "print ('continue')\n"
   ]
  },
  {
   "cell_type": "markdown",
   "metadata": {},
   "source": [
    "## Standard I/O\n",
    "\n",
    "- print writes characters to a file normally attached to display window\n",
    "- Input functions read from a file attached to keyboard\n",
    "- These files can be accessed through **sys** module\n",
    "- Input file : *sys.stdin*, output file: *sys.stdout*, error messages: *sys.stderr*\n",
    "- *stderr* normally also goes to *stdout*"
   ]
  },
  {
   "cell_type": "markdown",
   "metadata": {},
   "source": [
    "## Various input and output options\n",
    "\n",
    "- *str()* function is to return representation of values which are **human-readable**\n",
    "- *repr()* function is to generate representations which can be read by the **interpreter**\n",
    "- Many values, such as numbers or structures like lists and dictionaries, have the same representation using either function. Strings and floating point numbers have two distinct representations."
   ]
  },
  {
   "cell_type": "code",
   "execution_count": 3,
   "metadata": {
    "tags": []
   },
   "outputs": [
    {
     "output_type": "stream",
     "name": "stdout",
     "text": "Hello world\n&#39;Hello world&#39;\n0.14285714285714285\n0.14285714285714285\nstr(s): (&#39;The value of x is 32.5, and y is &#39;, &#39;40000...&#39;) ; repr(s): (&#39;The value of x is 32.5, and y is &#39;, &#39;40000...&#39;)\n(&#39;The value of x is 32.5, and y is &#39;, &#39;40000...&#39;)\n&#39;hello, world&#39;\n"
    },
    {
     "output_type": "execute_result",
     "data": {
      "text/plain": "&quot;(32.5, 40000, (&#39;spam&#39;, &#39;eggs&#39;))&quot;"
     },
     "metadata": {},
     "execution_count": 3
    }
   ],
   "source": [
    "s = 'Hello world'\n",
    "print (str(s))\n",
    "print (repr(s))\n",
    "print (str(1.0/7))\n",
    "print (repr(1.0/7))\n",
    "x = 10*3.25\n",
    "y = 200* 200\n",
    "s = 'The value of x is ' + repr(x) + ', and y is ', repr(y) + '...'\n",
    "print ('str(s):', str(s), \"; repr(s):\", repr(s))\n",
    "print(s)\n",
    "hello = 'hello, world'\n",
    "hellos = repr(hello)\n",
    "print (hellos)\n",
    "repr((x,y,('spam','eggs')))\n"
   ]
  },
  {
   "cell_type": "code",
   "execution_count": 4,
   "metadata": {
    "tags": []
   },
   "outputs": [
    {
     "output_type": "stream",
     "name": "stdout",
     "text": " 1    1     1\n 2    4     8\n 3    9    27\n 4   16    64\n 5   25   125\n 6   36   216\n 7   49   343\n 8   64   512\n 9   81   729\n10  100  1000\n"
    }
   ],
   "source": [
    "for x in range (1,11):\n",
    "    print(repr(x).rjust(2), repr(x*x).rjust(4), end='')\n",
    "    print (repr(x*x*x).rjust(6))"
   ]
  },
  {
   "cell_type": "markdown",
   "metadata": {},
   "source": [
    "## str.format \n",
    "\n",
    "It becomes a place holder, and we can use various *index* !!!"
   ]
  },
  {
   "cell_type": "code",
   "execution_count": 5,
   "metadata": {
    "tags": []
   },
   "outputs": [
    {
     "output_type": "stream",
     "name": "stdout",
     "text": "I am the bat who say &quot;man!&quot;\n"
    }
   ],
   "source": [
    "# use as place holder\n",
    "print('I am the {} who say \"{}!\"'.format('bat', 'man'))"
   ]
  },
  {
   "cell_type": "code",
   "execution_count": 6,
   "metadata": {
    "tags": []
   },
   "outputs": [
    {
     "output_type": "stream",
     "name": "stdout",
     "text": "I am the bat who say &quot;man!&quot;\nI am the man who say &quot;bat!&quot;\n"
    }
   ],
   "source": [
    "# use index to manipulate the ordering. This is what we call the positional argument\n",
    "print('I am the {0} who say \"{1}!\"'.format('bat', 'man'))\n",
    "print('I am the {1} who say \"{0}!\"'.format('bat', 'man'))"
   ]
  },
  {
   "cell_type": "code",
   "execution_count": 7,
   "metadata": {
    "tags": []
   },
   "outputs": [
    {
     "output_type": "stream",
     "name": "stdout",
     "text": "This John C.S. Lui is absolutely horrible.\n"
    }
   ],
   "source": [
    "# use of keyword argument\n",
    "print ('This {teacher} is {adjective}.'.format\n",
    "             (teacher='John C.S. Lui', adjective='absolutely horrible'))"
   ]
  },
  {
   "cell_type": "code",
   "execution_count": 8,
   "metadata": {
    "tags": []
   },
   "outputs": [
    {
     "output_type": "stream",
     "name": "stdout",
     "text": "The great music by Peter, Paul, and Mary.\nThe great music by Peter, Mary, and Paul.\n"
    }
   ],
   "source": [
    "# Positional and keyword arguments can be arbitrarily combined\n",
    "print ('The great music by {0}, {1}, and {other}.'.format\n",
    "         ('Peter', 'Paul', other='Mary'))\n",
    "print ('The great music by {0}, {other}, and {1}.'.format\n",
    "         ('Peter', 'Paul', other='Mary'))"
   ]
  },
  {
   "cell_type": "code",
   "execution_count": 9,
   "metadata": {
    "tags": []
   },
   "outputs": [
    {
     "output_type": "stream",
     "name": "stdout",
     "text": "The value of PI is approximately 3.141593\n"
    }
   ],
   "source": [
    "# Format output {x:y}, where x is the positional argument\n",
    "#                   y is the format\n",
    "print ('The value of PI is approximately {0:.6f}'.format\n",
    "        (3.1415926))"
   ]
  },
  {
   "cell_type": "code",
   "execution_count": 10,
   "metadata": {
    "tags": []
   },
   "outputs": [
    {
     "output_type": "stream",
     "name": "stdout",
     "text": "John       ==&gt;       1000\nPeter      ==&gt;        500\nDavid      ==&gt;         10\n"
    }
   ],
   "source": [
    "# Passing an integer after \":\" to make things neat\n",
    "\n",
    "table ={'John': 1000, 'Peter':500, 'David': 10} # define dictionary\n",
    "\n",
    "for name, amount in table.items():  # extract item from dictionary\n",
    "    print ('{0:10} ==> {1:10d}'.format(name, amount))"
   ]
  },
  {
   "cell_type": "code",
   "execution_count": null,
   "metadata": {},
   "outputs": [],
   "source": []
  },
  {
   "cell_type": "markdown",
   "metadata": {},
   "source": [
    "## Mathematics library\n",
    "\n",
    "The *math* module gives access to the underlying C library functions for floating point math"
   ]
  },
  {
   "cell_type": "code",
   "execution_count": 11,
   "metadata": {
    "tags": []
   },
   "outputs": [
    {
     "output_type": "stream",
     "name": "stdout",
     "text": "0.7071067811865476\n10.0\n"
    }
   ],
   "source": [
    "# using pi and cosine\n",
    "import math\n",
    "print (math.cos(math.pi / 4.0))\n",
    "\n",
    "print(math.log(1024,2))"
   ]
  },
  {
   "cell_type": "markdown",
   "metadata": {},
   "source": [
    "The *random* module provides tools for making random selection"
   ]
  },
  {
   "cell_type": "code",
   "execution_count": 12,
   "metadata": {},
   "outputs": [
    {
     "output_type": "execute_result",
     "data": {
      "text/plain": "&#39;apple&#39;"
     },
     "metadata": {},
     "execution_count": 12
    }
   ],
   "source": [
    "import random\n",
    "random.choice(['apple', 'pear', 'banana'])"
   ]
  },
  {
   "cell_type": "code",
   "execution_count": 13,
   "metadata": {},
   "outputs": [
    {
     "output_type": "execute_result",
     "data": {
      "text/plain": "[98, 48, 76, 26, 43, 37, 65, 32, 82, 63]"
     },
     "metadata": {},
     "execution_count": 13
    }
   ],
   "source": [
    "random.sample(range(100), 10)   # sampling without replacement of 10 items"
   ]
  },
  {
   "cell_type": "code",
   "execution_count": 14,
   "metadata": {
    "tags": []
   },
   "outputs": [
    {
     "output_type": "stream",
     "name": "stdout",
     "text": "a random float number:  0.6466331786366868\na random integer from range(10):  8\n"
    }
   ],
   "source": [
    "import random\n",
    "print('a random float number: ', random.random())\n",
    "print('a random integer from range(10): ', random.randrange(10))"
   ]
  },
  {
   "cell_type": "markdown",
   "metadata": {},
   "source": [
    "## Library for Internet Access\n",
    "\n",
    "Here, we have two modules: *urllib* and *smtplib*, for retrieving data and sending email respectively. Please read them via the Python documentation."
   ]
  },
  {
   "cell_type": "code",
   "execution_count": 15,
   "metadata": {
    "tags": [
     "outputPrepend"
    ]
   },
   "outputs": [
    {
     "output_type": "stream",
     "name": "stdout",
     "text": "om&quot;&gt;Salt&lt;/a&gt;, &lt;a class=&quot;tag&quot; href=&quot;https://www.openstack.org&quot;&gt;OpenStack&lt;/a&gt;&lt;/span&gt;&lt;/li&gt;\\r\\n&lt;/ul&gt;\\r\\n\\n                        &lt;/div&gt;&lt;!-- end .shrubbery --&gt;\\n                    &lt;/div&gt;\\n\\n                &lt;/div&gt;\\n\\n                \\n                &lt;div class=&quot;pep-widget&quot;&gt;\\n\\n                    &lt;h2 class=&quot;widget-title&quot;&gt;\\n                        &lt;span class=&quot;prompt&quot;&gt;&amp;gt;&amp;gt;&amp;gt;&lt;/span&gt; &lt;a href=&quot;/dev/peps/&quot;&gt;Python Enhancement Proposals&lt;span class=&quot;say-no-more&quot;&gt; (PEPs)&lt;/span&gt;&lt;/a&gt;: The future of Python&lt;span class=&quot;say-no-more&quot;&gt; is discussed here.&lt;/span&gt;\\n                        &lt;a aria-hidden=&quot;true&quot; class=&quot;rss-link&quot; href=&quot;/dev/peps/peps.rss&quot;&gt;&lt;span class=&quot;icon-feed&quot;&gt;&lt;/span&gt; RSS&lt;/a&gt;\\n                    &lt;/h2&gt;\\n\\n\\n                    \\n                    \\n                &lt;/div&gt;\\n\\n                                &lt;div class=&quot;psf-widget&quot;&gt;\\n\\n                    &lt;div class=&quot;python-logo&quot;&gt;&lt;/div&gt;\\n                    \\n                    &lt;h2 class=&quot;widget-title&quot;&gt;\\r\\n    &lt;span class=&quot;prompt&quot;&gt;&amp;gt;&amp;gt;&amp;gt;&lt;/span&gt; &lt;a href=&quot;/psf/&quot;&gt;Python Software Foundation&lt;/a&gt;\\r\\n&lt;/h2&gt;\\r\\n&lt;p&gt;The mission of the Python Software Foundation is to promote, protect, and advance the Python programming language, and to support and facilitate the growth of a diverse and international community of Python programmers. &lt;a class=&quot;readmore&quot; href=&quot;/psf/&quot;&gt;Learn more&lt;/a&gt; &lt;/p&gt;\\r\\n&lt;p class=&quot;click-these&quot;&gt;\\r\\n    &lt;a class=&quot;button&quot; href=&quot;/users/membership/&quot;&gt;Become a Member&lt;/a&gt;\\r\\n    &lt;a class=&quot;button&quot; href=&quot;/psf/donations/&quot;&gt;Donate to the PSF&lt;/a&gt;\\r\\n&lt;/p&gt;\\n                &lt;/div&gt;\\n\\n\\n\\n\\n                &lt;/section&gt;\\n\\n                \\n                \\n\\n                \\n                \\n\\n\\n            &lt;/div&gt;&lt;!-- end .container --&gt;\\n        &lt;/div&gt;&lt;!-- end #content .content-wrapper --&gt;\\n\\n        &lt;!-- Footer and social media list --&gt;\\n        &lt;footer id=&quot;site-map&quot; class=&quot;main-footer&quot; role=&quot;contentinfo&quot;&gt;\\n            &lt;div class=&quot;main-footer-links&quot;&gt;\\n                &lt;div class=&quot;container&quot;&gt;\\n\\n                    \\n                    &lt;a id=&quot;back-to-top-1&quot; class=&quot;jump-link&quot; href=&quot;#python-network&quot;&gt;&lt;span aria-hidden=&quot;true&quot; class=&quot;icon-arrow-up&quot;&gt;&lt;span&gt;&amp;#9650;&lt;/span&gt;&lt;/span&gt; Back to Top&lt;/a&gt;\\n\\n                    \\n\\n&lt;ul class=&quot;sitemap navigation menu do-not-print&quot; role=&quot;tree&quot; id=&quot;container&quot;&gt;\\n    \\n    &lt;li class=&quot;tier-1 element-1&quot;&gt;\\n        &lt;a href=&quot;/about/&quot; &gt;About&lt;/a&gt;\\n        \\n            \\n\\n&lt;ul class=&quot;subnav menu&quot;&gt;\\n    \\n        &lt;li class=&quot;tier-2 element-1&quot; role=&quot;treeitem&quot;&gt;&lt;a href=&quot;/about/apps/&quot; title=&quot;&quot;&gt;Applications&lt;/a&gt;&lt;/li&gt;\\n    \\n        &lt;li class=&quot;tier-2 element-2&quot; role=&quot;treeitem&quot;&gt;&lt;a href=&quot;/about/quotes/&quot; title=&quot;&quot;&gt;Quotes&lt;/a&gt;&lt;/li&gt;\\n    \\n        &lt;li class=&quot;tier-2 element-3&quot; role=&quot;treeitem&quot;&gt;&lt;a href=&quot;/about/gettingstarted/&quot; title=&quot;&quot;&gt;Getting Started&lt;/a&gt;&lt;/li&gt;\\n    \\n        &lt;li class=&quot;tier-2 element-4&quot; role=&quot;treeitem&quot;&gt;&lt;a href=&quot;/about/help/&quot; title=&quot;&quot;&gt;Help&lt;/a&gt;&lt;/li&gt;\\n    \\n        &lt;li class=&quot;tier-2 element-5&quot; role=&quot;treeitem&quot;&gt;&lt;a href=&quot;http://brochure.getpython.info/&quot; title=&quot;&quot;&gt;Python Brochure&lt;/a&gt;&lt;/li&gt;\\n    \\n&lt;/ul&gt;\\n\\n        \\n    &lt;/li&gt;\\n    \\n    &lt;li class=&quot;tier-1 element-2&quot;&gt;\\n        &lt;a href=&quot;/downloads/&quot; &gt;Downloads&lt;/a&gt;\\n        \\n            \\n\\n&lt;ul class=&quot;subnav menu&quot;&gt;\\n    \\n        &lt;li class=&quot;tier-2 element-1&quot; role=&quot;treeitem&quot;&gt;&lt;a href=&quot;/downloads/&quot; title=&quot;&quot;&gt;All releases&lt;/a&gt;&lt;/li&gt;\\n    \\n        &lt;li class=&quot;tier-2 element-2&quot; role=&quot;treeitem&quot;&gt;&lt;a href=&quot;/downloads/source/&quot; title=&quot;&quot;&gt;Source code&lt;/a&gt;&lt;/li&gt;\\n    \\n        &lt;li class=&quot;tier-2 element-3&quot; role=&quot;treeitem&quot;&gt;&lt;a href=&quot;/downloads/windows/&quot; title=&quot;&quot;&gt;Windows&lt;/a&gt;&lt;/li&gt;\\n    \\n        &lt;li class=&quot;tier-2 element-4&quot; role=&quot;treeitem&quot;&gt;&lt;a href=&quot;/downloads/mac-osx/&quot; title=&quot;&quot;&gt;Mac OS X&lt;/a&gt;&lt;/li&gt;\\n    \\n        &lt;li class=&quot;tier-2 element-5&quot; role=&quot;treeitem&quot;&gt;&lt;a href=&quot;/download/other/&quot; title=&quot;&quot;&gt;Other Platforms&lt;/a&gt;&lt;/li&gt;\\n    \\n        &lt;li class=&quot;tier-2 element-6&quot; role=&quot;treeitem&quot;&gt;&lt;a href=&quot;https://docs.python.org/3/license.html&quot; title=&quot;&quot;&gt;License&lt;/a&gt;&lt;/li&gt;\\n    \\n        &lt;li class=&quot;tier-2 element-7&quot; role=&quot;treeitem&quot;&gt;&lt;a href=&quot;/download/alternatives&quot; title=&quot;&quot;&gt;Alternative Implementations&lt;/a&gt;&lt;/li&gt;\\n    \\n&lt;/ul&gt;\\n\\n        \\n    &lt;/li&gt;\\n    \\n    &lt;li class=&quot;tier-1 element-3&quot;&gt;\\n        &lt;a href=&quot;/doc/&quot; &gt;Documentation&lt;/a&gt;\\n        \\n            \\n\\n&lt;ul class=&quot;subnav menu&quot;&gt;\\n    \\n        &lt;li class=&quot;tier-2 element-1&quot; role=&quot;treeitem&quot;&gt;&lt;a href=&quot;/doc/&quot; title=&quot;&quot;&gt;Docs&lt;/a&gt;&lt;/li&gt;\\n    \\n        &lt;li class=&quot;tier-2 element-2&quot; role=&quot;treeitem&quot;&gt;&lt;a href=&quot;/doc/av&quot; title=&quot;&quot;&gt;Audio/Visual Talks&lt;/a&gt;&lt;/li&gt;\\n    \\n        &lt;li class=&quot;tier-2 element-3&quot; role=&quot;treeitem&quot;&gt;&lt;a href=&quot;https://wiki.python.org/moin/BeginnersGuide&quot; title=&quot;&quot;&gt;Beginner&amp;#39;s Guide&lt;/a&gt;&lt;/li&gt;\\n    \\n        &lt;li class=&quot;tier-2 element-4&quot; role=&quot;treeitem&quot;&gt;&lt;a href=&quot;https://devguide.python.org/&quot; title=&quot;&quot;&gt;Developer&amp;#39;s Guide&lt;/a&gt;&lt;/li&gt;\\n    \\n        &lt;li class=&quot;tier-2 element-5&quot; role=&quot;treeitem&quot;&gt;&lt;a href=&quot;https://docs.python.org/faq/&quot; title=&quot;&quot;&gt;FAQ&lt;/a&gt;&lt;/li&gt;\\n    \\n        &lt;li class=&quot;tier-2 element-6&quot; role=&quot;treeitem&quot;&gt;&lt;a href=&quot;http://wiki.python.org/moin/Languages&quot; title=&quot;&quot;&gt;Non-English Docs&lt;/a&gt;&lt;/li&gt;\\n    \\n        &lt;li class=&quot;tier-2 element-7&quot; role=&quot;treeitem&quot;&gt;&lt;a href=&quot;http://python.org/dev/peps/&quot; title=&quot;&quot;&gt;PEP Index&lt;/a&gt;&lt;/li&gt;\\n    \\n        &lt;li class=&quot;tier-2 element-8&quot; role=&quot;treeitem&quot;&gt;&lt;a href=&quot;https://wiki.python.org/moin/PythonBooks&quot; title=&quot;&quot;&gt;Python Books&lt;/a&gt;&lt;/li&gt;\\n    \\n        &lt;li class=&quot;tier-2 element-9&quot; role=&quot;treeitem&quot;&gt;&lt;a href=&quot;/doc/essays/&quot; title=&quot;&quot;&gt;Python Essays&lt;/a&gt;&lt;/li&gt;\\n    \\n&lt;/ul&gt;\\n\\n        \\n    &lt;/li&gt;\\n    \\n    &lt;li class=&quot;tier-1 element-4&quot;&gt;\\n        &lt;a href=&quot;/community/&quot; &gt;Community&lt;/a&gt;\\n        \\n            \\n\\n&lt;ul class=&quot;subnav menu&quot;&gt;\\n    \\n        &lt;li class=&quot;tier-2 element-1&quot; role=&quot;treeitem&quot;&gt;&lt;a href=&quot;/community/survey&quot; title=&quot;&quot;&gt;Community Survey&lt;/a&gt;&lt;/li&gt;\\n    \\n        &lt;li class=&quot;tier-2 element-2&quot; role=&quot;treeitem&quot;&gt;&lt;a href=&quot;/community/diversity/&quot; title=&quot;&quot;&gt;Diversity&lt;/a&gt;&lt;/li&gt;\\n    \\n        &lt;li class=&quot;tier-2 element-3&quot; role=&quot;treeitem&quot;&gt;&lt;a href=&quot;/community/lists/&quot; title=&quot;&quot;&gt;Mailing Lists&lt;/a&gt;&lt;/li&gt;\\n    \\n        &lt;li class=&quot;tier-2 element-4&quot; role=&quot;treeitem&quot;&gt;&lt;a href=&quot;/community/irc/&quot; title=&quot;&quot;&gt;IRC&lt;/a&gt;&lt;/li&gt;\\n    \\n        &lt;li class=&quot;tier-2 element-5&quot; role=&quot;treeitem&quot;&gt;&lt;a href=&quot;/community/forums/&quot; title=&quot;&quot;&gt;Forums&lt;/a&gt;&lt;/li&gt;\\n    \\n        &lt;li class=&quot;tier-2 element-6&quot; role=&quot;treeitem&quot;&gt;&lt;a href=&quot;/psf/annual-report/2020/&quot; title=&quot;&quot;&gt;PSF Annual Impact Report&lt;/a&gt;&lt;/li&gt;\\n    \\n        &lt;li class=&quot;tier-2 element-7&quot; role=&quot;treeitem&quot;&gt;&lt;a href=&quot;/community/workshops/&quot; title=&quot;&quot;&gt;Python Conferences&lt;/a&gt;&lt;/li&gt;\\n    \\n        &lt;li class=&quot;tier-2 element-8&quot; role=&quot;treeitem&quot;&gt;&lt;a href=&quot;/community/sigs/&quot; title=&quot;&quot;&gt;Special Interest Groups&lt;/a&gt;&lt;/li&gt;\\n    \\n        &lt;li class=&quot;tier-2 element-9&quot; role=&quot;treeitem&quot;&gt;&lt;a href=&quot;/community/logos/&quot; title=&quot;&quot;&gt;Python Logo&lt;/a&gt;&lt;/li&gt;\\n    \\n        &lt;li class=&quot;tier-2 element-10&quot; role=&quot;treeitem&quot;&gt;&lt;a href=&quot;https://wiki.python.org/moin/&quot; title=&quot;&quot;&gt;Python Wiki&lt;/a&gt;&lt;/li&gt;\\n    \\n        &lt;li class=&quot;tier-2 element-11&quot; role=&quot;treeitem&quot;&gt;&lt;a href=&quot;/community/merchandise/&quot; title=&quot;&quot;&gt;Merchandise&lt;/a&gt;&lt;/li&gt;\\n    \\n        &lt;li class=&quot;tier-2 element-12&quot; role=&quot;treeitem&quot;&gt;&lt;a href=&quot;/community/awards&quot; title=&quot;&quot;&gt;Community Awards&lt;/a&gt;&lt;/li&gt;\\n    \\n        &lt;li class=&quot;tier-2 element-13&quot; role=&quot;treeitem&quot;&gt;&lt;a href=&quot;/psf/conduct/&quot; title=&quot;&quot;&gt;Code of Conduct&lt;/a&gt;&lt;/li&gt;\\n    \\n        &lt;li class=&quot;tier-2 element-14&quot; role=&quot;treeitem&quot;&gt;&lt;a href=&quot;/psf/get-involved/&quot; title=&quot;&quot;&gt;Get Involved&lt;/a&gt;&lt;/li&gt;\\n    \\n&lt;/ul&gt;\\n\\n        \\n    &lt;/li&gt;\\n    \\n    &lt;li class=&quot;tier-1 element-5&quot;&gt;\\n        &lt;a href=&quot;/success-stories/&quot; title=&quot;success-stories&quot;&gt;Success Stories&lt;/a&gt;\\n        \\n            \\n\\n&lt;ul class=&quot;subnav menu&quot;&gt;\\n    \\n        &lt;li class=&quot;tier-2 element-1&quot; role=&quot;treeitem&quot;&gt;&lt;a href=&quot;/success-stories/category/arts/&quot; title=&quot;&quot;&gt;Arts&lt;/a&gt;&lt;/li&gt;\\n    \\n        &lt;li class=&quot;tier-2 element-2&quot; role=&quot;treeitem&quot;&gt;&lt;a href=&quot;/success-stories/category/business/&quot; title=&quot;&quot;&gt;Business&lt;/a&gt;&lt;/li&gt;\\n    \\n        &lt;li class=&quot;tier-2 element-3&quot; role=&quot;treeitem&quot;&gt;&lt;a href=&quot;/success-stories/category/education/&quot; title=&quot;&quot;&gt;Education&lt;/a&gt;&lt;/li&gt;\\n    \\n        &lt;li class=&quot;tier-2 element-4&quot; role=&quot;treeitem&quot;&gt;&lt;a href=&quot;/success-stories/category/engineering/&quot; title=&quot;&quot;&gt;Engineering&lt;/a&gt;&lt;/li&gt;\\n    \\n        &lt;li class=&quot;tier-2 element-5&quot; role=&quot;treeitem&quot;&gt;&lt;a href=&quot;/success-stories/category/government/&quot; title=&quot;&quot;&gt;Government&lt;/a&gt;&lt;/li&gt;\\n    \\n        &lt;li class=&quot;tier-2 element-6&quot; role=&quot;treeitem&quot;&gt;&lt;a href=&quot;/success-stories/category/scientific/&quot; title=&quot;&quot;&gt;Scientific&lt;/a&gt;&lt;/li&gt;\\n    \\n        &lt;li class=&quot;tier-2 element-7&quot; role=&quot;treeitem&quot;&gt;&lt;a href=&quot;/success-stories/category/software-development/&quot; title=&quot;&quot;&gt;Software Development&lt;/a&gt;&lt;/li&gt;\\n    \\n&lt;/ul&gt;\\n\\n        \\n    &lt;/li&gt;\\n    \\n    &lt;li class=&quot;tier-1 element-6&quot;&gt;\\n        &lt;a href=&quot;/blogs/&quot; title=&quot;News from around the Python world&quot;&gt;News&lt;/a&gt;\\n        \\n            \\n\\n&lt;ul class=&quot;subnav menu&quot;&gt;\\n    \\n        &lt;li class=&quot;tier-2 element-1&quot; role=&quot;treeitem&quot;&gt;&lt;a href=&quot;/blogs/&quot; title=&quot;Python Insider Blog Posts&quot;&gt;Python News&lt;/a&gt;&lt;/li&gt;\\n    \\n        &lt;li class=&quot;tier-2 element-2&quot; role=&quot;treeitem&quot;&gt;&lt;a href=&quot;/psf/newsletter/&quot; title=&quot;Python Software Foundation Newsletter&quot;&gt;PSF Newsletter&lt;/a&gt;&lt;/li&gt;\\n    \\n        &lt;li class=&quot;tier-2 element-3&quot; role=&quot;treeitem&quot;&gt;&lt;a href=&quot;http://planetpython.org/&quot; title=&quot;Planet Python&quot;&gt;Community News&lt;/a&gt;&lt;/li&gt;\\n    \\n        &lt;li class=&quot;tier-2 element-4&quot; role=&quot;treeitem&quot;&gt;&lt;a href=&quot;http://pyfound.blogspot.com/&quot; title=&quot;PSF Blog&quot;&gt;PSF News&lt;/a&gt;&lt;/li&gt;\\n    \\n        &lt;li class=&quot;tier-2 element-5&quot; role=&quot;treeitem&quot;&gt;&lt;a href=&quot;http://pycon.blogspot.com/&quot; title=&quot;PyCon Blog&quot;&gt;PyCon News&lt;/a&gt;&lt;/li&gt;\\n    \\n&lt;/ul&gt;\\n\\n        \\n    &lt;/li&gt;\\n    \\n    &lt;li class=&quot;tier-1 element-7&quot;&gt;\\n        &lt;a href=&quot;/events/&quot; &gt;Events&lt;/a&gt;\\n        \\n            \\n\\n&lt;ul class=&quot;subnav menu&quot;&gt;\\n    \\n        &lt;li class=&quot;tier-2 element-1&quot; role=&quot;treeitem&quot;&gt;&lt;a href=&quot;/events/python-events&quot; title=&quot;&quot;&gt;Python Events&lt;/a&gt;&lt;/li&gt;\\n    \\n        &lt;li class=&quot;tier-2 element-2&quot; role=&quot;treeitem&quot;&gt;&lt;a href=&quot;/events/python-user-group/&quot; title=&quot;&quot;&gt;User Group Events&lt;/a&gt;&lt;/li&gt;\\n    \\n        &lt;li class=&quot;tier-2 element-3&quot; role=&quot;treeitem&quot;&gt;&lt;a href=&quot;/events/python-events/past/&quot; title=&quot;&quot;&gt;Python Events Archive&lt;/a&gt;&lt;/li&gt;\\n    \\n        &lt;li class=&quot;tier-2 element-4&quot; role=&quot;treeitem&quot;&gt;&lt;a href=&quot;/events/python-user-group/past/&quot; title=&quot;&quot;&gt;User Group Events Archive&lt;/a&gt;&lt;/li&gt;\\n    \\n        &lt;li class=&quot;tier-2 element-5&quot; role=&quot;treeitem&quot;&gt;&lt;a href=&quot;https://wiki.python.org/moin/PythonEventsCalendar#Submitting_an_Event&quot; title=&quot;&quot;&gt;Submit an Event&lt;/a&gt;&lt;/li&gt;\\n    \\n&lt;/ul&gt;\\n\\n        \\n    &lt;/li&gt;\\n    \\n    &lt;li class=&quot;tier-1 element-8&quot;&gt;\\n        &lt;a href=&quot;/dev/&quot; &gt;Contributing&lt;/a&gt;\\n        \\n            \\n\\n&lt;ul class=&quot;subnav menu&quot;&gt;\\n    \\n        &lt;li class=&quot;tier-2 element-1&quot; role=&quot;treeitem&quot;&gt;&lt;a href=&quot;https://devguide.python.org/&quot; title=&quot;&quot;&gt;Developer&amp;#39;s Guide&lt;/a&gt;&lt;/li&gt;\\n    \\n        &lt;li class=&quot;tier-2 element-2&quot; role=&quot;treeitem&quot;&gt;&lt;a href=&quot;https://bugs.python.org/&quot; title=&quot;&quot;&gt;Issue Tracker&lt;/a&gt;&lt;/li&gt;\\n    \\n        &lt;li class=&quot;tier-2 element-3&quot; role=&quot;treeitem&quot;&gt;&lt;a href=&quot;https://mail.python.org/mailman/listinfo/python-dev&quot; title=&quot;&quot;&gt;python-dev list&lt;/a&gt;&lt;/li&gt;\\n    \\n        &lt;li class=&quot;tier-2 element-4&quot; role=&quot;treeitem&quot;&gt;&lt;a href=&quot;/dev/core-mentorship/&quot; title=&quot;&quot;&gt;Core Mentorship&lt;/a&gt;&lt;/li&gt;\\n    \\n        &lt;li class=&quot;tier-2 element-5&quot; role=&quot;treeitem&quot;&gt;&lt;a href=&quot;/dev/security/&quot; title=&quot;&quot;&gt;Report a Security Issue&lt;/a&gt;&lt;/li&gt;\\n    \\n&lt;/ul&gt;\\n\\n        \\n    &lt;/li&gt;\\n    \\n&lt;/ul&gt;\\n\\n\\n                    &lt;a id=&quot;back-to-top-2&quot; class=&quot;jump-link&quot; href=&quot;#python-network&quot;&gt;&lt;span aria-hidden=&quot;true&quot; class=&quot;icon-arrow-up&quot;&gt;&lt;span&gt;&amp;#9650;&lt;/span&gt;&lt;/span&gt; Back to Top&lt;/a&gt;\\n                    \\n\\n                &lt;/div&gt;&lt;!-- end .container --&gt;\\n            &lt;/div&gt; &lt;!-- end .main-footer-links --&gt;\\n\\n            &lt;div class=&quot;site-base&quot;&gt;\\n                &lt;div class=&quot;container&quot;&gt;\\n                    \\n                    &lt;ul class=&quot;footer-links navigation menu do-not-print&quot; role=&quot;tree&quot;&gt;\\n                        &lt;li class=&quot;tier-1 element-1&quot;&gt;&lt;a href=&quot;/about/help/&quot;&gt;Help &amp;amp; &lt;span class=&quot;say-no-more&quot;&gt;General&lt;/span&gt; Contact&lt;/a&gt;&lt;/li&gt;\\n                        &lt;li class=&quot;tier-1 element-2&quot;&gt;&lt;a href=&quot;/community/diversity/&quot;&gt;Diversity &lt;span class=&quot;say-no-more&quot;&gt;Initiatives&lt;/span&gt;&lt;/a&gt;&lt;/li&gt;\\n                        &lt;li class=&quot;tier-1 element-3&quot;&gt;&lt;a href=&quot;https://github.com/python/pythondotorg/issues&quot;&gt;Submit Website Bug&lt;/a&gt;&lt;/li&gt;\\n                        &lt;li class=&quot;tier-1 element-4&quot;&gt;\\n                            &lt;a href=&quot;https://status.python.org/&quot;&gt;Status &lt;span class=&quot;python-status-indicator-default&quot; id=&quot;python-status-indicator&quot;&gt;&lt;/span&gt;&lt;/a&gt;\\n                        &lt;/li&gt;\\n                    &lt;/ul&gt;\\n\\n                    &lt;div class=&quot;copyright&quot;&gt;\\n                        &lt;p&gt;&lt;small&gt;\\n                            &lt;span class=&quot;pre&quot;&gt;Copyright &amp;copy;2001-2020.&lt;/span&gt;\\n                            &amp;nbsp;&lt;span class=&quot;pre&quot;&gt;&lt;a href=&quot;/psf-landing/&quot;&gt;Python Software Foundation&lt;/a&gt;&lt;/span&gt;\\n                            &amp;nbsp;&lt;span class=&quot;pre&quot;&gt;&lt;a href=&quot;/about/legal/&quot;&gt;Legal Statements&lt;/a&gt;&lt;/span&gt;\\n                            &amp;nbsp;&lt;span class=&quot;pre&quot;&gt;&lt;a href=&quot;/privacy/&quot;&gt;Privacy Policy&lt;/a&gt;&lt;/span&gt;\\n                            &amp;nbsp;&lt;span class=&quot;pre&quot;&gt;&lt;a href=&quot;/psf/sponsorship/sponsors/#heroku&quot;&gt;Powered by Heroku&lt;/a&gt;&lt;/span&gt;\\n                        &lt;/small&gt;&lt;/p&gt;\\n                    &lt;/div&gt;\\n\\n                &lt;/div&gt;&lt;!-- end .container --&gt;\\n            &lt;/div&gt;&lt;!-- end .site-base --&gt;\\n\\n        &lt;/footer&gt;\\n\\n    &lt;/div&gt;&lt;!-- end #touchnav-wrapper --&gt;\\n\\n    \\n    &lt;script src=&quot;//ajax.googleapis.com/ajax/libs/jquery/1.8.2/jquery.min.js&quot;&gt;&lt;/script&gt;\\n    &lt;script&gt;window.jQuery || document.write(\\&#39;&lt;script src=&quot;/static/js/libs/jquery-1.8.2.min.js&quot;&gt;&lt;\\\\/script&gt;\\&#39;)&lt;/script&gt;\\n\\n    &lt;script src=&quot;/static/js/libs/masonry.pkgd.min.js&quot;&gt;&lt;/script&gt;\\n    &lt;script src=&quot;/static/js/libs/html-includes.js&quot;&gt;&lt;/script&gt;\\n\\n    &lt;script type=&quot;text/javascript&quot; src=&quot;/static/js/main-min.54f74dc425e5.js&quot; charset=&quot;utf-8&quot;&gt;&lt;/script&gt;\\n    \\n\\n    &lt;!--[if lte IE 7]&gt;\\n    &lt;script type=&quot;text/javascript&quot; src=&quot;/static/js/plugins/IE8-min.fe6fb71c710c.js&quot; charset=&quot;utf-8&quot;&gt;&lt;/script&gt;\\n    \\n    \\n    &lt;![endif]--&gt;\\n\\n    &lt;!--[if lte IE 8]&gt;\\n    &lt;script type=&quot;text/javascript&quot; src=&quot;/static/js/plugins/getComputedStyle-min.c3860be1d290.js&quot; charset=&quot;utf-8&quot;&gt;&lt;/script&gt;\\n    \\n    \\n    &lt;![endif]--&gt;\\n\\n    \\n\\n    \\n    \\n\\n&lt;/body&gt;\\n&lt;/html&gt;\\n&#39;\n"
    }
   ],
   "source": [
    "# read one html file\n",
    "\n",
    "import urllib.request\n",
    "\n",
    "response = urllib.request.urlopen('http://python.org/')\n",
    "html = response.read()\n",
    "print(html)"
   ]
  },
  {
   "cell_type": "markdown",
   "metadata": {},
   "source": [
    "## Library for Performance Measurement\n",
    "\n",
    "The *timeit* module measures the performance of the program"
   ]
  },
  {
   "cell_type": "code",
   "execution_count": 16,
   "metadata": {
    "tags": []
   },
   "outputs": [
    {
     "output_type": "stream",
     "name": "stdout",
     "text": "time 1 =  0.04706230000002165\ntime 2 =  0.027886600000016415\n"
    }
   ],
   "source": [
    "from timeit import Timer\n",
    "\n",
    "print('time 1 = ', Timer('t=a; a=b; b=t', 'a=1; b=2').timeit())\n",
    "print('time 2 = ', Timer('a,b = b,a', 'a=1; b=2').timeit())\n"
   ]
  },
  {
   "cell_type": "code",
   "execution_count": null,
   "metadata": {},
   "outputs": [],
   "source": []
  }
 ],
 "metadata": {
  "kernelspec": {
   "name": "Python 3.8.5 32-bit",
   "display_name": "Python 3.8.5 32-bit",
   "metadata": {
    "interpreter": {
     "hash": "6236e50c5dc245ad4c3c7285518662f2c3c17f40ef1ba5dce0d0def021db3289"
    }
   }
  },
  "language_info": {
   "codemirror_mode": {
    "name": "ipython",
    "version": 3
   },
   "file_extension": ".py",
   "mimetype": "text/x-python",
   "name": "python",
   "nbconvert_exporter": "python",
   "pygments_lexer": "ipython3",
   "version": "3.8.5-final"
  }
 },
 "nbformat": 4,
 "nbformat_minor": 2
}