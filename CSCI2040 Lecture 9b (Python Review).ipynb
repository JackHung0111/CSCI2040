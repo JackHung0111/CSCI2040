{
 "cells": [
  {
   "cell_type": "markdown",
   "metadata": {},
   "source": [
    "# Python Review\n",
    "\n",
    "Let's review what we have learnt, and try the following interesting questions.\n",
    "\n",
    "**Created and edited by**  John C.S. Lui on August 14, 2020.\n",
    "\n",
    "**Important note:** *If you want to use and modify this notebook file, please acknowledge the author.*"
   ]
  },
  {
   "cell_type": "markdown",
   "metadata": {},
   "source": [
    "### Question:   What is the difference between list and tuple in Python?\n",
    "\n",
    "|  list  |   tuple  |\n",
    "| :--------| :----------|\n",
    "|Lists are mutable | Tuples are immutable  |\n",
    "|Processing of list takes longer    | Proceessing of tuple is shorter |\n",
    "| **Syntax**: my_list = [100, ‘Irene’, 200]   |  **Syntax**: my_tuple =(100, 'Irene', 200) |\n",
    "\n"
   ]
  },
  {
   "cell_type": "markdown",
   "metadata": {},
   "source": [
    "### Question: What are the key features of Python?\n",
    "\n",
    "Python is:\n",
    "\n",
    "* an **interpreted** language\n",
    "* **dynamically typed**  \n",
    "* Object-oriented programming language\n",
    "* Functional programming language\n",
    "* A fast prototype (scripting) programming language, but one can include C codes to speed up execution\n",
    "* Use in variety of applications like web, scientific computation, ML, data processing and data analytics"
   ]
  },
  {
   "cell_type": "markdown",
   "metadata": {},
   "source": [
    "### Question: How is memory managed in Python?\n",
    "\n",
    "1. Memory management in python is managed by Python **private heap space**. All Python objects and data structures are located in a private heap. The programmer does not have access to this private heap. The python interpreter takes care of this instead.\n",
    "\n",
    "2. The allocation of heap space for Python objects is done by Python’s memory manager. The core API gives access to some tools for the programmer to code.\n",
    "\n",
    "3. Python also has an inbuilt garbage collector, which recycles all the unused memory and so that it can be made available to the heap space.\n"
   ]
  },
  {
   "cell_type": "markdown",
   "metadata": {},
   "source": [
    "### Question: What is PYTHONPATH?\n",
    "\n",
    "It is an environment variable which is used when a module is imported. Whenever a module is imported, PYTHONPATH is also looked up to check for the presence of the imported modules in various directories. The interpreter uses it to determine which module to load."
   ]
  },
  {
   "cell_type": "markdown",
   "metadata": {},
   "source": [
    "### Question: What are some common built-in Python modules?\n",
    "\n",
    "Python modules are files containing Python code. This code can either be functions classes or variables. A Python module is a .py file containing executable code.\n",
    "\n",
    "Some common moduels are: os, sys, math, random, data time, JSON,..etc"
   ]
  },
  {
   "cell_type": "markdown",
   "metadata": {},
   "source": [
    "### Question: What are local variables and global variables in Python?\n",
    "\n",
    "Variables declared outside a function or in global space are called **global variables**. These variables can be accessed by any function in the program.  On the other hand,\n",
    "any variable declared inside a function is known as a local variable and can only \n",
    "be used inside the declared function."
   ]
  },
  {
   "cell_type": "markdown",
   "metadata": {},
   "source": [
    "### Question: Is Python case sensitive?   \n",
    "\n",
    "Yes\n"
   ]
  },
  {
   "cell_type": "markdown",
   "metadata": {},
   "source": [
    "### Question: What are some examples of type conversion in Python?\n",
    "\n",
    "int() – converts any data type into integer type\n",
    "\n",
    "float() – converts any data type into float type\n",
    "\n",
    "ord() – converts characters into integer\n",
    "\n",
    "hex() – converts integers to hexadecimal\n",
    "\n",
    "oct() – converts integer to octal\n",
    "\n",
    "tuple() – This function is used to convert to a tuple.\n",
    "\n",
    "set() – This function returns the type after converting to set.\n",
    "\n",
    "list() – This function is used to convert any data type to a list type.\n",
    "\n",
    "dict() – This function is used to convert a tuple of order (key,value) into a dictionary.\n",
    "\n",
    "str() – Used to convert integer into a string.\n",
    "\n",
    "complex(real,imag) – This functionconverts real numbers to complex(real,imag) number."
   ]
  },
  {
   "cell_type": "markdown",
   "metadata": {},
   "source": [
    "### Question: What are functions in Python?\n",
    "\n",
    "A function is a block of code which is executed only when it is called.  Example:\n",
    "\n",
    "def Newfunc():<br>\n",
    "  &nbsp; &nbsp; &nbsp; print(\"Hi, Welcome to Hong Kong, CHINA.\")\n",
    "  \n",
    "Newfunc(); #calling the funct"
   ]
  },
  {
   "cell_type": "markdown",
   "metadata": {},
   "source": [
    "### Quesiton: What is `__init__` in Python?\n",
    "\n",
    "`__init__` is a  constructor in Python. It is automatically called to allocate memory when a new object/ instance of a class is created. All classes have the `__init__` method."
   ]
  },
  {
   "cell_type": "markdown",
   "metadata": {},
   "source": [
    "### Question: What is a lambda function?\n",
    "\n",
    "It is a **anonymous** function which can have any number of parameters but can have just one statement.  Example\n",
    "\n",
    "a = lambda x,y: x+y<br>\n",
    "print(a(6,7))\n",
    "\n"
   ]
  },
  {
   "cell_type": "markdown",
   "metadata": {},
   "source": [
    "### Question:  What is `self` in Python?\n",
    "\n",
    "`self` is an instance of a class. In Python, this is explicitly included as the first parameter (which is not the case in Java). It helps to differentiate between the methods and attributes of a class with local variables."
   ]
  },
  {
   "cell_type": "markdown",
   "metadata": {},
   "source": [
    "### Question: How does break, continue and pass work?\n",
    "\n",
    "|         |           |\n",
    "| :----:  | :-------- |\n",
    "| **Break** | Allows loop termination when some condition is met and the control is transferred to the next statement. |\n",
    "| **Continue** | Allows skipping some part of a loop when some specific condition is met and the control is transferred to the beginning of the loop |\n",
    "| **Pass** | Used when you need some block of code syntactically, but you want to skip its execution. This is basically a null operation. Nothing happens when this is executed.|\n"
   ]
  },
  {
   "cell_type": "markdown",
   "metadata": {},
   "source": [
    "### Question:  What does `[::-1]` do?\n",
    "\n",
    "It is used to reverse the order of an iterable object."
   ]
  },
  {
   "cell_type": "code",
   "execution_count": 1,
   "metadata": {},
   "outputs": [
    {
     "output_type": "execute_result",
     "data": {
      "text/plain": "[5, 4, 3, 2, 1]"
     },
     "metadata": {},
     "execution_count": 1
    }
   ],
   "source": [
    "my_list = [1,2,3,4,5]\n",
    "my_list[::-1]"
   ]
  },
  {
   "cell_type": "markdown",
   "metadata": {},
   "source": [
    "### Question: How can you randomize the items of a list in place in Python?"
   ]
  },
  {
   "cell_type": "code",
   "execution_count": 2,
   "metadata": {
    "tags": []
   },
   "outputs": [
    {
     "output_type": "stream",
     "name": "stdout",
     "text": "before shuffle: [&#39;Peter&#39;, &#39;Paul&#39;, &#39;Mary&#39;, &#39;Jimmy&#39;, &#39;Lulu&#39;, &#39;Nancy&#39;]\nafter shuffle: [&#39;Mary&#39;, &#39;Nancy&#39;, &#39;Lulu&#39;, &#39;Paul&#39;, &#39;Jimmy&#39;, &#39;Peter&#39;]\n"
    }
   ],
   "source": [
    "from random import shuffle\n",
    "my_list = ['Peter','Paul', 'Mary', 'Jimmy', 'Lulu', 'Nancy']\n",
    "print('before shuffle:', my_list)\n",
    "shuffle(my_list)\n",
    "print('after shuffle:', my_list)"
   ]
  },
  {
   "cell_type": "markdown",
   "metadata": {},
   "source": [
    "### Question: How can you generate random numbers in Python?\n",
    "\n",
    "You first import the model `random`, then you cause use\n",
    "\n",
    "1. `random.random()` to generate a floating point number that is in the range of `[0, 1)`\n",
    "2. `randrange(a, b)` to generate an integer in  the range in-between `[a, b)`\n",
    "3. `uniform(a, b)` to geenerate a floating point number that is defined in the range of `[a,b)`.\n",
    "4. `normalvariate(mean, sdev)`to generate a random number according to a normal distribution with a `mean` as average and `sdev` as standard deviation.\n"
   ]
  },
  {
   "cell_type": "markdown",
   "metadata": {},
   "source": [
    "### Question:   What is pickling and unpickling?\n",
    "\n",
    "Pickle module accepts any Python object and converts it into a string representation and dumps it into a file by using `dump` function, this process is called pickling. While the process of retrieving original Python objects from the stored string representation is called unpickling."
   ]
  },
  {
   "cell_type": "markdown",
   "metadata": {},
   "source": [
    "### Question: What are the generators in python?\n",
    "\n",
    "Functions that return an iterable set of items are called generators."
   ]
  },
  {
   "cell_type": "markdown",
   "metadata": {},
   "source": [
    "### How will you capitalize the first letter of string?\n",
    "\n",
    "Use the the `capitalize()` method."
   ]
  },
  {
   "cell_type": "code",
   "execution_count": 3,
   "metadata": {
    "tags": []
   },
   "outputs": [
    {
     "output_type": "stream",
     "name": "stdout",
     "text": "This is a test.\n"
    }
   ],
   "source": [
    "my_string = 'this is a test.'\n",
    "print(my_string.capitalize())"
   ]
  },
  {
   "cell_type": "markdown",
   "metadata": {},
   "source": [
    "###  Question: How will you convert a string to all lowercase?\n",
    "\n",
    "Use `lower()` method."
   ]
  },
  {
   "cell_type": "code",
   "execution_count": 4,
   "metadata": {
    "tags": []
   },
   "outputs": [
    {
     "output_type": "stream",
     "name": "stdout",
     "text": "this is nut!\n"
    }
   ],
   "source": [
    "my_string = 'THIS IS NUT!'\n",
    "print(my_string.lower())"
   ]
  },
  {
   "cell_type": "markdown",
   "metadata": {},
   "source": [
    "### Question: What is a dictionary in Python?\n",
    "\n",
    "Dictionary is built-in datatype in Python. It defines one-to-one relationship between *keys* and *values*. Dictionaries contain pair of keys and their corresponding values, and dictionaries  are indexed by keys."
   ]
  },
  {
   "cell_type": "code",
   "execution_count": 5,
   "metadata": {
    "tags": []
   },
   "outputs": [
    {
     "output_type": "stream",
     "name": "stdout",
     "text": "China\n"
    }
   ],
   "source": [
    "my_dict={'Country':'China','Capital':'Beijing','Political belief':'Communism'}\n",
    "\n",
    "print(my_dict['Country'])"
   ]
  },
  {
   "cell_type": "markdown",
   "metadata": {},
   "source": [
    "### Question:  What does this mean: \\*args, \\*\\*kwargs? And why would we use it?\n",
    "\n",
    "We use \\*args when we aren’t sure how many arguments are going to be passed to a function, or if we want to pass a stored list or tuple of arguments to a function. \\*\\*kwargs is used when we don’t know how many keyword arguments will be passed to a function, or it can be used to pass the values of a dictionary as keyword arguments."
   ]
  },
  {
   "cell_type": "markdown",
   "metadata": {},
   "source": [
    "### Question What does `len()` do?\n",
    "\n",
    "We can use it to  determine the length of a string, a list, an array, etc."
   ]
  },
  {
   "cell_type": "markdown",
   "metadata": {},
   "source": [
    "### Question: Explain `split(`), `sub()`, `subn()` methods of “re” module in Python.\n",
    "\n",
    "* `split()` – uses a regex pattern to “split” a given string into a list.\n",
    "* `sub()` – finds all substrings where the regex pattern matches and then replace them with a different string\n",
    "* `subn()` – it is similar to sub() and also returns the new string along with the no. of replacements."
   ]
  },
  {
   "cell_type": "markdown",
   "metadata": {},
   "source": [
    "### Question: What are Python packages?\n",
    "\n",
    "Python packages are namespaces containing multiple modules."
   ]
  },
  {
   "cell_type": "markdown",
   "metadata": {},
   "source": [
    "### Quetion: How can files be deleted in Python?\n",
    "\n",
    "import os <br>\n",
    "os.remove('file.txt')"
   ]
  },
  {
   "cell_type": "markdown",
   "metadata": {},
   "source": [
    "### Question: What advantages do NumPy arrays offer over (nested) Python lists?\n",
    "\n",
    "1. Python’s lists are efficient general-purpose containers. They support (fairly) efficient insertion, deletion, appending, and concatenation, and Python’s list comprehensions make them easy to construct and manipulate.\n",
    "2. List don’t support **“vectorized”** operations like elementwise addition and multiplication, and the fact that they can contain objects of differing types mean that Python must store type information for every element, and must execute type dispatching code when operating on each element.\n",
    "3. NumPy is more efficient and more convenient. One can perform various vector and matrix operations for free, which sometimes allow one to avoid unnecessary work. And they are also efficiently implemented.\n",
    "4. NumPy array is faster and has many functions like FFTs, convolutions, fast searching, basic statistics, linear algebra, histograms, etc. "
   ]
  },
  {
   "cell_type": "markdown",
   "metadata": {},
   "source": [
    "### Question:  How to add values  or remove values in a Python array?\n",
    "\n",
    "Array is similar to list but all elements in an array must be of the same type.\n",
    "\n",
    "One can use `append()`, `extend()` and the `insert()` functions to add values.\n",
    "\n",
    "One can use `pop()`or `remove()` to remove values in an array.\n"
   ]
  },
  {
   "cell_type": "code",
   "execution_count": 6,
   "metadata": {
    "tags": []
   },
   "outputs": [
    {
     "output_type": "stream",
     "name": "stdout",
     "text": "array(&#39;d&#39;, [1.1, 2.1, 3.1, 3.4])\narray(&#39;d&#39;, [1.1, 2.1, 3.1, 3.4, 4.5, 6.3, 6.8])\narray(&#39;d&#39;, [1.1, 2.1, 3.8, 3.1, 3.4, 4.5, 6.3, 6.8])\n6.8\narray(&#39;d&#39;, [1.1, 2.1, 3.8, 3.1, 3.4, 4.5, 6.3])\narray(&#39;d&#39;, [2.1, 3.8, 3.1, 3.4, 4.5, 6.3])\n"
    }
   ],
   "source": [
    "import array as arr\n",
    "\n",
    "a = arr.array('d', [1.1, 2.1, 3.1])\n",
    "a.append(3.4)\n",
    "print(a)\n",
    "a.extend([4.5,6.3,6.8])\n",
    "print(a)\n",
    "a.insert(2,3.8)\n",
    "print(a)\n",
    "\n",
    "# to remove value\n",
    "print(a.pop())\n",
    "print(a)\n",
    "a.remove(1.1)\n",
    "print(a)"
   ]
  },
  {
   "cell_type": "code",
   "execution_count": null,
   "metadata": {},
   "outputs": [],
   "source": []
  },
  {
   "cell_type": "markdown",
   "metadata": {},
   "source": [
    "### Question:  What is the difference between deep and shallow copy?\n",
    "\n",
    "*Shallow copy* is used when a new instance type gets created and it keeps the values that are copied in the new instance. Shallow copy is used to copy the reference pointers just like it copies the values. These references point to the original objects and the changes made in any member of the class will also affect the original copy of it. Shallow copy allows faster execution of the program and it depends on the size of the data that is used.\n",
    "\n",
    "*Deep copy* is used to store the values that are already copied. Deep copy doesn’t copy the reference pointers to the objects. It makes the reference to an object and the new object that is pointed by some other object gets stored. The changes made in the original copy won’t affect any other copy that uses the object. Deep copy makes execution of the program slower due to making certain copies for each object that is been called."
   ]
  },
  {
   "cell_type": "markdown",
   "metadata": {},
   "source": [
    "### Question:  How is Multithreading achieved in Python?\n",
    "\n",
    "1. Python has a multi-threading package.\n",
    "2. Python has a construct called the Global Interpreter Lock (GIL). The GIL makes sure that only one of your ‘threads’ can execute at any one time. A thread acquires the GIL, does a little work, then passes the GIL onto the next thread."
   ]
  },
  {
   "cell_type": "markdown",
   "metadata": {},
   "source": [
    "### Question: What is the process of compilation and linking in python?\n",
    "\n",
    "The compiling and linking allows the new extensions to be compiled properly without any error and the linking can be done only when it passes the compiled procedure. If the dynamic loading is used then it depends on the style that is being provided with the system. The python interpreter can be used to provide the dynamic loading of the configuration setup files and will rebuild the interpreter.\n",
    "\n",
    "The steps that are required in this as:\n",
    "1. Create a file with any name and in any language that is supported by the compiler of your system. For example file.c or file.cpp\n",
    "2. Place this file in the Modules/ directory of the distribution which is getting used.\n",
    "3. Add a line in the file `Setup.local` that is present in the Modules/ directory.\n",
    "4. Run the file using spam file.o\n",
    "5. After a successful run of this rebuild the interpreter by using the make command on the top-level directory.\n",
    "6. If the file is changed then run `rebuildMakefile` by using the command as ‘make Makefile’."
   ]
  },
  {
   "cell_type": "markdown",
   "metadata": {},
   "source": [
    "### Question: What are Python libraries? Name a few of them.\n",
    "\n",
    "Python libraries are a collection of Python packages.  Some well-known packagess are\n",
    "`Numpy`, `Scipy`, `Pandas`, `Matplotlib`, `scikit-learn`,..etc."
   ]
  },
  {
   "cell_type": "markdown",
   "metadata": {},
   "source": [
    "### Question: How to import modules in python?\n",
    "\n",
    "There are different ways to do import, examples are:\n",
    "\n",
    "1.  import array           &nbsp;&nbsp;&nbsp;&nbsp;&nbsp;&nbsp;# importing using the original module name\n",
    "2.  import array as arr    &nbsp;&nbsp;&nbsp;# importing using an alias name\n",
    "3.  from array import *    &nbsp;&nbsp;&nbsp;# imports everything present in the array module"
   ]
  },
  {
   "cell_type": "markdown",
   "metadata": {},
   "source": [
    "### Question: Explain Inheritance in Python with an example.\n",
    "\n",
    "Well, you should know this by now."
   ]
  },
  {
   "cell_type": "markdown",
   "metadata": {},
   "source": [
    "### Question: How are classes created in Python? \n",
    "\n",
    "Let's illustrate it via an example:\n"
   ]
  },
  {
   "cell_type": "code",
   "execution_count": 7,
   "metadata": {
    "tags": []
   },
   "outputs": [
    {
     "output_type": "stream",
     "name": "stdout",
     "text": "John the Terrible\n"
    }
   ],
   "source": [
    "class CUHK_employee: \n",
    "   def __init__(self, name):\n",
    "     self.name = name\n",
    "\n",
    "teacher_1 = CUHK_employee(\"John the Terrible\")\n",
    "print(teacher_1.name)"
   ]
  },
  {
   "cell_type": "markdown",
   "metadata": {},
   "source": [
    "### Question: Does python support multiple inheritance?\n",
    "\n",
    "Multiple inheritance means that a class can be derived from more than one parent classes. Python does support multiple inheritance, unlike Java."
   ]
  },
  {
   "cell_type": "markdown",
   "metadata": {},
   "source": [
    "### Question: What is Polymorphism in Python?\n",
    "\n",
    "Polymorphism means the ability to take multiple forms. So, for instance, if the parent class has a method named ABC then the child class also can have a method with the same name ABC having its own parameters and variables. Python allows polymorphism."
   ]
  },
  {
   "cell_type": "markdown",
   "metadata": {},
   "source": [
    "### Question: What is encapsulation in Python?\n",
    "\n",
    "Encapsulation means binding the code and the data together. A Python class in an example of encapsulation."
   ]
  },
  {
   "cell_type": "markdown",
   "metadata": {},
   "source": [
    "### Question: Write a Bubble sort program in Python"
   ]
  },
  {
   "cell_type": "code",
   "execution_count": 8,
   "metadata": {},
   "outputs": [
    {
     "output_type": "execute_result",
     "data": {
      "text/plain": "[3, 5, 6, 7, 32, 54, 87]"
     },
     "metadata": {},
     "execution_count": 8
    }
   ],
   "source": [
    "def bs(a):             # a = name of list\n",
    "    b=len(a)-1         # minus 1 because we always compare 2 adjacent values\n",
    "                             \n",
    "    for x in range(b):\n",
    "        for y in range(b-x):\n",
    "            if a[y]>a[y+1]:\n",
    "                a[y],a[y+1]=a[y+1],a[y]\n",
    "    return a\n",
    "a=[32,5,3,6,7,54,87]\n",
    "bs(a)"
   ]
  },
  {
   "cell_type": "markdown",
   "metadata": {},
   "source": [
    "### Question: Write a program in Python to produce Star triangle with the length of the base being the argument to a function."
   ]
  },
  {
   "cell_type": "code",
   "execution_count": 9,
   "metadata": {
    "tags": []
   },
   "outputs": [
    {
     "output_type": "stream",
     "name": "stdout",
     "text": "          *\n         ***\n        *****\n       *******\n      *********\n     ***********\n    *************\n   ***************\n  *****************\n *******************\n*********************\n"
    }
   ],
   "source": [
    "def pyfunc(r):\n",
    "    for x in range(r):\n",
    "        print(' '*(r-x-1)+'*'*(2*x+1))    \n",
    "\n",
    "pyfunc(11)"
   ]
  },
  {
   "cell_type": "markdown",
   "metadata": {},
   "source": [
    "### Question: Write a program in Python to check if a number is prime."
   ]
  },
  {
   "cell_type": "code",
   "execution_count": 10,
   "metadata": {
    "tags": []
   },
   "outputs": [
    {
     "output_type": "stream",
     "name": "stdout",
     "text": "Prime\n"
    }
   ],
   "source": [
    "a=int(input(\"enter a number: \"))     \n",
    "\n",
    "if a>1:\n",
    "    for x in range(2,a):\n",
    "        if(a%x)==0:\n",
    "            print(\"not prime\")\n",
    "            break\n",
    "    else:\n",
    "        print(\"Prime\")\n",
    "else:\n",
    "    print(\"not prime\")"
   ]
  },
  {
   "cell_type": "markdown",
   "metadata": {},
   "source": [
    "### Question: Write a program in Python to check if a sequence is a Palindrome\n"
   ]
  },
  {
   "cell_type": "code",
   "execution_count": 11,
   "metadata": {
    "tags": []
   },
   "outputs": [
    {
     "output_type": "stream",
     "name": "stdout",
     "text": "It is a palindrome !!!\n"
    }
   ],
   "source": [
    "a=input(\"enter sequence: \")\n",
    "\n",
    "b=a[::-1]\n",
    "if a==b:\n",
    "    print(\"It is a palindrome !!!\")\n",
    "else:\n",
    "    print(\"It is not a palindrome, sorry.\")"
   ]
  },
  {
   "cell_type": "markdown",
   "metadata": {},
   "source": [
    "### Question: Write a sorting algorithm for a numerical dataset in Python.\n"
   ]
  },
  {
   "cell_type": "code",
   "execution_count": 12,
   "metadata": {
    "tags": []
   },
   "outputs": [
    {
     "output_type": "stream",
     "name": "stdout",
     "text": "[0, 1, 4, 6, 9]\n"
    }
   ],
   "source": [
    "my_list = [\"1\", \"4\", \"0\", \"6\", \"9\"]\n",
    "my_list = [int(i) for i in my_list]\n",
    "my_list.sort()\n",
    "print (my_list)"
   ]
  },
  {
   "cell_type": "markdown",
   "metadata": {},
   "source": [
    "### Question: Can you write down the final values of A0, A1, …An?"
   ]
  },
  {
   "cell_type": "code",
   "execution_count": 13,
   "metadata": {
    "tags": []
   },
   "outputs": [
    {
     "output_type": "stream",
     "name": "stdout",
     "text": "A0= {&#39;a&#39;: 1, &#39;b&#39;: 2, &#39;c&#39;: 3, &#39;d&#39;: 4, &#39;e&#39;: 5}\nA1= range(0, 10)\nA2= []\nA3= [1, 2, 3, 4, 5]\nA4= [1, 2, 3, 4, 5]\nA5= {0: 0, 1: 1, 2: 4, 3: 9, 4: 16, 5: 25, 6: 36, 7: 49, 8: 64, 9: 81}\nA6= [[0, 0], [1, 1], [2, 4], [3, 9], [4, 16], [5, 25], [6, 36], [7, 49], [8, 64], [9, 81]]\n"
    }
   ],
   "source": [
    "A0 = dict(zip(('a','b','c','d','e'),(1,2,3,4,5)))\n",
    "A1 = range(10) \n",
    "A2 = sorted([i for i in A1 if i in A0])\n",
    "A3 = sorted([A0[s] for s in A0])\n",
    "A4 = [i for i in A1 if i in A3]\n",
    "A5 = {i:i*i for i in A1}\n",
    "A6 = [[i,i*i] for i in A1]\n",
    "print('A0=', A0)\n",
    "print('A1=', A1)\n",
    "print('A2=', A2)\n",
    "print('A3=', A3)\n",
    "print('A4=', A4)\n",
    "print('A5=', A5)\n",
    "print('A6=', A6)"
   ]
  },
  {
   "cell_type": "markdown",
   "metadata": {},
   "source": [
    "### How to get indices of $N$ (say 3) maximum values in a NumPy array?"
   ]
  },
  {
   "cell_type": "code",
   "execution_count": 14,
   "metadata": {},
   "outputs": [
    {
     "output_type": "error",
     "ename": "ModuleNotFoundError",
     "evalue": "No module named &#39;numpy&#39;",
     "traceback": [
      "\u001b[1;31m---------------------------------------------------------------------------\u001b[0m",
      "\u001b[1;31mModuleNotFoundError\u001b[0m                       Traceback (most recent call last)",
      "\u001b[1;32m&lt;ipython-input-14-9c155c92133a&gt;\u001b[0m in \u001b[0;36m&lt;module&gt;\u001b[1;34m\u001b[0m\n\u001b[1;32m----&gt; 1\u001b[1;33m \u001b[1;32mimport\u001b[0m \u001b[0mnumpy\u001b[0m \u001b[1;32mas\u001b[0m \u001b[0mnp\u001b[0m\u001b[1;33m\u001b[0m\u001b[1;33m\u001b[0m\u001b[0m\n\u001b[0m\u001b[0;32m      2\u001b[0m \u001b[0mN\u001b[0m\u001b[1;33m=\u001b[0m\u001b[1;36m3\u001b[0m\u001b[1;33m\u001b[0m\u001b[1;33m\u001b[0m\u001b[0m\n\u001b[0;32m      3\u001b[0m \u001b[1;33m\u001b[0m\u001b[0m\n\u001b[0;32m      4\u001b[0m \u001b[0marr\u001b[0m \u001b[1;33m=\u001b[0m \u001b[0mnp\u001b[0m\u001b[1;33m.\u001b[0m\u001b[0marray\u001b[0m\u001b[1;33m(\u001b[0m\u001b[1;33m[\u001b[0m\u001b[1;36m1\u001b[0m\u001b[1;33m,\u001b[0m \u001b[1;36m3\u001b[0m\u001b[1;33m,\u001b[0m \u001b[1;36m2\u001b[0m\u001b[1;33m,\u001b[0m \u001b[1;36m4\u001b[0m\u001b[1;33m,\u001b[0m \u001b[1;36m5\u001b[0m\u001b[1;33m]\u001b[0m\u001b[1;33m)\u001b[0m\u001b[1;33m\u001b[0m\u001b[1;33m\u001b[0m\u001b[0m\n\u001b[0;32m      5\u001b[0m \u001b[1;33m\u001b[0m\u001b[0m\n",
      "\u001b[1;31mModuleNotFoundError\u001b[0m: No module named &#39;numpy&#39;"
     ]
    }
   ],
   "source": [
    "import numpy as np\n",
    "N=3\n",
    "\n",
    "arr = np.array([1, 3, 2, 4, 5])\n",
    "\n",
    "print(arr.argsort()[-N:][::-1])"
   ]
  },
  {
   "cell_type": "markdown",
   "metadata": {},
   "source": [
    "### Question: What is the difference between NumPy and SciPy?\n",
    "\n",
    "1. Ideally, NumPy should only contains nothing but the array data type and the most basic operations: indexing, sorting, reshaping, basic elementwise functions, et cetera.\n",
    "2. All numerical code would reside in SciPy. However, one of NumPy’s important goals is compatibility, so NumPy tries to retain all features supported by either of its predecessors.\n",
    "3. Thus NumPy contains some linear algebra functions, even though these more properly belong in SciPy. In any case, SciPy contains more fully-featured versions of the linear algebra modules, as well as many other numerical algorithms.\n",
    "4. If you are doing scientific computing with Python, you should probably install **both** NumPy and SciPy. Most new features belong in SciPy rather than NumPy."
   ]
  },
  {
   "cell_type": "code",
   "execution_count": null,
   "metadata": {},
   "outputs": [],
   "source": []
  }
 ],
 "metadata": {
  "kernelspec": {
   "name": "Python 3.8.5 32-bit",
   "display_name": "Python 3.8.5 32-bit",
   "metadata": {
    "interpreter": {
     "hash": "6236e50c5dc245ad4c3c7285518662f2c3c17f40ef1ba5dce0d0def021db3289"
    }
   }
  },
  "language_info": {
   "codemirror_mode": {
    "name": "ipython",
    "version": 3
   },
   "file_extension": ".py",
   "mimetype": "text/x-python",
   "name": "python",
   "nbconvert_exporter": "python",
   "pygments_lexer": "ipython3",
   "version": "3.8.5-final"
  }
 },
 "nbformat": 4,
 "nbformat_minor": 2
}