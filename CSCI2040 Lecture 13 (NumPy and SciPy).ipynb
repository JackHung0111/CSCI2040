{
 "cells": [
  {
   "cell_type": "markdown",
   "metadata": {},
   "source": [
    "# Numpy & Scipy\n",
    "\n",
    "**Created and updated by** John C. S. Lui on August 14, 2020.\n",
    "\n",
    "**Important note:** *If you want to use and modify this notebook file, please acknowledge the author.*"
   ]
  },
  {
   "cell_type": "markdown",
   "metadata": {},
   "source": [
    "## NumPy & SciPy\n",
    "- NumPy and SciPy are open-source add-on modules to Python that provide common mathematical and numerical routines in pre-compiled, fast functions.\n",
    "- **NumPy** (Numeric Python) package provides basic routines for manipulating *large arrays and matrices of numeric data* \n",
    "- **SciPy** (Scientific Python) package extends the functionality of NumPy with a substantial collection of *useful algorithms*, like minimization, Fourier transformation, regression, and other applied mathematical techniques\n",
    "\n"
   ]
  },
  {
   "cell_type": "markdown",
   "metadata": {},
   "source": [
    "## Scientific Python building blocks\n",
    "- **Python**\n",
    "- **Jupyter**: An advanced interative web tool\n",
    "- **Numpy** : provides powerful numerical arrays objects, and routines to manipulate them. http://www.numpy.org/\n",
    "- **Scipy** : high-level data processing routines. Optimization, regression, interpolation, etc http://www.scipy.org/\n",
    "- **Matplotlib** : 2-D visualization, “publication-ready” plots http://matplotlib.org/\n",
    "- **Mayavi** : 3-D visualization http://code.enthought.com/projects/mayavi/"
   ]
  },
  {
   "cell_type": "markdown",
   "metadata": {},
   "source": [
    "## NumPy basic\n",
    "\n",
    "- **NumPy’s** main object is the homogeneous multidimensional array. It is a table of elements (usually numbers), all of the same type, indexed by a tuple of positive integers. \n",
    "- In Numpy dimensions are called **axes**. The number of axes is **rank**.\n",
    "- E.g., the coordinates of a point in 3D space [1, 2, 1] is an array of rank 1, because it has one axis.\n",
    "- That axis has a length of 3.\n",
    "- Let say we  have the following array: [[1.0, 1.0, 2.0], [0.0, 2.0, 1.0]]\n",
    "     * It has rank of 2 (or 2 dimensions)\n",
    "     * Its first dimension (or axis) has a length of 2\n",
    "     * It second dimension (or axis) has a length of 3\n",
    "     \n",
    "## Importing NumPy module\n",
    "- Several ways:\n",
    "    * **import numpy**\n",
    "    * **import numpy as np**\n",
    "    * **from numpy import * **\n",
    "    \n",
    "- The basic building block of Numpy is a special data type called **array**\n",
    "- Arrays are similar to lists in Python, the function array takes two arguments: \n",
    "    * the list to be converted into the array and,\n",
    "    * the type of each member of the list\n"
   ]
  },
  {
   "cell_type": "code",
   "execution_count": 1,
   "metadata": {},
   "outputs": [
    {
     "output_type": "stream",
     "name": "stdout",
     "text": [
      "[1. 4. 5. 8.]\n<class 'numpy.ndarray'>\n"
     ]
    }
   ],
   "source": [
    "import numpy as np\n",
    "a  = np.array([1, 4, 5, 8], float)\n",
    "print(a)\n",
    "print (type(a))"
   ]
  },
  {
   "cell_type": "markdown",
   "metadata": {},
   "source": [
    "### Slicing arrays\n",
    "\n",
    "Slicing in python means taking elements from one given index to another given index.\n",
    "\n",
    "We pass slice instead of index like this: [start:end].\n",
    "\n",
    "We can also define the step, like this: [start:end:step].\n",
    "\n",
    "If we don't pass start its considered 0\n",
    "\n",
    "If we don't pass end its considered length of array in that dimension\n",
    "\n",
    "If we don't pass step its considered 1\n",
    "\n",
    "Let consider some examples."
   ]
  },
  {
   "cell_type": "code",
   "execution_count": 2,
   "metadata": {},
   "outputs": [
    {
     "output_type": "stream",
     "name": "stdout",
     "text": [
      "[2 3 4 5]\n-----\n[2 4 6]\n"
     ]
    }
   ],
   "source": [
    "# Slice elements from index 1 to index 5 from the following array:\n",
    "\n",
    "arr = np.array([1, 2, 3, 4, 5, 6, 7])\n",
    "print(arr[1:5])\n",
    "print('-----')\n",
    "print(arr[1::2])"
   ]
  },
  {
   "cell_type": "code",
   "execution_count": 3,
   "metadata": {},
   "outputs": [
    {
     "output_type": "stream",
     "name": "stdout",
     "text": [
      "[5 6 7]\n"
     ]
    }
   ],
   "source": [
    "# Slice elements from index 4 to the end of the array:\n",
    "\n",
    "arr = np.array([1, 2, 3, 4, 5, 6, 7])\n",
    "print(arr[4:])"
   ]
  },
  {
   "cell_type": "code",
   "execution_count": 4,
   "metadata": {},
   "outputs": [
    {
     "output_type": "stream",
     "name": "stdout",
     "text": [
      "[1 2 3 4]\n"
     ]
    }
   ],
   "source": [
    "# Slice elements from the beginning to index 4 (not included):\n",
    "\n",
    "arr = np.array([1, 2, 3, 4, 5, 6, 7])\n",
    "print(arr[:4])"
   ]
  },
  {
   "cell_type": "code",
   "execution_count": 5,
   "metadata": {},
   "outputs": [
    {
     "output_type": "stream",
     "name": "stdout",
     "text": [
      "[5 6]\n"
     ]
    }
   ],
   "source": [
    "# Slice from the index 3 from the end to index 1 from the end:\n",
    "\n",
    "arr = np.array([1, 2, 3, 4, 5, 6, 7])\n",
    "print(arr[-3:-1])"
   ]
  },
  {
   "cell_type": "code",
   "execution_count": 6,
   "metadata": {},
   "outputs": [
    {
     "output_type": "stream",
     "name": "stdout",
     "text": [
      "[2 4]\n"
     ]
    }
   ],
   "source": [
    "# Return every other element from index 1 to index 5 using step size of 2\n",
    "\n",
    "arr = np.array([1, 2, 3, 4, 5, 6, 7])\n",
    "print(arr[1:5:2])"
   ]
  },
  {
   "cell_type": "code",
   "execution_count": 7,
   "metadata": {},
   "outputs": [
    {
     "output_type": "stream",
     "name": "stdout",
     "text": [
      "[1 3 5 7]\n"
     ]
    }
   ],
   "source": [
    "# Return every other element from the entire array:\n",
    "\n",
    "arr = np.array([1, 2, 3, 4, 5, 6, 7])\n",
    "print(arr[::2])"
   ]
  },
  {
   "cell_type": "code",
   "execution_count": 8,
   "metadata": {},
   "outputs": [
    {
     "output_type": "stream",
     "name": "stdout",
     "text": [
      "[7 8 9]\n"
     ]
    }
   ],
   "source": [
    "# 2D array: From the second element, slice elements from index 1 to index 4 (not included):\n",
    "\n",
    "arr = np.array([[1, 2, 3, 4, 5], [6, 7, 8, 9, 10]])\n",
    "print(arr[1, 1:4])"
   ]
  },
  {
   "cell_type": "code",
   "execution_count": 9,
   "metadata": {},
   "outputs": [
    {
     "output_type": "stream",
     "name": "stdout",
     "text": [
      "[3 8]\n"
     ]
    }
   ],
   "source": [
    "# 2D array: From both elements, return index 2:\n",
    "\n",
    "arr = np.array([[1, 2, 3, 4, 5], [6, 7, 8, 9, 10]])\n",
    "print(arr[0:2, 2])"
   ]
  },
  {
   "cell_type": "code",
   "execution_count": 10,
   "metadata": {},
   "outputs": [
    {
     "output_type": "stream",
     "name": "stdout",
     "text": [
      "[[2 3 4]\n [7 8 9]]\n"
     ]
    }
   ],
   "source": [
    "# 2D array: From both elements, slice index 1 to index 4 (not included), this will return a 2-D array:\n",
    "\n",
    "arr = np.array([[1, 2, 3, 4, 5], [6, 7, 8, 9, 10]])\n",
    "print(arr[0:2, 1:4])"
   ]
  },
  {
   "cell_type": "code",
   "execution_count": 11,
   "metadata": {},
   "outputs": [
    {
     "output_type": "stream",
     "name": "stdout",
     "text": [
      "[1. 4.]\n[4. 5.]\n[4. 5.]\n8.0\n[  1.   4.   5. 100.]\n"
     ]
    }
   ],
   "source": [
    "# We can index array just like we have done to list in Python\n",
    "\n",
    "a  = np.array([1, 4, 5, 8], float)\n",
    "print(a[:2])\n",
    "print(a[1:-1])\n",
    "print(a[-3:-1])\n",
    "print(a[3])\n",
    "a[3] = 100.0\n",
    "print(a)"
   ]
  },
  {
   "cell_type": "code",
   "execution_count": 12,
   "metadata": {},
   "outputs": [
    {
     "output_type": "stream",
     "name": "stdout",
     "text": [
      "a = [[1. 2. 3.]\n [4. 5. 6.]]\na = [[15.  2.  3.]\n [12.  5.  6.]]\n"
     ]
    }
   ],
   "source": [
    "# Let's try higher dimensional array and illustrate the indexes !!!\n",
    "\n",
    "a = np.array([[1,2,3], [4,5,6]], float)  # define 2x3 array\n",
    "print ('a =', a)\n",
    "a[0,0] = 15.0   # we can re-assign elements in the array\n",
    "a[1,0] = 12.0\n",
    "print('a =',a)"
   ]
  },
  {
   "cell_type": "code",
   "execution_count": 13,
   "metadata": {
    "scrolled": true
   },
   "outputs": [
    {
     "output_type": "stream",
     "name": "stdout",
     "text": [
      "a[1,:2] [4. 5.]\na[1,:]= [4. 5. 6.]\na[:,2]= [3. 6.]\na[-1:,-2:] = [[5. 6.]]\n"
     ]
    }
   ],
   "source": [
    "# we can even using slicing\n",
    "a = np.array([[1,2,3], [4,5,6]], float)  # define 2x3 array\n",
    "print('a[1,:2]', a[1,:2])\n",
    "print('a[1,:]=', a[1,:])\n",
    "print('a[:,2]=', a[:,2])\n",
    "print('a[-1:,-2:] =', a[-1:, -2:])"
   ]
  },
  {
   "cell_type": "markdown",
   "metadata": {},
   "source": [
    "## Methods on Array\n",
    "\n",
    "Let's consider some useful **methods** which we can apply to array"
   ]
  },
  {
   "cell_type": "code",
   "execution_count": 14,
   "metadata": {},
   "outputs": [
    {
     "output_type": "stream",
     "name": "stdout",
     "text": [
      "(2, 3)\n"
     ]
    }
   ],
   "source": [
    "# To find out the \"dimension\" of an array\n",
    "a = np.array([[1,2,3], [4,5,6]], float)  # define 2x3 array\n",
    "\n",
    "print(a.shape)"
   ]
  },
  {
   "cell_type": "code",
   "execution_count": 15,
   "metadata": {},
   "outputs": [
    {
     "output_type": "stream",
     "name": "stdout",
     "text": [
      "float64\n<class 'numpy.ndarray'>\n"
     ]
    }
   ],
   "source": [
    "# To find out the \"type\" of elements in an array\n",
    "print (a.dtype)\n",
    "print (type(a))"
   ]
  },
  {
   "cell_type": "code",
   "execution_count": 16,
   "metadata": {},
   "outputs": [
    {
     "output_type": "stream",
     "name": "stdout",
     "text": [
      "2\n"
     ]
    }
   ],
   "source": [
    "# To find out the \"ndimension\" of an array\n",
    "print(a.ndim)"
   ]
  },
  {
   "cell_type": "code",
   "execution_count": 17,
   "metadata": {},
   "outputs": [
    {
     "output_type": "stream",
     "name": "stdout",
     "text": [
      "length of the first axis = 2\nlength of the second axis = 3\n"
     ]
    }
   ],
   "source": [
    "# To find out the length of the first axis:\n",
    "print('length of the first axis =', len(a))\n",
    "print('length of the second axis =', len(a[0]))  # length of the 2nd axis"
   ]
  },
  {
   "cell_type": "code",
   "execution_count": 18,
   "metadata": {},
   "outputs": [
    {
     "output_type": "stream",
     "name": "stdout",
     "text": [
      "Is 2 in a?  True\nIs 9 in a?  False\n"
     ]
    }
   ],
   "source": [
    "# To test whether an element is in the array\n",
    "a = np.array([[1,2,3], [4,5,6]], float)  # define 2x3 array\n",
    "\n",
    "print (\"Is 2 in a? \", 2 in a)  # test  for membership\n",
    "print (\"Is 9 in a? \", 9 in a)"
   ]
  },
  {
   "cell_type": "code",
   "execution_count": 19,
   "metadata": {},
   "outputs": [
    {
     "output_type": "stream",
     "name": "stdout",
     "text": [
      "float a = [0. 1. 2. 3. 4. 5. 6. 7. 8. 9.]\ninteger a =  [[0 1 2]\n [0 1 2]]\n"
     ]
    }
   ],
   "source": [
    "# To generate an array of numbers using the function range()\n",
    "a = np.array(range(10), float)  # generate float array with a single item\n",
    "print('float a =', a)\n",
    "\n",
    "a = np.array([range(3), range(3)], int) # generate integer array with 2 items\n",
    "print('integer a = ', a)"
   ]
  },
  {
   "cell_type": "code",
   "execution_count": 20,
   "metadata": {},
   "outputs": [
    {
     "output_type": "stream",
     "name": "stdout",
     "text": [
      "Before reshape(), a = [0. 1. 2. 3. 4. 5. 6. 7. 8. 9.]\nAfter 1st reshape(), a = [[0. 1. 2. 3. 4.]\n [5. 6. 7. 8. 9.]]\nAfter 2nd reshape(), a = [[0. 1.]\n [2. 3.]\n [4. 5.]\n [6. 7.]\n [8. 9.]]\n"
     ]
    }
   ],
   "source": [
    "# use reshape() method to re-arrange an array\n",
    "a = np.array(range(10), float)\n",
    "print('Before reshape(), a =', a)\n",
    "\n",
    "# reshape array a\n",
    "a = a.reshape(2,5)\n",
    "print('After 1st reshape(), a =', a)\n",
    "\n",
    "# reshape array a\n",
    "a = a.reshape(5,2)\n",
    "print('After 2nd reshape(), a =', a)"
   ]
  },
  {
   "cell_type": "markdown",
   "metadata": {},
   "source": [
    "# Array assignment is just a reference copy !!!!!!!\n",
    "\n",
    "Note that in NumPy, array assignment is just a **reference copy**."
   ]
  },
  {
   "cell_type": "code",
   "execution_count": 21,
   "metadata": {},
   "outputs": [
    {
     "output_type": "stream",
     "name": "stdout",
     "text": [
      "a= [0. 1. 2. 3. 4.] b= [0. 1. 2. 3. 4.]\n",
      "a = [10.  1.  2.  3.  4.] b = [10.  1.  2.  3.  4.]\n"
     ]
    }
   ],
   "source": [
    "a = np.array(range(5), float)\n",
    "b = a\n",
    "print ('a=', a, 'b=', b)\n",
    "\n",
    "a[0] = 10.0   # reassign an item in a\n",
    "print ('a =', a,'b =', b)"
   ]
  },
  {
   "cell_type": "markdown",
   "metadata": {},
   "source": [
    "## If we want to have another array, use `copy()` method"
   ]
  },
  {
   "cell_type": "code",
   "execution_count": 22,
   "metadata": {},
   "outputs": [
    {
     "output_type": "stream",
     "name": "stdout",
     "text": [
      "Before: a= [0. 1. 2. 3. 4.] b= [0. 1. 2. 3. 4.] c= [0. 1. 2. 3. 4.]\nAfter:  a= [10.  1.  2.  3.  4.] b= [10.  1.  2.  3.  4.] c= [0. 1. 2. 3. 4.]\n"
     ]
    }
   ],
   "source": [
    "a = np.array(range(5), float)\n",
    "b = a\n",
    "c = a.copy()\n",
    "print ('Before:', 'a=', a, 'b=', b, 'c=', c)\n",
    "\n",
    "a[0] = 10.0   # reassign an item in a\n",
    "print ('After: ', 'a=', a, 'b=', b, 'c=',c)"
   ]
  },
  {
   "cell_type": "markdown",
   "metadata": {},
   "source": [
    "## Define an array and fill it with some entries"
   ]
  },
  {
   "cell_type": "code",
   "execution_count": 23,
   "metadata": {},
   "outputs": [
    {
     "output_type": "stream",
     "name": "stdout",
     "text": [
      "a = [0. 1. 2. 3. 4.]\na = [0. 0. 0. 0. 0.]\na = [100. 100. 100. 100. 100.]\n"
     ]
    }
   ],
   "source": [
    "a = np.array(range(5), float)\n",
    "print('a =', a)\n",
    "a.fill(0)   # use fill method to initialize the array\n",
    "print('a =', a)\n",
    "a.fill(100.0)\n",
    "print('a =', a)"
   ]
  },
  {
   "cell_type": "code",
   "execution_count": 24,
   "metadata": {},
   "outputs": [
    {
     "output_type": "stream",
     "name": "stdout",
     "text": [
      "a = [[0 1 2]\n",
      " [0 1 2]]\n",
      "a = [[0 0 0]\n",
      " [0 0 0]]\n",
      "a = [[100 100 100]\n",
      " [100 100 100]]\n"
     ]
    }
   ],
   "source": [
    "a = np.array([range(3), range(3)], int)  # generate array with 2 items\n",
    "print('a =', a)\n",
    "a.fill(0)   # use fill method to initialize the array\n",
    "print('a =', a)\n",
    "a.fill(100.0)\n",
    "print('a =', a)"
   ]
  },
  {
   "cell_type": "markdown",
   "metadata": {},
   "source": [
    "## Transpose method"
   ]
  },
  {
   "cell_type": "code",
   "execution_count": 25,
   "metadata": {},
   "outputs": [
    {
     "output_type": "stream",
     "name": "stdout",
     "text": [
      "a = [[0 1 2 3 4]\n [0 1 2 3 4]]\na = [[0 0]\n [1 1]\n [2 2]\n [3 3]\n [4 4]]\n"
     ]
    }
   ],
   "source": [
    "a = np.array([range(5), range(5)], int)  # generate array with 2 items\n",
    "print('a =', a)\n",
    "\n",
    "a = a.transpose()\n",
    "print('a =', a)\n",
    "\n"
   ]
  },
  {
   "cell_type": "markdown",
   "metadata": {},
   "source": [
    "## Concatenate method"
   ]
  },
  {
   "cell_type": "code",
   "execution_count": 26,
   "metadata": {},
   "outputs": [
    {
     "output_type": "stream",
     "name": "stdout",
     "text": [
      "a = [1. 2.]\nb = [3. 4. 5.]\nc = [ 7  8  9 10]\nd = [ 1.  2.  3.  4.  5.  7.  8.  9. 10.]\n"
     ]
    }
   ],
   "source": [
    "a = np.array([1,2], float)        # float type\n",
    "b = np.array([3,4,5], float)      # float type\n",
    "c = np.array([7,8,9,10], int)     # integer type\n",
    "d = np.concatenate((a,b,c))\n",
    "print('a =',a)\n",
    "print('b =',b)\n",
    "print('c =',c)\n",
    "print('d =',d)"
   ]
  },
  {
   "cell_type": "markdown",
   "metadata": {},
   "source": [
    "# arange method\n",
    "\n",
    "arange method is similar to *range()* function except it returns **an array**."
   ]
  },
  {
   "cell_type": "code",
   "execution_count": 27,
   "metadata": {},
   "outputs": [
    {
     "output_type": "stream",
     "name": "stdout",
     "text": [
      "a =  [0. 1. 2. 3. 4.]\ntype of a:  <class 'numpy.ndarray'>\nb =  [0. 1. 2. 3. 4.]\ntype of b:  <class 'numpy.ndarray'>\n"
     ]
    }
   ],
   "source": [
    "a = np.array(range(5), float)\n",
    "print('a = ', a)\n",
    "print('type of a: ', type(a))\n",
    "\n",
    "b = np.arange(5, dtype=float)\n",
    "print('b = ', b)\n",
    "print('type of b: ', type(b))"
   ]
  },
  {
   "cell_type": "markdown",
   "metadata": {},
   "source": [
    "## zeros and ones\n",
    "\n",
    "We use **zeros** and **ones** method to initialize an array\n"
   ]
  },
  {
   "cell_type": "code",
   "execution_count": 28,
   "metadata": {},
   "outputs": [
    {
     "output_type": "stream",
     "name": "stdout",
     "text": [
      "a= [0 0 0 0 0 0 0]\nb= [[0 0 0]\n [0 0 0]]\nc= [[1. 1.]\n [1. 1.]\n [1. 1.]]\n"
     ]
    }
   ],
   "source": [
    "a = np.zeros(7,dtype=int)\n",
    "print('a=',a)\n",
    "\n",
    "b = np.zeros((2,3),dtype=int)\n",
    "print('b=',b)\n",
    "\n",
    "c = np.ones((3,2),dtype=float)\n",
    "print('c=',c)"
   ]
  },
  {
   "cell_type": "markdown",
   "metadata": {},
   "source": [
    "### We use `zeros_like()` and `ones_like()` functions to mimic and initialize arrays"
   ]
  },
  {
   "cell_type": "code",
   "execution_count": 29,
   "metadata": {},
   "outputs": [
    {
     "output_type": "stream",
     "name": "stdout",
     "text": [
      "a= [[1 3 3]\n [4 5 6]]\nb= [[0 0 0]\n [0 0 0]]\nc= [[1 1 1]\n [1 1 1]]\n"
     ]
    }
   ],
   "source": [
    "a = np.array([[1,3,3], [4,5,6]],int)\n",
    "b = np.zeros_like(a)  # create a new array b with all zeros\n",
    "c = np.ones_like(a)   # create a new array c with all ones\n",
    "print('a=',a)\n",
    "print('b=',b)\n",
    "print('c=',c)"
   ]
  },
  {
   "cell_type": "markdown",
   "metadata": {},
   "source": [
    "## Creating identity matrix and diagonal matrix\n",
    "\n",
    "- use identity method\n",
    "- use eye method: which returns matrices with ones along the $k^{th}$ diagonal entries"
   ]
  },
  {
   "cell_type": "code",
   "execution_count": 30,
   "metadata": {},
   "outputs": [
    {
     "output_type": "stream",
     "name": "stdout",
     "text": [
      "a= [[1. 0. 0. 0. 0.]\n [0. 1. 0. 0. 0.]\n [0. 0. 1. 0. 0.]\n [0. 0. 0. 1. 0.]\n [0. 0. 0. 0. 1.]]\na= [[0. 1. 0. 0. 0.]\n [0. 0. 1. 0. 0.]\n [0. 0. 0. 1. 0.]\n [0. 0. 0. 0. 1.]\n [0. 0. 0. 0. 0.]]\n"
     ]
    }
   ],
   "source": [
    "a = np.identity(5, dtype=float)  # create a 5x5 identity matrix\n",
    "print('a=',a)\n",
    "\n",
    "a = np.eye(5, k=1, dtype=float)  # create a 5x5 matrix with 1st diagonal being 1\n",
    "print('a=',a)"
   ]
  },
  {
   "cell_type": "markdown",
   "metadata": {},
   "source": [
    "## Array mathematics\n",
    "\n",
    "Of course we can do addition, subtraction, multiplication and division,...etc. Note that it is done in an **element-wise** manner."
   ]
  },
  {
   "cell_type": "code",
   "execution_count": 31,
   "metadata": {},
   "outputs": [
    {
     "output_type": "stream",
     "name": "stdout",
     "text": [
      "a = [1 2 3 4 5] ; b = [5. 4. 3. 2. 1.]\n",
      "a+b = [6. 6. 6. 6. 6.]\n",
      "a-b = [-4. -2.  0.  2.  4.]\n",
      "a*b = [5. 8. 9. 8. 5.]\n",
      "a/b = [0.2 0.5 1.  2.  5. ]\n",
      "a%b = [1. 2. 0. 0. 0.]\n",
      "a**b = [ 1. 16. 27. 16.  5.]\n"
     ]
    }
   ],
   "source": [
    "a = np.array([1,2,3,4,5],int)\n",
    "b = np.array([5,4,3,2,1],float)\n",
    "print('a =', a, '; b =', b)\n",
    "print('a+b =', a+b)\n",
    "print('a-b =', a-b)\n",
    "print('a*b =', a*b)\n",
    "print('a/b =', a/b)\n",
    "print('a%b =', a%b)\n",
    "print('a**b =', a**b)\n"
   ]
  },
  {
   "cell_type": "code",
   "execution_count": 32,
   "metadata": {},
   "outputs": [
    {
     "output_type": "stream",
     "name": "stdout",
     "text": [
      "\nc = [[1 2 3 4 5]\n [1 1 1 1 1]]\nd = [[5. 4. 3. 2. 1.]\n [2. 2. 2. 2. 2.]]\nc+d = [[6. 6. 6. 6. 6.]\n [3. 3. 3. 3. 3.]]\nc-d = [[-4. -2.  0.  2.  4.]\n [-1. -1. -1. -1. -1.]]\nc*d = [[5. 8. 9. 8. 5.]\n [2. 2. 2. 2. 2.]]\nc/d = [[0.2 0.5 1.  2.  5. ]\n [0.5 0.5 0.5 0.5 0.5]]\nc%d = [[1. 2. 0. 0. 0.]\n [1. 1. 1. 1. 1.]]\nc**d = [[ 1. 16. 27. 16.  5.]\n [ 1.  1.  1.  1.  1.]]\n"
     ]
    }
   ],
   "source": [
    "# for higher dimenion arrays, it remains to be an element-wise operation\n",
    "c = np.array([[1,2,3,4,5],[1,1,1,1,1]],int)\n",
    "d = np.array([[5,4,3,2,1],[2,2,2,2,2]],float)\n",
    "print('\\nc =', c)\n",
    "print('d =',d)\n",
    "print('c+d =', c+d)\n",
    "print('c-d =', c-d)\n",
    "print('c*d =', c*d)\n",
    "print('c/d =', c/d)\n",
    "print('c%d =', c%d)\n",
    "print('c**d =',c**d)\n"
   ]
  },
  {
   "cell_type": "markdown",
   "metadata": {},
   "source": [
    "## The \"broadcast\" feature of NumPy\n",
    "\n",
    "Arrays that do not match in the number of dimensions will be **broadcasted** (or adjusted to fit with appropriate dimension)"
   ]
  },
  {
   "cell_type": "code",
   "execution_count": 33,
   "metadata": {},
   "outputs": [
    {
     "output_type": "stream",
     "name": "stdout",
     "text": [
      "a = [[1 2]\n [3 4]\n [5 6]]\nb = [-1.  3.]\n\na+b = [[0. 5.]\n [2. 7.]\n [4. 9.]]\n\na*b = [[-1.  6.]\n [-3. 12.]\n [-5. 18.]]\n\n"
     ]
    }
   ],
   "source": [
    "a = np.array([[1,2], [3,4], [5,6]], int)\n",
    "b = np.array([-1,3], float)\n",
    "print('a =', a)\n",
    "print('b =', b, end='\\n\\n')\n",
    "print('a+b =', a+b, end='\\n\\n')\n",
    "print('a*b =', a*b, end='\\n\\n')"
   ]
  },
  {
   "cell_type": "code",
   "execution_count": 34,
   "metadata": {},
   "outputs": [
    {
     "output_type": "stream",
     "name": "stdout",
     "text": [
      "a= [[1. 2. 3. 4.]\n",
      " [1. 2. 3. 4.]\n",
      " [1. 2. 3. 4.]\n",
      " [1. 2. 3. 4.]] b= [0.125]\n",
      "a*b= [[0.125 0.25  0.375 0.5  ]\n",
      " [0.125 0.25  0.375 0.5  ]\n",
      " [0.125 0.25  0.375 0.5  ]\n",
      " [0.125 0.25  0.375 0.5  ]]\n",
      "b*a= [[0.125 0.25  0.375 0.5  ]\n",
      " [0.125 0.25  0.375 0.5  ]\n",
      " [0.125 0.25  0.375 0.5  ]\n",
      " [0.125 0.25  0.375 0.5  ]]\n"
     ]
    }
   ],
   "source": [
    "# Using broadcast to scale the matrix \"a\" by a constant \"b\"\n",
    "a = np.array([[1,2,3,4], [1,2,3,4], [1,2,3,4], [1,2,3,4]], float)\n",
    "b = np.array([0.125], float)\n",
    "print('a=', a, 'b=', b)\n",
    "print('a*b=', a*b)\n",
    "print('b*a=', b*a)"
   ]
  },
  {
   "cell_type": "markdown",
   "metadata": {},
   "source": [
    "### Use numpy array as \"index\" to another numpy array"
   ]
  },
  {
   "cell_type": "code",
   "execution_count": 35,
   "metadata": {},
   "outputs": [
    {
     "output_type": "stream",
     "name": "stdout",
     "text": [
      "a = [ 0  2  4  6  9 10]\nk = [4 6 9]\n"
     ]
    }
   ],
   "source": [
    "# We can also use numpy as \"index\" to another numpy array \n",
    "\n",
    "a = np.array([0,2,4,6,9,10])\n",
    "print('a =', a)\n",
    "k = a[np.array([2,3,4])] \n",
    "print('k =', k)\n"
   ]
  },
  {
   "cell_type": "markdown",
   "metadata": {},
   "source": [
    "### Use elementwise logical comparion to extract elements of an array (IMPORTANT)!!!!"
   ]
  },
  {
   "cell_type": "code",
   "execution_count": 36,
   "metadata": {},
   "outputs": [
    {
     "output_type": "stream",
     "name": "stdout",
     "text": [
      "Result of a>2: [False False  True  True  True  True] \n\nk = [ 4  6  9 10]\n"
     ]
    }
   ],
   "source": [
    "# Elementwise logical comparison a>2\n",
    "\n",
    "a = np.array([0,2,4,6,9,10])\n",
    "print('Result of a>2:', a>2, '\\n')\n",
    "\n",
    "k = a[a>2] # assign those entries of a whcih satisfy the condition\n",
    "\n",
    "print('k =',k )"
   ]
  },
  {
   "cell_type": "markdown",
   "metadata": {},
   "source": [
    "### Setting minimum and maximum values for all entreis in an array"
   ]
  },
  {
   "cell_type": "code",
   "execution_count": 37,
   "metadata": {},
   "outputs": [
    {
     "output_type": "stream",
     "name": "stdout",
     "text": [
      "a = [ 0  2  4  6  9 10]\nk = [1 2 4 4 4 4]\n"
     ]
    }
   ],
   "source": [
    "## Setting minimum and maximum in all elements in an numpy array\n",
    "\n",
    "a = np.array([0,2,4,6,9,10])\n",
    "print('a =', a)\n",
    "\n",
    "k = a.clip(1,4) \n",
    "print('k =',k)"
   ]
  },
  {
   "cell_type": "markdown",
   "metadata": {},
   "source": [
    "### Testing NaN in the array, and how to filter NaN out"
   ]
  },
  {
   "cell_type": "code",
   "execution_count": 38,
   "metadata": {},
   "outputs": [
    {
     "output_type": "stream",
     "name": "stdout",
     "text": [
      "c = [ 1.  2.  3. nan  4.  5.] \n\nNaN testing for c = [False False False  True False False] \n\nc1 = [1. 2. 3. 4. 5.] \n\nAverage of all entries in c is = 3.0\n"
     ]
    }
   ],
   "source": [
    "c = np.array([1,2,3, np.NAN, 4, 5]) \n",
    "print('c =', c, '\\n')\n",
    "\n",
    "# Test whether each element is an NAAN\n",
    "print('NaN testing for c =', np.isnan(c), '\\n')\n",
    "\n",
    "# We can eliminate NaN from c\n",
    "c1=c[~np.isnan(c)] \n",
    "print('c1 =', c1, '\\n')\n",
    "\n",
    "# Now we can compute statistics in c, for example, the average\n",
    "print('Average of all entries in c is =', np.mean(c[~np.isnan(c)]))"
   ]
  },
  {
   "cell_type": "markdown",
   "metadata": {},
   "source": [
    "## Math libraries in NumPy\n",
    "\n",
    "There are **many libraries** like *abs, sign, sqrt, log, log10, exp, sin, cos, tan, arcsin, arccos, arctan, sinh, cosh, tanh, arcsinh, arccosh, arctanh*,.... Make sure to read the documentation"
   ]
  },
  {
   "cell_type": "code",
   "execution_count": 39,
   "metadata": {},
   "outputs": [
    {
     "output_type": "stream",
     "name": "stdout",
     "text": [
      "Square root of a = [1. 2. 3. 4. 5. 6.]\nSign of a = [1. 1. 1. 1. 1. 1.]\nSign of b = [-1  1 -1  1  0]\nexp of a = [2.71828183e+00 5.45981500e+01 8.10308393e+03 8.88611052e+06\n 7.20048993e+10 4.31123155e+15]\nlog of a = [0.         1.38629436 2.19722458 2.77258872 3.21887582 3.58351894]\nlog10 of a = [0.         0.60205999 0.95424251 1.20411998 1.39794001 1.5563025 ]\n"
     ]
    }
   ],
   "source": [
    "a = np.array([1,4,9,16,25,36],float)\n",
    "\n",
    "print ('Square root of a =', np.sqrt(a)) # use sqaure root\n",
    "print ('Sign of a =', np.sign(a)) # use sign\n",
    "\n",
    "b = np.array([-1,1,-20, 20,0], int)\n",
    "print ('Sign of b =', np.sign(b)) # use sign\n",
    "\n",
    "print ('exp of a =', np.exp(a)) # use exponential\n",
    "\n",
    "print ('log of a =', np.log(a)) # use log\n",
    "\n",
    "print ('log10 of a =', np.log10(a)) # use log10"
   ]
  },
  {
   "cell_type": "code",
   "execution_count": 40,
   "metadata": {},
   "outputs": [
    {
     "output_type": "stream",
     "name": "stdout",
     "text": [
      "a = [ 1.1  4.3  9.8 16.5 25.6]\nfloor of a = [ 1.  4.  9. 16. 25.]\nceil of a = [ 2.  5. 10. 17. 26.]\nrint of a = [ 1.  4. 10. 16. 26.]\n"
     ]
    }
   ],
   "source": [
    "a = np.array([1.1,4.3,9.8,16.5,25.6],float)\n",
    "\n",
    "print('a =', a)\n",
    "print ('floor of a =', np.floor(a)) # use floor\n",
    "print ('ceil of a =', np.ceil(a)) # use ceil\n",
    "print ('rint of a =', np.rint(a)) # use rint\n"
   ]
  },
  {
   "cell_type": "markdown",
   "metadata": {},
   "source": [
    "## Various constants in NumPy"
   ]
  },
  {
   "cell_type": "code",
   "execution_count": 41,
   "metadata": {},
   "outputs": [
    {
     "output_type": "stream",
     "name": "stdout",
     "text": [
      "Pi is =  3.141592653589793\ne is =  2.718281828459045\n"
     ]
    }
   ],
   "source": [
    "print('Pi is = ', np.pi)\n",
    "print('e is = ', np.e)"
   ]
  },
  {
   "cell_type": "markdown",
   "metadata": {},
   "source": [
    "## Array iteration in NumPy"
   ]
  },
  {
   "cell_type": "code",
   "execution_count": 42,
   "metadata": {},
   "outputs": [
    {
     "output_type": "stream",
     "name": "stdout",
     "text": [
      "number =  1\nnumber =  4\nnumber =  5\n"
     ]
    }
   ],
   "source": [
    "a = np.array([1,4,5], dtype=int)\n",
    "\n",
    "for num in a:\n",
    "    print('number = ', num)"
   ]
  },
  {
   "cell_type": "code",
   "execution_count": 43,
   "metadata": {},
   "outputs": [
    {
     "output_type": "stream",
     "name": "stdout",
     "text": [
      "number =  [1 2]\nnumber =  [3 4]\nnumber =  [5 6]\n"
     ]
    }
   ],
   "source": [
    "a = np.array([[1,2],[3,4],[5,6]], dtype=int)\n",
    "\n",
    "for num in a:\n",
    "    print('number = ', num)"
   ]
  },
  {
   "cell_type": "code",
   "execution_count": 44,
   "metadata": {},
   "outputs": [
    {
     "output_type": "stream",
     "name": "stdout",
     "text": [
      "num1 =  1 ; num2 =  2 ; num1*num2 =  2\nnum1 =  3 ; num2 =  4 ; num1*num2 =  12\nnum1 =  5 ; num2 =  6 ; num1*num2 =  30\n"
     ]
    }
   ],
   "source": [
    "a = np.array([[1,2],[3,4],[5,6]], dtype=int)\n",
    "\n",
    "for num1, num2 in a:\n",
    "    print('num1 = ', num1, '; num2 = ', num2, '; num1*num2 = ', num1*num2)\n",
    "    "
   ]
  },
  {
   "cell_type": "markdown",
   "metadata": {},
   "source": [
    "## Basic Array operations"
   ]
  },
  {
   "cell_type": "code",
   "execution_count": 45,
   "metadata": {},
   "outputs": [
    {
     "output_type": "stream",
     "name": "stdout",
     "text": [
      "a = [2. 4. 3.]\nb = [[1. 2.]\n [3. 4.]]\n\nelement sum of a =  9.0\nelement sum of b =  10.0\nelement prduct of a =  24.0\nelement product  of b =  24.0\n"
     ]
    }
   ],
   "source": [
    "a = np.array([2,4,3], dtype=float)\n",
    "b = np.array([[1,2],[3,4]], dtype=float)\n",
    "\n",
    "print('a =', a)\n",
    "print('b =', b, end='\\n\\n')\n",
    "print('element sum of a = ', a.sum())  # sum all elements\n",
    "print('element sum of b = ', b.sum())  # sum all elements\n",
    "print('element prduct of a = ', a.prod())  # multiply all elements\n",
    "print('element product  of b = ', b.prod())  # multiply all elements\n"
   ]
  },
  {
   "cell_type": "code",
   "execution_count": 46,
   "metadata": {},
   "outputs": [
    {
     "output_type": "stream",
     "name": "stdout",
     "text": [
      "element sum of a =  9.0\n",
      "element sum of b =  10.0\n",
      "element prduct of a =  24.0\n",
      "element product  of b =  24.0\n"
     ]
    }
   ],
   "source": [
    "## Another way is to use NumPy method with array as argument\n",
    "print('element sum of a = ', np.sum(a))  # sum all elements\n",
    "print('element sum of b = ', np.sum(b))  # sum all elements\n",
    "print('element prduct of a = ', np.prod(a))  # multiply all elements\n",
    "print('element product  of b = ', np.prod(b)) # multiply all elements"
   ]
  },
  {
   "cell_type": "code",
   "execution_count": 47,
   "metadata": {},
   "outputs": [
    {
     "output_type": "stream",
     "name": "stdout",
     "text": [
      "a = [ 6.  2.  5. -1.  0.]\nsorted form of a = [-1.0, 0.0, 2.0, 5.0, 6.0]\nclipped form of a = [4.1 2.  4.1 0.  0. ]\n"
     ]
    }
   ],
   "source": [
    "# to sort all entries in an array\n",
    "a = np.array([6, 2, 5, -1, 0],float)\n",
    "print('a =', a)\n",
    "print('sorted form of a =', sorted(a))      # sort a but not to alter the array a\n",
    "print('clipped form of a =', a.clip(0,4.1)) # specify lower/upper bound"
   ]
  },
  {
   "cell_type": "code",
   "execution_count": 48,
   "metadata": {},
   "outputs": [
    {
     "output_type": "stream",
     "name": "stdout",
     "text": [
      "a = [1. 1. 2. 2. 3. 4. 4. 5. 5. 5.]\nunqiue entries of a : [1. 2. 3. 4. 5.]\n"
     ]
    }
   ],
   "source": [
    "# finding unique entries in an array\n",
    "a = np.array([1, 1, 2, 2, 3, 4, 4, 5, 5, 5],float)\n",
    "print('a =', a)\n",
    "print('unqiue entries of a :', np.unique(a))"
   ]
  },
  {
   "cell_type": "code",
   "execution_count": 49,
   "metadata": {},
   "outputs": [
    {
     "output_type": "stream",
     "name": "stdout",
     "text": [
      "a = [[1 2 3]\n [4 5 6]\n [7 8 9]]\ndiagonal entries of a are : [1 5 9]\n"
     ]
    }
   ],
   "source": [
    "# finding diagonal entries in an array\n",
    "a = np.array([[1,2,3],[4,5,6],[7,8,9]], int)\n",
    "print('a =', a)\n",
    "print('diagonal entries of a are :', a.diagonal())\n"
   ]
  },
  {
   "cell_type": "markdown",
   "metadata": {},
   "source": [
    "## Array comparison & testing"
   ]
  },
  {
   "cell_type": "code",
   "execution_count": 50,
   "metadata": {},
   "outputs": [
    {
     "output_type": "stream",
     "name": "stdout",
     "text": [
      "a= [1. 3. 0.] ; b= [0. 3. 2.]\nIs a > b:  [ True False False]\nIs a == b: [False  True False]\nIs a <= b: [False  True  True]\n"
     ]
    }
   ],
   "source": [
    "a = np.array([1, 3, 0], float)\n",
    "b = np.array([0, 3, 2], float)\n",
    "print('a=',a, '; b=', b)\n",
    "\n",
    "print('Is a > b: ', a>b)   # a>b returns an array of boolean\n",
    "print('Is a == b:', a==b)\n",
    "print('Is a <= b:', a<=b)"
   ]
  },
  {
   "cell_type": "code",
   "execution_count": 51,
   "metadata": {},
   "outputs": [
    {
     "output_type": "stream",
     "name": "stdout",
     "text": [
      "c = [ True False False]\n",
      "There is at least one \"True\" in c:  True\n",
      "all entries in c are \"True\" :  False\n"
     ]
    }
   ],
   "source": [
    "# You can use methods like any or all to test condition\n",
    "c = a > b    # c is now an array of boolean\n",
    "print('c =', c)\n",
    "print('There is at least one \"True\" in c: ', any(c))\n",
    "print('all entries in c are \"True\" : ', all(c))"
   ]
  },
  {
   "cell_type": "code",
   "execution_count": 52,
   "metadata": {},
   "outputs": [
    {
     "output_type": "stream",
     "name": "stdout",
     "text": [
      "a = [1. 3. 0.]\nAre entries in a > 0 AND a < 3:  [ True False False]\nUse of logical_not in a:  [False  True  True]\nUse of logical_or:  [ True  True  True]\n"
     ]
    }
   ],
   "source": [
    "# use of logical_and, logical_or and logical_not in array\n",
    "a = np.array([1,3,0], float)\n",
    "print('a =', a)\n",
    "b = np.logical_and(a>0, a<3)\n",
    "print('Are entries in a > 0 AND a < 3: ', b)\n",
    "c = np.logical_not(b)\n",
    "print('Use of logical_not in a: ', c)\n",
    "print('Use of logical_or: ', np.logical_or(b,c))"
   ]
  },
  {
   "cell_type": "markdown",
   "metadata": {},
   "source": [
    "## Use of method where() in NumPy\n",
    "\n",
    "*where* forms a new array from two arrays of equivalent size using a Boolean filter to choose between elements of the two. Its basic syntax is <br>\n",
    "\n",
    "&nbsp;&nbsp;&nbsp;&nbsp;&nbsp;&nbsp;&nbsp;&nbsp; *np.where (boolarray, truearray, falsearray)* "
   ]
  },
  {
   "cell_type": "code",
   "execution_count": 53,
   "metadata": {},
   "outputs": [
    {
     "output_type": "stream",
     "name": "stdout",
     "text": [
      "a = [1. 3. 0.]\nb = [2. 4. 0.]\nc = [ 5.  5. -1.]\n"
     ]
    }
   ],
   "source": [
    "a = np.array([1, 3, 0], float)\n",
    "b = np.where(a > 0, a+1, a)\n",
    "c = np.where(a>0, 5.0, -1.0)\n",
    "print('a =', a)\n",
    "print('b =', b)\n",
    "print('c =', c)"
   ]
  },
  {
   "cell_type": "code",
   "execution_count": 54,
   "metadata": {},
   "outputs": [
    {
     "output_type": "stream",
     "name": "stdout",
     "text": [
      "a = [ 2. nan inf]\nEntry is not a number : [False  True False]\nEntry is finite : [ True False False]\n"
     ]
    }
   ],
   "source": [
    "## It is also possible to test whether or not values are NaN (\"not a number\") or finite\n",
    "a = np.array([2, np.NaN, np.Inf], float)\n",
    "print('a =', a)\n",
    "print('Entry is not a number :', np.isnan(a))\n",
    "print('Entry is finite :', np.isfinite(a))"
   ]
  },
  {
   "cell_type": "markdown",
   "metadata": {},
   "source": [
    "## Finding statistics in an array"
   ]
  },
  {
   "cell_type": "code",
   "execution_count": 55,
   "metadata": {},
   "outputs": [
    {
     "output_type": "stream",
     "name": "stdout",
     "text": [
      "mean of a = 7.971428571428571\nmean of a = 7.971428571428571\n\nvariance of a = 42.03061224489795\nmy standard deviation of a = 6.483102054178844\nstandard deviation of a = 6.483102054178844\n"
     ]
    }
   ],
   "source": [
    "# We want to find the mean and variance of a series\n",
    "a = np.array([2, 1, 3, 10.0, 5.3, 18.2, 16.3],dtype=float)\n",
    "mean = a.sum()/len(a)\n",
    "print('mean of a =', mean)\n",
    "print('mean of a =', a.mean(), end='\\n\\n')\n",
    "print('variance of a =', a.var())\n",
    "print('my standard deviation of a =', np.sqrt(a.var()))\n",
    "print('standard deviation of a =', a.std())"
   ]
  },
  {
   "cell_type": "code",
   "execution_count": 56,
   "metadata": {},
   "outputs": [
    {
     "output_type": "stream",
     "name": "stdout",
     "text": [
      "a = [ 2.   1.   3.  10.   5.3 18.2 16.3]\nminimum element in a = 1.0\nminimum occurs in index: 1\nmaximum element in a = 18.2\nmaximum occurs in index: 5\n"
     ]
    }
   ],
   "source": [
    "# We want to find the min or max or argmin or argmax in a series\n",
    "a = np.array([2, 1, 3, 10.0, 5.3, 18.2, 16.3],dtype=float)\n",
    "\n",
    "print('a =', a)\n",
    "print('minimum element in a =', a.min())\n",
    "print('minimum occurs in index:', a.argmin())\n",
    "print('maximum element in a =', a.max())\n",
    "print('maximum occurs in index:', a.argmax())\n",
    "\n"
   ]
  },
  {
   "cell_type": "code",
   "execution_count": 57,
   "metadata": {},
   "outputs": [
    {
     "output_type": "stream",
     "name": "stdout",
     "text": [
      "a = [[ 0.  2.]\n [ 3. -1.]\n [ 3.  5.]]\nmean in axis 0 =  [2. 2.]\nmean in axis 1 =  [1. 1. 4.]\nmin  in axis 0 =  [ 0. -1.]\nmin  in axis 1 =  [ 0. -1.  3.]\nmax  in axis 0 =  [3. 5.]\nmax  in axis 1 =  [2. 3. 5.]\n"
     ]
    }
   ],
   "source": [
    "# We can even control which axis to take the statistics\n",
    "a = np.array([[0,2],[3,-1],[3,5]], dtype=float)\n",
    "print('a =', a)\n",
    "\n",
    "print('mean in axis 0 = ', a.mean(axis=0))\n",
    "print('mean in axis 1 = ', a.mean(axis=1))\n",
    "print('min  in axis 0 = ', a.min(axis=0))\n",
    "print('min  in axis 1 = ', a.min(axis=1))\n",
    "print('max  in axis 0 = ', a.max(axis=0))\n",
    "print('max  in axis 1 = ', a.max(axis=1))"
   ]
  },
  {
   "cell_type": "markdown",
   "metadata": {},
   "source": [
    "## Array item selection and manipulation (IMPORTANT !!!!!)"
   ]
  },
  {
   "cell_type": "code",
   "execution_count": 58,
   "metadata": {},
   "outputs": [
    {
     "output_type": "stream",
     "name": "stdout",
     "text": [
      "a= [[6. 4.]\n [5. 9.]]\nb =  [[ True False]\n [False  True]] . Type of b: <class 'numpy.ndarray'>\nc =  [6. 9.] . Type of c: <class 'numpy.ndarray'>\n"
     ]
    }
   ],
   "source": [
    "a = np.array([[6,4], [5,9]], float)  # define a 2x2 array\n",
    "print('a=', a)\n",
    "\n",
    "b = a >= 6  # define a boolean array with the same dimension as 'a'\n",
    "c = a[b]    # select entries in 'a' which are correspondinly true in 'b'\n",
    "print('b = ', b, '. Type of b:', type(b))\n",
    "print('c = ', c, '. Type of c:', type(c))"
   ]
  },
  {
   "cell_type": "code",
   "execution_count": 59,
   "metadata": {},
   "outputs": [
    {
     "output_type": "stream",
     "name": "stdout",
     "text": [
      "a= [[6. 4.]\n [5. 9.]]\nb =  [[ True False]\n [False  True]] . Type of b: <class 'numpy.ndarray'>\nc =  [6. 9.] . Type of c: <class 'numpy.ndarray'>\n"
     ]
    }
   ],
   "source": [
    "a = np.array([[6,4], [5,9]], float)  # define a 2x2 array\n",
    "print('a=', a)\n",
    "\n",
    "b = (a >= 6)\n",
    "print('b = ', b, '. Type of b:', type(b))\n",
    "\n",
    "c = a[b]\n",
    "print('c = ', c, '. Type of c:', type(c))"
   ]
  },
  {
   "cell_type": "code",
   "execution_count": 60,
   "metadata": {},
   "outputs": [
    {
     "output_type": "stream",
     "name": "stdout",
     "text": [
      "a= [[6. 4.]\n [5. 9.]]\nb =  [6.] . Type of b: <class 'numpy.ndarray'>\n"
     ]
    }
   ],
   "source": [
    "a = np.array([[6,4], [5,9]], float)  # define a 2x2 array\n",
    "print('a=', a)\n",
    "\n",
    "b = a[np.logical_and(a > 5, a <9)]\n",
    "print('b = ', b, '. Type of b:', type(b))\n",
    "\n"
   ]
  },
  {
   "cell_type": "code",
   "execution_count": 61,
   "metadata": {},
   "outputs": [
    {
     "output_type": "stream",
     "name": "stdout",
     "text": [
      "a= [2. 4. 6. 8.] ; b= [0 0 1 3 2 1]\nc =  [2. 2. 4. 8. 6. 4.] . Type of c: <class 'numpy.ndarray'>\n"
     ]
    }
   ],
   "source": [
    "a = np.array([2, 4, 6, 8], float)\n",
    "b = np.array([0, 0, 1, 3, 2, 1], int)  # it has to be an integer array\n",
    "print('a=', a, '; b=', b)\n",
    "c = a[b]   # create array c\n",
    "print('c = ', c, '. Type of c:', type(c))"
   ]
  },
  {
   "cell_type": "markdown",
   "metadata": {},
   "source": [
    "### Multidimensional array selection\n",
    "\n",
    "For multidimensional arrays, we have to use multiple one-dimensional integer array to the selection bracket, **one for each axis**"
   ]
  },
  {
   "cell_type": "code",
   "execution_count": 62,
   "metadata": {},
   "outputs": [
    {
     "output_type": "stream",
     "name": "stdout",
     "text": [
      "a = [[ 1.  4.]\n [ 9. 16.]]\nb = [0 0 1 1 0]\nc = [0 1 1 1 1]\nd = [ 1.  4. 16. 16.  4.] ; type of d is: <class 'numpy.ndarray'>\n"
     ]
    }
   ],
   "source": [
    "a = np.array([[1,4], [9,16]], float)\n",
    "b = np.array([0, 0, 1, 1, 0], int)\n",
    "c = np.array([0, 1, 1, 1, 1], int)\n",
    "d = a[b,c]\n",
    "\n",
    "print('a =', a)\n",
    "print('b =', b)\n",
    "print('c =', c)\n",
    "print('d =', d, '; type of d is:', type(d))"
   ]
  },
  {
   "cell_type": "markdown",
   "metadata": {},
   "source": [
    "## take method\n",
    "The function **take** is available to perform selection with integer arrays"
   ]
  },
  {
   "cell_type": "code",
   "execution_count": 63,
   "metadata": {},
   "outputs": [
    {
     "output_type": "stream",
     "name": "stdout",
     "text": [
      "a = [2. 4. 6. 8.] ; b= [0 0 1 3 2 1]\na.take(b) =  [2. 2. 4. 8. 6. 4.]\n"
     ]
    }
   ],
   "source": [
    "a = np.array([2, 4, 6, 8], float)\n",
    "b = np.array([0, 0, 1, 3, 2, 1], int)\n",
    "\n",
    "print('a =', a, '; b=', b)\n",
    "print('a.take(b) = ', a.take(b))"
   ]
  },
  {
   "cell_type": "markdown",
   "metadata": {},
   "source": [
    "## put method\n",
    "The function **put** takes values from a soure array and place them at specified indices"
   ]
  },
  {
   "cell_type": "code",
   "execution_count": 64,
   "metadata": {},
   "outputs": [
    {
     "output_type": "stream",
     "name": "stdout",
     "text": [
      "a= [0. 1. 2. 3. 4. 5.]\na= [9. 1. 2. 8. 4. 7.]\n"
     ]
    }
   ],
   "source": [
    "a = np.array([0, 1, 2, 3, 4, 5], float)\n",
    "print('a=', a)\n",
    "b = np.array([9, 8, 7], float)\n",
    "\n",
    "a.put([0, 3, 5], b)  # put entries of b in a according to a given indices\n",
    "print('a=', a)"
   ]
  },
  {
   "cell_type": "code",
   "execution_count": 65,
   "metadata": {},
   "outputs": [
    {
     "output_type": "stream",
     "name": "stdout",
     "text": [
      "a= [0. 1. 2. 3. 4. 5.]\na= [5. 1. 5. 5. 4. 5.]\n"
     ]
    }
   ],
   "source": [
    "# for put method, it can repeat if necessary\n",
    "a = np.array([0, 1, 2, 3, 4, 5], float)\n",
    "print('a=',a)\n",
    "\n",
    "a.put([0,2,3], 5)\n",
    "print('a=', a)"
   ]
  },
  {
   "cell_type": "markdown",
   "metadata": {},
   "source": [
    "## Vector and matrix mathematics\n",
    "\n",
    "We can do *dot* products and matrix multiplication,...etc"
   ]
  },
  {
   "cell_type": "code",
   "execution_count": 66,
   "metadata": {},
   "outputs": [
    {
     "output_type": "stream",
     "name": "stdout",
     "text": [
      "a= [1. 2. 3.] ; b= [0. 1. 1.]\na dot b = 5.0\n"
     ]
    }
   ],
   "source": [
    "a = np.array([1,2,3], float)\n",
    "b = np.array([0,1,1], float)\n",
    "\n",
    "print('a=', a, '; b=', b)\n",
    "print('a dot b =', np.dot(a,b))"
   ]
  },
  {
   "cell_type": "code",
   "execution_count": 67,
   "metadata": {},
   "outputs": [
    {
     "output_type": "stream",
     "name": "stdout",
     "text": [
      "a= [[1. 2.]\n [3. 4.]]\n\nb= [2. 3.]\n\nc= [[1. 1.]\n [4. 0.]]\n\nb*a = [11. 16.]\na*b = [ 8. 18.]\na*c = [[ 9.  1.]\n [19.  3.]]\nc*a = [[4. 6.]\n [4. 8.]]\n"
     ]
    }
   ],
   "source": [
    "a = np.array([[1,2], [3,4]], float)\n",
    "b = np.array([2,3], float)\n",
    "c = np.array([[1,1], [4,0]], float)\n",
    "print('a=', a, end='\\n\\n') \n",
    "print('b=', b, end='\\n\\n')\n",
    "print('c=', c, end='\\n\\n')\n",
    "print('b*a =', np.dot(b,a))\n",
    "print('a*b =', np.dot(a,b))\n",
    "print('a*c =', np.dot(a,c))\n",
    "print('c*a =', np.dot(c,a))"
   ]
  },
  {
   "cell_type": "markdown",
   "metadata": {},
   "source": [
    "## inner, outer and cross prodcuts of matrices and vectors"
   ]
  },
  {
   "cell_type": "code",
   "execution_count": 68,
   "metadata": {},
   "outputs": [
    {
     "output_type": "stream",
     "name": "stdout",
     "text": [
      "a= [1. 4. 0.] ; b= [2. 2. 1.]\nnp.outer(a,b)= [[2. 2. 1.]\n [8. 8. 4.]\n [0. 0. 0.]]\nnp.inner(a,b)= 10.0\nnp.cross(a,b)= [ 4. -1. -6.]\n"
     ]
    }
   ],
   "source": [
    "a = np.array([1,4,0], float)\n",
    "b = np.array([2,2,1], float)\n",
    "print('a=', a, '; b=', b)\n",
    "print('np.outer(a,b)=', np.outer(a,b))\n",
    "print('np.inner(a,b)=', np.inner(a,b))\n",
    "print('np.cross(a,b)=', np.cross(a,b))"
   ]
  },
  {
   "cell_type": "markdown",
   "metadata": {},
   "source": [
    "## Determinants, inverse and eigenvalues\n"
   ]
  },
  {
   "cell_type": "code",
   "execution_count": 69,
   "metadata": {},
   "outputs": [
    {
     "output_type": "stream",
     "name": "stdout",
     "text": [
      "a = [[4. 2. 0.]\n [9. 3. 7.]\n [1. 2. 1.]]\ndeterminant of a is:  -48.00000000000003\neigenalues:  [ 8.85591316  1.9391628  -2.79507597]\neigenvectors:  [[-0.3663565  -0.54736745  0.25928158]\n [-0.88949768  0.5640176  -0.88091903]\n [-0.27308752  0.61828231  0.39592263]]\ninverse of a =  [[ 0.22916667  0.04166667 -0.29166667]\n [ 0.04166667 -0.08333333  0.58333333]\n [-0.3125      0.125       0.125     ]]\nlet's check, a * b =  [[1.00000000e+00 5.55111512e-17 0.00000000e+00]\n [0.00000000e+00 1.00000000e+00 2.22044605e-16]\n [0.00000000e+00 1.38777878e-17 1.00000000e+00]]\n"
     ]
    }
   ],
   "source": [
    "a = np.array([[4, 2, 0], [9, 3, 7],[1, 2, 1]], float)\n",
    "print ('a =', a)\n",
    "print('determinant of a is: ', np.linalg.det(a)) # get determinant\n",
    "vals, vecs = np.linalg.eig(a)   # get eigenvalues/engenvectors\n",
    "print('eigenalues: ', vals)\n",
    "print('eigenvectors: ', vecs)\n",
    "\n",
    "b = np.linalg.inv(a)     # compute inverse of a\n",
    "print('inverse of a = ', b)\n",
    "\n",
    "print(\"let's check, a * b = \", np.dot(a,b))"
   ]
  },
  {
   "cell_type": "markdown",
   "metadata": {},
   "source": [
    "## Singular Value Decomposition (SVD)"
   ]
  },
  {
   "cell_type": "code",
   "execution_count": 70,
   "metadata": {},
   "outputs": [
    {
     "output_type": "stream",
     "name": "stdout",
     "text": [
      "U is: [[-0.6113829  -0.79133492]\n [-0.79133492  0.6113829 ]]\ns is: [7.46791327 2.86884495]\nVh is: [[-0.61169129 -0.45753324 -0.64536587]\n [ 0.78971838 -0.40129005 -0.46401635]\n [-0.046676   -0.79349205  0.60678804]]\n"
     ]
    }
   ],
   "source": [
    "a = np.array([[1,3,4], [5,2,3]], float)\n",
    "U, s, Vh = np.linalg.svd(a)   # get SVD of a\n",
    "print ('U is:', U)\n",
    "print('s is:', s)\n",
    "print('Vh is:', Vh)"
   ]
  },
  {
   "cell_type": "markdown",
   "metadata": {},
   "source": [
    "## Polynomial mathematics\n",
    "\n",
    "Given a set of roots, it is possible to show the polynomial coefficient using the *poly* method in NumPy.\n",
    "\n",
    "Let say for the following polynomial: $x^4 - 11x^3 +9x^2 + 11x - 10$.\n",
    "If we know the roots are (-1, 1, 1, 10), we use *poly* method to find the \n",
    "coefficient.\n"
   ]
  },
  {
   "cell_type": "code",
   "execution_count": 71,
   "metadata": {},
   "outputs": [
    {
     "output_type": "stream",
     "name": "stdout",
     "text": [
      "Polynomial coefficients are:  [  1. -11.   9.  11. -10.]\n"
     ]
    }
   ],
   "source": [
    "print('Polynomial coefficients are: ', np.poly([-1, 1, 1, 10]))"
   ]
  },
  {
   "cell_type": "markdown",
   "metadata": {},
   "source": [
    "Given a set of coefficients in a polynomail, we can find the roots also via *roots* method.\n",
    "Let say we have the following polynomail: $x^3 + 4x^2 -2 x + 3$."
   ]
  },
  {
   "cell_type": "code",
   "execution_count": 72,
   "metadata": {},
   "outputs": [
    {
     "output_type": "execute_result",
     "data": {
      "text/plain": [
       "array([-4.5797401 +0.j        ,  0.28987005+0.75566815j,\n",
       "        0.28987005-0.75566815j])"
      ]
     },
     "metadata": {},
     "execution_count": 72
    }
   ],
   "source": [
    "np.roots([1, 4, -2, 3])   # get roots"
   ]
  },
  {
   "cell_type": "markdown",
   "metadata": {},
   "source": [
    "We can do polynomail integration via the *polyint* method. For example, we have the following polynomial:<br>\n",
    "  $x^3 + x^2 + x + 1$\n",
    "\n",
    "If we integrate it, we should have $x^4/4 + x^3/3 + x^2/2 + x + C$, where $C$ is a constant."
   ]
  },
  {
   "cell_type": "code",
   "execution_count": 73,
   "metadata": {},
   "outputs": [
    {
     "output_type": "execute_result",
     "data": {
      "text/plain": [
       "array([0.25      , 0.33333333, 0.5       , 1.        , 0.        ])"
      ]
     },
     "metadata": {},
     "execution_count": 73
    }
   ],
   "source": [
    "np.polyint([1,1,1,1])  # perform integration on a polynomial (specify coefficients)"
   ]
  },
  {
   "cell_type": "code",
   "execution_count": 74,
   "metadata": {},
   "outputs": [
    {
     "output_type": "execute_result",
     "data": {
      "text/plain": [
       "array([1., 1., 1., 1.])"
      ]
     },
     "metadata": {},
     "execution_count": 74
    }
   ],
   "source": [
    "np.polyder([1/4, 1/3, 1/2, 1, 0])  # perform derivative of polynomial (specify coefficients)"
   ]
  },
  {
   "cell_type": "markdown",
   "metadata": {},
   "source": [
    "## Note that there are other polynomail methods \n",
    "- polyadd\n",
    "- polysub\n",
    "- polymul\n",
    "- polydiv\n",
    "- polyval\n",
    "\n",
    "Read the documentation of Numpy"
   ]
  },
  {
   "cell_type": "markdown",
   "metadata": {},
   "source": [
    "## Evaluate polynomail at a given point\n",
    "\n",
    "Let's say we want to evaluate $x^3 - 2x^2 + 2$ at $x=4$."
   ]
  },
  {
   "cell_type": "code",
   "execution_count": 75,
   "metadata": {},
   "outputs": [
    {
     "output_type": "execute_result",
     "data": {
      "text/plain": [
       "34"
      ]
     },
     "metadata": {},
     "execution_count": 75
    }
   ],
   "source": [
    "np.polyval([1,-2,0, 2], 4)"
   ]
  },
  {
   "cell_type": "markdown",
   "metadata": {},
   "source": [
    "## Curve fitting\n",
    "\n",
    "We can use *polyfit()* method, which fits a polynomial of specified order to a set of data using the *least-square method*."
   ]
  },
  {
   "cell_type": "code",
   "execution_count": 76,
   "metadata": {},
   "outputs": [
    {
     "output_type": "execute_result",
     "data": {
      "text/plain": [
       "array([ 0.03282828, -0.06818182,  0.8037518 , -0.57142857])"
      ]
     },
     "metadata": {},
     "execution_count": 76
    }
   ],
   "source": [
    "x = [1, 2, 3, 4, 5, 6, 7, 8]  \n",
    "y = [0, 2, 1, 3, 7, 10, 11, 19]\n",
    "\n",
    "# use polyfit to find the least square fit using polynomail of degree 2\n",
    "np.polyfit(x,y,3)     # it returns all coefficients"
   ]
  },
  {
   "cell_type": "markdown",
   "metadata": {},
   "source": [
    "## Statistics\n",
    "\n",
    "We can use *mean, median, var, stad* methods to find the statistics of vectors or matrices"
   ]
  },
  {
   "cell_type": "code",
   "execution_count": 77,
   "metadata": {},
   "outputs": [
    {
     "output_type": "stream",
     "name": "stdout",
     "text": [
      "sorted a is:  [1.0, 2.0, 3.0, 3.0, 4.0, 8.0, 9.0]\n",
      "median of a:  3.0\n"
     ]
    }
   ],
   "source": [
    "a = np.array([1,4,3,8,9,2,3], float)  # find median\n",
    "print(\"sorted a is: \", sorted(a))\n",
    "print('median of a: ', np.median(a))"
   ]
  },
  {
   "cell_type": "code",
   "execution_count": 78,
   "metadata": {},
   "outputs": [
    {
     "output_type": "stream",
     "name": "stdout",
     "text": [
      "Correlation coefficient matrix: \n",
      " [[1.         0.72870505]\n",
      " [0.72870505 1.        ]]\n"
     ]
    }
   ],
   "source": [
    "# find correlation coefficient matrix (corrcoef)\n",
    "a = np.array([[1,2,1,3], [5,3,1,8]], float)\n",
    "c = np.corrcoef(a)\n",
    "print('Correlation coefficient matrix: \\n', c)"
   ]
  },
  {
   "cell_type": "code",
   "execution_count": 79,
   "metadata": {},
   "outputs": [
    {
     "output_type": "stream",
     "name": "stdout",
     "text": [
      "Covariance of data: \n [[0.91666667 2.08333333]\n [2.08333333 8.91666667]]\n"
     ]
    }
   ],
   "source": [
    "# find covariane of data (cov)\n",
    "print('Covariance of data: \\n', np.cov(a))"
   ]
  },
  {
   "cell_type": "markdown",
   "metadata": {},
   "source": [
    "## Use random number generators in NumPy\n",
    "\n",
    "We need random number generators in simulation, statistical analysis and machine learning tasks."
   ]
  },
  {
   "cell_type": "code",
   "execution_count": 80,
   "metadata": {},
   "outputs": [
    {
     "output_type": "execute_result",
     "data": {
      "text/plain": [
       "array([0.19418996, 0.49985793, 0.43693203, 0.66627894, 0.61403005])"
      ]
     },
     "metadata": {},
     "execution_count": 80
    }
   ],
   "source": [
    "# uniformly generate 5 random number in [0.0, 1.0)\n",
    "np.random.rand(5)"
   ]
  },
  {
   "cell_type": "code",
   "execution_count": 81,
   "metadata": {},
   "outputs": [
    {
     "output_type": "stream",
     "name": "stdout",
     "text": [
      "A 2x3 matrix with random # between [0, 1.0):\n [[0.68769253 0.79497305 0.73380984]\n [0.61022114 0.01885021 0.07378487]]\n"
     ]
    }
   ],
   "source": [
    "# random numbers for array, and use of *reshape()* method\n",
    "print('A 2x3 matrix with random # between [0, 1.0):\\n',\n",
    "       np.random.rand(2,3))"
   ]
  },
  {
   "cell_type": "code",
   "execution_count": 82,
   "metadata": {},
   "outputs": [
    {
     "output_type": "stream",
     "name": "stdout",
     "text": [
      "A 2x3 matrix with random # between [0, 1.0):\n [[0.22754587 0.28548367 0.2963739 ]\n [0.74576163 0.48371395 0.19020418]]\n"
     ]
    }
   ],
   "source": [
    "# or we can use reshape()\n",
    "print('A 2x3 matrix with random # between [0, 1.0):\\n',\n",
    "       np.random.rand(6).reshape(2,3))"
   ]
  },
  {
   "cell_type": "code",
   "execution_count": 83,
   "metadata": {},
   "outputs": [
    {
     "output_type": "execute_result",
     "data": {
      "text/plain": [
       "0.9268011929740875"
      ]
     },
     "metadata": {},
     "execution_count": 83
    }
   ],
   "source": [
    "# generate a SINGLE random number between [0, 1)\n",
    "np.random.rand()"
   ]
  },
  {
   "cell_type": "code",
   "execution_count": 84,
   "metadata": {},
   "outputs": [
    {
     "output_type": "execute_result",
     "data": {
      "text/plain": [
       "9"
      ]
     },
     "metadata": {},
     "execution_count": 84
    }
   ],
   "source": [
    "# generate a random INTEGER in the range [min, max]\n",
    "np.random.randint(5,10)"
   ]
  },
  {
   "cell_type": "code",
   "execution_count": 85,
   "metadata": {},
   "outputs": [
    {
     "output_type": "execute_result",
     "data": {
      "text/plain": [
       "4"
      ]
     },
     "metadata": {},
     "execution_count": 85
    }
   ],
   "source": [
    "# Generate a random number from a Poisson distribution with a mean of 6.0\n",
    "np.random.poisson(6.0)"
   ]
  },
  {
   "cell_type": "code",
   "execution_count": 86,
   "metadata": {},
   "outputs": [
    {
     "output_type": "execute_result",
     "data": {
      "text/plain": [
       "3.4115851093239176"
      ]
     },
     "metadata": {},
     "execution_count": 86
    }
   ],
   "source": [
    "# Generate a random number from a Normal distribution with a mean and standard deviation\n",
    "np.random.normal(1.5, 4.0)"
   ]
  },
  {
   "cell_type": "code",
   "execution_count": 87,
   "metadata": {},
   "outputs": [
    {
     "output_type": "execute_result",
     "data": {
      "text/plain": [
       "0.07265275168565125"
      ]
     },
     "metadata": {},
     "execution_count": 87
    }
   ],
   "source": [
    "# Generate a random number from a standard normal distribution\n",
    "np.random.normal()"
   ]
  },
  {
   "cell_type": "code",
   "execution_count": 88,
   "metadata": {},
   "outputs": [
    {
     "output_type": "execute_result",
     "data": {
      "text/plain": [
       "array([-1.04501371,  1.13532535, -0.36587812, -1.19898905,  1.38784188])"
      ]
     },
     "metadata": {},
     "execution_count": 88
    }
   ],
   "source": [
    "# Draw multiple values using the *size* argument\n",
    "np.random.normal(size=5)"
   ]
  },
  {
   "cell_type": "markdown",
   "metadata": {},
   "source": [
    "# SciPy\n",
    "\n",
    "- Greatly extends the functionality of NumPy\n",
    "- We can use \"import scipy\" to import the module\n",
    "- SciPy has **many packages**\n",
    "- To explore, do **help(scipy)** \n",
    "- scipy.constants:  many mathematical & physical constants\n",
    "- scipy.speical: many special functions like gamma, beta, bessel,..etc\n",
    "- scipy.integrate: perform numerical integration using methods like trapezoidal, Simpson's Romberg,..etc\n",
    "- scipy.optimize: minimization and maximization routines\n",
    "- scipy.linalg: linear algebra routines (broader than NumPy)\n",
    "- scipy.sparse: routines for working with large and sparce matrices\n",
    "- scipy.interpolate: interpolation routines\n",
    "- scipy.fftpack: Fast Fourier transform routines\n",
    "- scipy.signal: signal processing routines, e.g., convolution\n",
    "- scipy.stats: Huge library of various statistical distributions and functions\n",
    "- scipy.ndimage: n-dimensioanl image processing routines\n",
    "- scipy.cluster: Vector quantization and Kmeans\n",
    "- scipy.io: Data input and output\n",
    "- scipy.spatial: Spatial data strcutures and algorithms\n",
    "\n",
    "Let's illustrate some of them"
   ]
  },
  {
   "cell_type": "code",
   "execution_count": 89,
   "metadata": {},
   "outputs": [
    {
     "output_type": "stream",
     "name": "stdout",
     "text": [
      "The matrix a in data is: \n [[1. 1. 1.]\n [1. 1. 1.]\n [1. 1. 1.]]\n"
     ]
    }
   ],
   "source": [
    "import numpy as np\n",
    "from scipy import stats\n",
    "from scipy import io as spio\n",
    "\n",
    "a = np.ones((3,3))  # generate a 3x3 matrix with all 1's\n",
    "\n",
    "# save a to a MatLab file \n",
    "spio.savemat('file.mat', {'a': a})  # savemat expects a dictionary\n",
    "\n",
    "# load the file to another variable\n",
    "data = spio.loadmat('file.mat', struct_as_record=True)\n",
    "print('The matrix a in data is: \\n', data['a'])"
   ]
  },
  {
   "cell_type": "markdown",
   "metadata": {},
   "source": [
    "## SciPy: Linear Algebra (scipy.linalg)\n"
   ]
  },
  {
   "cell_type": "code",
   "execution_count": 90,
   "metadata": {},
   "outputs": [
    {
     "output_type": "stream",
     "name": "stdout",
     "text": [
      "arr =\n [[1. 2.]\n [3. 4.]]\narr's determinant is:  -2.0\n"
     ]
    }
   ],
   "source": [
    "# Matrix determinant\n",
    "import numpy as np\n",
    "from scipy import linalg\n",
    "arr = np.array([[1,2], [3,4]], float)\n",
    "print('arr =\\n', arr)\n",
    "print(\"arr's determinant is: \", linalg.det(arr))"
   ]
  },
  {
   "cell_type": "code",
   "execution_count": 91,
   "metadata": {},
   "outputs": [
    {
     "output_type": "stream",
     "name": "stdout",
     "text": [
      "arr's inverse is:\n [[-2.   1. ]\n [ 1.5 -0.5]]\n\narr * arr_inv is:\n [[1.0000000e+00 0.0000000e+00]\n [8.8817842e-16 1.0000000e+00]]\n"
     ]
    }
   ],
   "source": [
    "# Matrix inverse\n",
    "arr_inv = linalg.inv(arr)\n",
    "print(\"arr's inverse is:\\n\", arr_inv)\n",
    "\n",
    "# Let's do a test\n",
    "print(\"\\narr * arr_inv is:\\n\", np.dot(arr, arr_inv))"
   ]
  },
  {
   "cell_type": "markdown",
   "metadata": {},
   "source": [
    "## Let's examine the optimizatoin and search routines in SciPy"
   ]
  },
  {
   "cell_type": "code",
   "execution_count": 92,
   "metadata": {},
   "outputs": [
    {
     "output_type": "display_data",
     "data": {
      "text/plain": "<Figure size 432x288 with 1 Axes>",
      "image/svg+xml": "<?xml version=\"1.0\" encoding=\"utf-8\" standalone=\"no\"?>\r\n<!DOCTYPE svg PUBLIC \"-//W3C//DTD SVG 1.1//EN\"\r\n  \"http://www.w3.org/Graphics/SVG/1.1/DTD/svg11.dtd\">\r\n<!-- Created with matplotlib (https://matplotlib.org/) -->\r\n<svg height=\"248.518125pt\" version=\"1.1\" viewBox=\"0 0 375.2875 248.518125\" width=\"375.2875pt\" xmlns=\"http://www.w3.org/2000/svg\" xmlns:xlink=\"http://www.w3.org/1999/xlink\">\r\n <metadata>\r\n  <rdf:RDF xmlns:cc=\"http://creativecommons.org/ns#\" xmlns:dc=\"http://purl.org/dc/elements/1.1/\" xmlns:rdf=\"http://www.w3.org/1999/02/22-rdf-syntax-ns#\">\r\n   <cc:Work>\r\n    <dc:type rdf:resource=\"http://purl.org/dc/dcmitype/StillImage\"/>\r\n    <dc:date>2020-10-20T17:18:37.638178</dc:date>\r\n    <dc:format>image/svg+xml</dc:format>\r\n    <dc:creator>\r\n     <cc:Agent>\r\n      <dc:title>Matplotlib v3.3.2, https://matplotlib.org/</dc:title>\r\n     </cc:Agent>\r\n    </dc:creator>\r\n   </cc:Work>\r\n  </rdf:RDF>\r\n </metadata>\r\n <defs>\r\n  <style type=\"text/css\">*{stroke-linecap:butt;stroke-linejoin:round;}</style>\r\n </defs>\r\n <g id=\"figure_1\">\r\n  <g id=\"patch_1\">\r\n   <path d=\"M 0 248.518125 \r\nL 375.2875 248.518125 \r\nL 375.2875 0 \r\nL 0 0 \r\nz\r\n\" style=\"fill:none;\"/>\r\n  </g>\r\n  <g id=\"axes_1\">\r\n   <g id=\"patch_2\">\r\n    <path d=\"M 33.2875 224.64 \r\nL 368.0875 224.64 \r\nL 368.0875 7.2 \r\nL 33.2875 7.2 \r\nz\r\n\" style=\"fill:#ffffff;\"/>\r\n   </g>\r\n   <g id=\"matplotlib.axis_1\">\r\n    <g id=\"xtick_1\">\r\n     <g id=\"line2d_1\">\r\n      <defs>\r\n       <path d=\"M 0 0 \r\nL 0 3.5 \r\n\" id=\"m9efbb34c6f\" style=\"stroke:#000000;stroke-width:0.8;\"/>\r\n      </defs>\r\n      <g>\r\n       <use style=\"stroke:#000000;stroke-width:0.8;\" x=\"48.505682\" xlink:href=\"#m9efbb34c6f\" y=\"224.64\"/>\r\n      </g>\r\n     </g>\r\n     <g id=\"text_1\">\r\n      <!-- −10.0 -->\r\n      <g transform=\"translate(33.183026 239.238437)scale(0.1 -0.1)\">\r\n       <defs>\r\n        <path d=\"M 10.59375 35.5 \r\nL 73.1875 35.5 \r\nL 73.1875 27.203125 \r\nL 10.59375 27.203125 \r\nz\r\n\" id=\"DejaVuSans-8722\"/>\r\n        <path d=\"M 12.40625 8.296875 \r\nL 28.515625 8.296875 \r\nL 28.515625 63.921875 \r\nL 10.984375 60.40625 \r\nL 10.984375 69.390625 \r\nL 28.421875 72.90625 \r\nL 38.28125 72.90625 \r\nL 38.28125 8.296875 \r\nL 54.390625 8.296875 \r\nL 54.390625 0 \r\nL 12.40625 0 \r\nz\r\n\" id=\"DejaVuSans-49\"/>\r\n        <path d=\"M 31.78125 66.40625 \r\nQ 24.171875 66.40625 20.328125 58.90625 \r\nQ 16.5 51.421875 16.5 36.375 \r\nQ 16.5 21.390625 20.328125 13.890625 \r\nQ 24.171875 6.390625 31.78125 6.390625 \r\nQ 39.453125 6.390625 43.28125 13.890625 \r\nQ 47.125 21.390625 47.125 36.375 \r\nQ 47.125 51.421875 43.28125 58.90625 \r\nQ 39.453125 66.40625 31.78125 66.40625 \r\nz\r\nM 31.78125 74.21875 \r\nQ 44.046875 74.21875 50.515625 64.515625 \r\nQ 56.984375 54.828125 56.984375 36.375 \r\nQ 56.984375 17.96875 50.515625 8.265625 \r\nQ 44.046875 -1.421875 31.78125 -1.421875 \r\nQ 19.53125 -1.421875 13.0625 8.265625 \r\nQ 6.59375 17.96875 6.59375 36.375 \r\nQ 6.59375 54.828125 13.0625 64.515625 \r\nQ 19.53125 74.21875 31.78125 74.21875 \r\nz\r\n\" id=\"DejaVuSans-48\"/>\r\n        <path d=\"M 10.6875 12.40625 \r\nL 21 12.40625 \r\nL 21 0 \r\nL 10.6875 0 \r\nz\r\n\" id=\"DejaVuSans-46\"/>\r\n       </defs>\r\n       <use xlink:href=\"#DejaVuSans-8722\"/>\r\n       <use x=\"83.789062\" xlink:href=\"#DejaVuSans-49\"/>\r\n       <use x=\"147.412109\" xlink:href=\"#DejaVuSans-48\"/>\r\n       <use x=\"211.035156\" xlink:href=\"#DejaVuSans-46\"/>\r\n       <use x=\"242.822266\" xlink:href=\"#DejaVuSans-48\"/>\r\n      </g>\r\n     </g>\r\n    </g>\r\n    <g id=\"xtick_2\">\r\n     <g id=\"line2d_2\">\r\n      <g>\r\n       <use style=\"stroke:#000000;stroke-width:0.8;\" x=\"86.74232\" xlink:href=\"#m9efbb34c6f\" y=\"224.64\"/>\r\n      </g>\r\n     </g>\r\n     <g id=\"text_2\">\r\n      <!-- −7.5 -->\r\n      <g transform=\"translate(74.600913 239.238437)scale(0.1 -0.1)\">\r\n       <defs>\r\n        <path d=\"M 8.203125 72.90625 \r\nL 55.078125 72.90625 \r\nL 55.078125 68.703125 \r\nL 28.609375 0 \r\nL 18.3125 0 \r\nL 43.21875 64.59375 \r\nL 8.203125 64.59375 \r\nz\r\n\" id=\"DejaVuSans-55\"/>\r\n        <path d=\"M 10.796875 72.90625 \r\nL 49.515625 72.90625 \r\nL 49.515625 64.59375 \r\nL 19.828125 64.59375 \r\nL 19.828125 46.734375 \r\nQ 21.96875 47.46875 24.109375 47.828125 \r\nQ 26.265625 48.1875 28.421875 48.1875 \r\nQ 40.625 48.1875 47.75 41.5 \r\nQ 54.890625 34.8125 54.890625 23.390625 \r\nQ 54.890625 11.625 47.5625 5.09375 \r\nQ 40.234375 -1.421875 26.90625 -1.421875 \r\nQ 22.3125 -1.421875 17.546875 -0.640625 \r\nQ 12.796875 0.140625 7.71875 1.703125 \r\nL 7.71875 11.625 \r\nQ 12.109375 9.234375 16.796875 8.0625 \r\nQ 21.484375 6.890625 26.703125 6.890625 \r\nQ 35.15625 6.890625 40.078125 11.328125 \r\nQ 45.015625 15.765625 45.015625 23.390625 \r\nQ 45.015625 31 40.078125 35.4375 \r\nQ 35.15625 39.890625 26.703125 39.890625 \r\nQ 22.75 39.890625 18.8125 39.015625 \r\nQ 14.890625 38.140625 10.796875 36.28125 \r\nz\r\n\" id=\"DejaVuSans-53\"/>\r\n       </defs>\r\n       <use xlink:href=\"#DejaVuSans-8722\"/>\r\n       <use x=\"83.789062\" xlink:href=\"#DejaVuSans-55\"/>\r\n       <use x=\"147.412109\" xlink:href=\"#DejaVuSans-46\"/>\r\n       <use x=\"179.199219\" xlink:href=\"#DejaVuSans-53\"/>\r\n      </g>\r\n     </g>\r\n    </g>\r\n    <g id=\"xtick_3\">\r\n     <g id=\"line2d_3\">\r\n      <g>\r\n       <use style=\"stroke:#000000;stroke-width:0.8;\" x=\"124.978957\" xlink:href=\"#m9efbb34c6f\" y=\"224.64\"/>\r\n      </g>\r\n     </g>\r\n     <g id=\"text_3\">\r\n      <!-- −5.0 -->\r\n      <g transform=\"translate(112.837551 239.238437)scale(0.1 -0.1)\">\r\n       <use xlink:href=\"#DejaVuSans-8722\"/>\r\n       <use x=\"83.789062\" xlink:href=\"#DejaVuSans-53\"/>\r\n       <use x=\"147.412109\" xlink:href=\"#DejaVuSans-46\"/>\r\n       <use x=\"179.199219\" xlink:href=\"#DejaVuSans-48\"/>\r\n      </g>\r\n     </g>\r\n    </g>\r\n    <g id=\"xtick_4\">\r\n     <g id=\"line2d_4\">\r\n      <g>\r\n       <use style=\"stroke:#000000;stroke-width:0.8;\" x=\"163.215595\" xlink:href=\"#m9efbb34c6f\" y=\"224.64\"/>\r\n      </g>\r\n     </g>\r\n     <g id=\"text_4\">\r\n      <!-- −2.5 -->\r\n      <g transform=\"translate(151.074189 239.238437)scale(0.1 -0.1)\">\r\n       <defs>\r\n        <path d=\"M 19.1875 8.296875 \r\nL 53.609375 8.296875 \r\nL 53.609375 0 \r\nL 7.328125 0 \r\nL 7.328125 8.296875 \r\nQ 12.9375 14.109375 22.625 23.890625 \r\nQ 32.328125 33.6875 34.8125 36.53125 \r\nQ 39.546875 41.84375 41.421875 45.53125 \r\nQ 43.3125 49.21875 43.3125 52.78125 \r\nQ 43.3125 58.59375 39.234375 62.25 \r\nQ 35.15625 65.921875 28.609375 65.921875 \r\nQ 23.96875 65.921875 18.8125 64.3125 \r\nQ 13.671875 62.703125 7.8125 59.421875 \r\nL 7.8125 69.390625 \r\nQ 13.765625 71.78125 18.9375 73 \r\nQ 24.125 74.21875 28.421875 74.21875 \r\nQ 39.75 74.21875 46.484375 68.546875 \r\nQ 53.21875 62.890625 53.21875 53.421875 \r\nQ 53.21875 48.921875 51.53125 44.890625 \r\nQ 49.859375 40.875 45.40625 35.40625 \r\nQ 44.1875 33.984375 37.640625 27.21875 \r\nQ 31.109375 20.453125 19.1875 8.296875 \r\nz\r\n\" id=\"DejaVuSans-50\"/>\r\n       </defs>\r\n       <use xlink:href=\"#DejaVuSans-8722\"/>\r\n       <use x=\"83.789062\" xlink:href=\"#DejaVuSans-50\"/>\r\n       <use x=\"147.412109\" xlink:href=\"#DejaVuSans-46\"/>\r\n       <use x=\"179.199219\" xlink:href=\"#DejaVuSans-53\"/>\r\n      </g>\r\n     </g>\r\n    </g>\r\n    <g id=\"xtick_5\">\r\n     <g id=\"line2d_5\">\r\n      <g>\r\n       <use style=\"stroke:#000000;stroke-width:0.8;\" x=\"201.452233\" xlink:href=\"#m9efbb34c6f\" y=\"224.64\"/>\r\n      </g>\r\n     </g>\r\n     <g id=\"text_5\">\r\n      <!-- 0.0 -->\r\n      <g transform=\"translate(193.50067 239.238437)scale(0.1 -0.1)\">\r\n       <use xlink:href=\"#DejaVuSans-48\"/>\r\n       <use x=\"63.623047\" xlink:href=\"#DejaVuSans-46\"/>\r\n       <use x=\"95.410156\" xlink:href=\"#DejaVuSans-48\"/>\r\n      </g>\r\n     </g>\r\n    </g>\r\n    <g id=\"xtick_6\">\r\n     <g id=\"line2d_6\">\r\n      <g>\r\n       <use style=\"stroke:#000000;stroke-width:0.8;\" x=\"239.68887\" xlink:href=\"#m9efbb34c6f\" y=\"224.64\"/>\r\n      </g>\r\n     </g>\r\n     <g id=\"text_6\">\r\n      <!-- 2.5 -->\r\n      <g transform=\"translate(231.737308 239.238437)scale(0.1 -0.1)\">\r\n       <use xlink:href=\"#DejaVuSans-50\"/>\r\n       <use x=\"63.623047\" xlink:href=\"#DejaVuSans-46\"/>\r\n       <use x=\"95.410156\" xlink:href=\"#DejaVuSans-53\"/>\r\n      </g>\r\n     </g>\r\n    </g>\r\n    <g id=\"xtick_7\">\r\n     <g id=\"line2d_7\">\r\n      <g>\r\n       <use style=\"stroke:#000000;stroke-width:0.8;\" x=\"277.925508\" xlink:href=\"#m9efbb34c6f\" y=\"224.64\"/>\r\n      </g>\r\n     </g>\r\n     <g id=\"text_7\">\r\n      <!-- 5.0 -->\r\n      <g transform=\"translate(269.973946 239.238437)scale(0.1 -0.1)\">\r\n       <use xlink:href=\"#DejaVuSans-53\"/>\r\n       <use x=\"63.623047\" xlink:href=\"#DejaVuSans-46\"/>\r\n       <use x=\"95.410156\" xlink:href=\"#DejaVuSans-48\"/>\r\n      </g>\r\n     </g>\r\n    </g>\r\n    <g id=\"xtick_8\">\r\n     <g id=\"line2d_8\">\r\n      <g>\r\n       <use style=\"stroke:#000000;stroke-width:0.8;\" x=\"316.162146\" xlink:href=\"#m9efbb34c6f\" y=\"224.64\"/>\r\n      </g>\r\n     </g>\r\n     <g id=\"text_8\">\r\n      <!-- 7.5 -->\r\n      <g transform=\"translate(308.210583 239.238437)scale(0.1 -0.1)\">\r\n       <use xlink:href=\"#DejaVuSans-55\"/>\r\n       <use x=\"63.623047\" xlink:href=\"#DejaVuSans-46\"/>\r\n       <use x=\"95.410156\" xlink:href=\"#DejaVuSans-53\"/>\r\n      </g>\r\n     </g>\r\n    </g>\r\n    <g id=\"xtick_9\">\r\n     <g id=\"line2d_9\">\r\n      <g>\r\n       <use style=\"stroke:#000000;stroke-width:0.8;\" x=\"354.398784\" xlink:href=\"#m9efbb34c6f\" y=\"224.64\"/>\r\n      </g>\r\n     </g>\r\n     <g id=\"text_9\">\r\n      <!-- 10.0 -->\r\n      <g transform=\"translate(343.265971 239.238437)scale(0.1 -0.1)\">\r\n       <use xlink:href=\"#DejaVuSans-49\"/>\r\n       <use x=\"63.623047\" xlink:href=\"#DejaVuSans-48\"/>\r\n       <use x=\"127.246094\" xlink:href=\"#DejaVuSans-46\"/>\r\n       <use x=\"159.033203\" xlink:href=\"#DejaVuSans-48\"/>\r\n      </g>\r\n     </g>\r\n    </g>\r\n   </g>\r\n   <g id=\"matplotlib.axis_2\">\r\n    <g id=\"ytick_1\">\r\n     <g id=\"line2d_10\">\r\n      <defs>\r\n       <path d=\"M 0 0 \r\nL -3.5 0 \r\n\" id=\"m91e873422d\" style=\"stroke:#000000;stroke-width:0.8;\"/>\r\n      </defs>\r\n      <g>\r\n       <use style=\"stroke:#000000;stroke-width:0.8;\" x=\"33.2875\" xlink:href=\"#m91e873422d\" y=\"200.904321\"/>\r\n      </g>\r\n     </g>\r\n     <g id=\"text_10\">\r\n      <!-- 0 -->\r\n      <g transform=\"translate(19.925 204.70354)scale(0.1 -0.1)\">\r\n       <use xlink:href=\"#DejaVuSans-48\"/>\r\n      </g>\r\n     </g>\r\n    </g>\r\n    <g id=\"ytick_2\">\r\n     <g id=\"line2d_11\">\r\n      <g>\r\n       <use style=\"stroke:#000000;stroke-width:0.8;\" x=\"33.2875\" xlink:href=\"#m91e873422d\" y=\"166.037038\"/>\r\n      </g>\r\n     </g>\r\n     <g id=\"text_11\">\r\n      <!-- 20 -->\r\n      <g transform=\"translate(13.5625 169.836257)scale(0.1 -0.1)\">\r\n       <use xlink:href=\"#DejaVuSans-50\"/>\r\n       <use x=\"63.623047\" xlink:href=\"#DejaVuSans-48\"/>\r\n      </g>\r\n     </g>\r\n    </g>\r\n    <g id=\"ytick_3\">\r\n     <g id=\"line2d_12\">\r\n      <g>\r\n       <use style=\"stroke:#000000;stroke-width:0.8;\" x=\"33.2875\" xlink:href=\"#m91e873422d\" y=\"131.169755\"/>\r\n      </g>\r\n     </g>\r\n     <g id=\"text_12\">\r\n      <!-- 40 -->\r\n      <g transform=\"translate(13.5625 134.968974)scale(0.1 -0.1)\">\r\n       <defs>\r\n        <path d=\"M 37.796875 64.3125 \r\nL 12.890625 25.390625 \r\nL 37.796875 25.390625 \r\nz\r\nM 35.203125 72.90625 \r\nL 47.609375 72.90625 \r\nL 47.609375 25.390625 \r\nL 58.015625 25.390625 \r\nL 58.015625 17.1875 \r\nL 47.609375 17.1875 \r\nL 47.609375 0 \r\nL 37.796875 0 \r\nL 37.796875 17.1875 \r\nL 4.890625 17.1875 \r\nL 4.890625 26.703125 \r\nz\r\n\" id=\"DejaVuSans-52\"/>\r\n       </defs>\r\n       <use xlink:href=\"#DejaVuSans-52\"/>\r\n       <use x=\"63.623047\" xlink:href=\"#DejaVuSans-48\"/>\r\n      </g>\r\n     </g>\r\n    </g>\r\n    <g id=\"ytick_4\">\r\n     <g id=\"line2d_13\">\r\n      <g>\r\n       <use style=\"stroke:#000000;stroke-width:0.8;\" x=\"33.2875\" xlink:href=\"#m91e873422d\" y=\"96.302472\"/>\r\n      </g>\r\n     </g>\r\n     <g id=\"text_13\">\r\n      <!-- 60 -->\r\n      <g transform=\"translate(13.5625 100.10169)scale(0.1 -0.1)\">\r\n       <defs>\r\n        <path d=\"M 33.015625 40.375 \r\nQ 26.375 40.375 22.484375 35.828125 \r\nQ 18.609375 31.296875 18.609375 23.390625 \r\nQ 18.609375 15.53125 22.484375 10.953125 \r\nQ 26.375 6.390625 33.015625 6.390625 \r\nQ 39.65625 6.390625 43.53125 10.953125 \r\nQ 47.40625 15.53125 47.40625 23.390625 \r\nQ 47.40625 31.296875 43.53125 35.828125 \r\nQ 39.65625 40.375 33.015625 40.375 \r\nz\r\nM 52.59375 71.296875 \r\nL 52.59375 62.3125 \r\nQ 48.875 64.0625 45.09375 64.984375 \r\nQ 41.3125 65.921875 37.59375 65.921875 \r\nQ 27.828125 65.921875 22.671875 59.328125 \r\nQ 17.53125 52.734375 16.796875 39.40625 \r\nQ 19.671875 43.65625 24.015625 45.921875 \r\nQ 28.375 48.1875 33.59375 48.1875 \r\nQ 44.578125 48.1875 50.953125 41.515625 \r\nQ 57.328125 34.859375 57.328125 23.390625 \r\nQ 57.328125 12.15625 50.6875 5.359375 \r\nQ 44.046875 -1.421875 33.015625 -1.421875 \r\nQ 20.359375 -1.421875 13.671875 8.265625 \r\nQ 6.984375 17.96875 6.984375 36.375 \r\nQ 6.984375 53.65625 15.1875 63.9375 \r\nQ 23.390625 74.21875 37.203125 74.21875 \r\nQ 40.921875 74.21875 44.703125 73.484375 \r\nQ 48.484375 72.75 52.59375 71.296875 \r\nz\r\n\" id=\"DejaVuSans-54\"/>\r\n       </defs>\r\n       <use xlink:href=\"#DejaVuSans-54\"/>\r\n       <use x=\"63.623047\" xlink:href=\"#DejaVuSans-48\"/>\r\n      </g>\r\n     </g>\r\n    </g>\r\n    <g id=\"ytick_5\">\r\n     <g id=\"line2d_14\">\r\n      <g>\r\n       <use style=\"stroke:#000000;stroke-width:0.8;\" x=\"33.2875\" xlink:href=\"#m91e873422d\" y=\"61.435189\"/>\r\n      </g>\r\n     </g>\r\n     <g id=\"text_14\">\r\n      <!-- 80 -->\r\n      <g transform=\"translate(13.5625 65.234407)scale(0.1 -0.1)\">\r\n       <defs>\r\n        <path d=\"M 31.78125 34.625 \r\nQ 24.75 34.625 20.71875 30.859375 \r\nQ 16.703125 27.09375 16.703125 20.515625 \r\nQ 16.703125 13.921875 20.71875 10.15625 \r\nQ 24.75 6.390625 31.78125 6.390625 \r\nQ 38.8125 6.390625 42.859375 10.171875 \r\nQ 46.921875 13.96875 46.921875 20.515625 \r\nQ 46.921875 27.09375 42.890625 30.859375 \r\nQ 38.875 34.625 31.78125 34.625 \r\nz\r\nM 21.921875 38.8125 \r\nQ 15.578125 40.375 12.03125 44.71875 \r\nQ 8.5 49.078125 8.5 55.328125 \r\nQ 8.5 64.0625 14.71875 69.140625 \r\nQ 20.953125 74.21875 31.78125 74.21875 \r\nQ 42.671875 74.21875 48.875 69.140625 \r\nQ 55.078125 64.0625 55.078125 55.328125 \r\nQ 55.078125 49.078125 51.53125 44.71875 \r\nQ 48 40.375 41.703125 38.8125 \r\nQ 48.828125 37.15625 52.796875 32.3125 \r\nQ 56.78125 27.484375 56.78125 20.515625 \r\nQ 56.78125 9.90625 50.3125 4.234375 \r\nQ 43.84375 -1.421875 31.78125 -1.421875 \r\nQ 19.734375 -1.421875 13.25 4.234375 \r\nQ 6.78125 9.90625 6.78125 20.515625 \r\nQ 6.78125 27.484375 10.78125 32.3125 \r\nQ 14.796875 37.15625 21.921875 38.8125 \r\nz\r\nM 18.3125 54.390625 \r\nQ 18.3125 48.734375 21.84375 45.5625 \r\nQ 25.390625 42.390625 31.78125 42.390625 \r\nQ 38.140625 42.390625 41.71875 45.5625 \r\nQ 45.3125 48.734375 45.3125 54.390625 \r\nQ 45.3125 60.0625 41.71875 63.234375 \r\nQ 38.140625 66.40625 31.78125 66.40625 \r\nQ 25.390625 66.40625 21.84375 63.234375 \r\nQ 18.3125 60.0625 18.3125 54.390625 \r\nz\r\n\" id=\"DejaVuSans-56\"/>\r\n       </defs>\r\n       <use xlink:href=\"#DejaVuSans-56\"/>\r\n       <use x=\"63.623047\" xlink:href=\"#DejaVuSans-48\"/>\r\n      </g>\r\n     </g>\r\n    </g>\r\n    <g id=\"ytick_6\">\r\n     <g id=\"line2d_15\">\r\n      <g>\r\n       <use style=\"stroke:#000000;stroke-width:0.8;\" x=\"33.2875\" xlink:href=\"#m91e873422d\" y=\"26.567905\"/>\r\n      </g>\r\n     </g>\r\n     <g id=\"text_15\">\r\n      <!-- 100 -->\r\n      <g transform=\"translate(7.2 30.367124)scale(0.1 -0.1)\">\r\n       <use xlink:href=\"#DejaVuSans-49\"/>\r\n       <use x=\"63.623047\" xlink:href=\"#DejaVuSans-48\"/>\r\n       <use x=\"127.246094\" xlink:href=\"#DejaVuSans-48\"/>\r\n      </g>\r\n     </g>\r\n    </g>\r\n   </g>\r\n   <g id=\"line2d_16\">\r\n    <path clip-path=\"url(#p0e6f9773b6)\" d=\"M 48.505682 17.083636 \r\nL 65.329802 71.547064 \r\nL 68.388733 80.507056 \r\nL 71.447664 88.866799 \r\nL 74.506595 96.532105 \r\nL 77.565526 103.43091 \r\nL 80.624458 109.516149 \r\nL 83.683389 114.767631 \r\nL 85.212854 117.081972 \r\nL 86.74232 119.192843 \r\nL 88.271785 121.105455 \r\nL 89.801251 122.826652 \r\nL 91.330716 124.364844 \r\nL 92.860182 125.729919 \r\nL 94.389647 126.933146 \r\nL 95.919113 127.987065 \r\nL 98.978044 129.702712 \r\nL 102.036975 130.99751 \r\nL 105.095906 132.003325 \r\nL 114.272699 134.661965 \r\nL 117.33163 135.867418 \r\nL 120.390561 137.42377 \r\nL 123.449492 139.419098 \r\nL 126.508423 141.918421 \r\nL 129.567354 144.961103 \r\nL 132.626285 148.559287 \r\nL 135.685216 152.697409 \r\nL 138.744147 157.33282 \r\nL 141.803078 162.397484 \r\nL 146.391474 170.595579 \r\nL 158.627198 193.076409 \r\nL 161.68613 198.106245 \r\nL 164.745061 202.638326 \r\nL 167.803992 206.561475 \r\nL 169.333457 208.264968 \r\nL 170.862923 209.78323 \r\nL 172.392388 211.108233 \r\nL 173.921854 212.233532 \r\nL 175.451319 213.154327 \r\nL 176.980785 213.867517 \r\nL 178.51025 214.371722 \r\nL 180.039716 214.667305 \r\nL 181.569181 214.756364 \r\nL 183.098647 214.642712 \r\nL 184.628112 214.33184 \r\nL 186.157578 213.83086 \r\nL 187.687043 213.148437 \r\nL 189.216509 212.294697 \r\nL 190.745974 211.281133 \r\nL 193.804905 208.826613 \r\nL 196.863836 205.899412 \r\nL 199.922767 202.627347 \r\nL 206.040629 195.595425 \r\nL 210.629026 190.432935 \r\nL 213.687957 187.282439 \r\nL 216.746888 184.491053 \r\nL 219.805819 182.145041 \r\nL 221.335284 181.159708 \r\nL 222.86475 180.30735 \r\nL 224.394215 179.591782 \r\nL 225.923681 179.015101 \r\nL 227.453146 178.57767 \r\nL 228.982612 178.278111 \r\nL 230.512077 178.11332 \r\nL 232.041543 178.078499 \r\nL 233.571008 178.167202 \r\nL 236.629939 178.681567 \r\nL 239.68887 179.574746 \r\nL 242.747802 180.744409 \r\nL 253.45406 185.206043 \r\nL 256.512991 186.025064 \r\nL 258.042457 186.274639 \r\nL 259.571922 186.397054 \r\nL 261.101388 186.378021 \r\nL 262.630853 186.204318 \r\nL 264.160319 185.863919 \r\nL 265.689784 185.346117 \r\nL 267.21925 184.641626 \r\nL 268.748715 183.74268 \r\nL 270.278181 182.643107 \r\nL 271.807646 181.338388 \r\nL 273.337112 179.82571 \r\nL 274.866577 178.103988 \r\nL 276.396043 176.173874 \r\nL 277.925508 174.037759 \r\nL 280.984439 169.165586 \r\nL 284.04337 163.539921 \r\nL 287.102301 157.237697 \r\nL 290.161232 150.357259 \r\nL 294.749629 139.209497 \r\nL 300.867491 123.496861 \r\nL 306.985353 107.818442 \r\nL 311.573749 96.691802 \r\nL 314.63268 89.769945 \r\nL 317.691611 83.333243 \r\nL 320.750542 77.429799 \r\nL 323.809474 72.080898 \r\nL 326.868405 67.280156 \r\nL 329.927336 62.993775 \r\nL 332.986267 59.161892 \r\nL 336.045198 55.700964 \r\nL 340.633594 50.973289 \r\nL 348.280922 43.275031 \r\nL 351.339853 39.860693 \r\nL 352.869318 38.013717 \r\nL 352.869318 38.013717 \r\n\" style=\"fill:none;stroke:#1f77b4;stroke-linecap:square;stroke-width:1.5;\"/>\r\n   </g>\r\n   <g id=\"patch_3\">\r\n    <path d=\"M 33.2875 224.64 \r\nL 33.2875 7.2 \r\n\" style=\"fill:none;stroke:#000000;stroke-linecap:square;stroke-linejoin:miter;stroke-width:0.8;\"/>\r\n   </g>\r\n   <g id=\"patch_4\">\r\n    <path d=\"M 368.0875 224.64 \r\nL 368.0875 7.2 \r\n\" style=\"fill:none;stroke:#000000;stroke-linecap:square;stroke-linejoin:miter;stroke-width:0.8;\"/>\r\n   </g>\r\n   <g id=\"patch_5\">\r\n    <path d=\"M 33.2875 224.64 \r\nL 368.0875 224.64 \r\n\" style=\"fill:none;stroke:#000000;stroke-linecap:square;stroke-linejoin:miter;stroke-width:0.8;\"/>\r\n   </g>\r\n   <g id=\"patch_6\">\r\n    <path d=\"M 33.2875 7.2 \r\nL 368.0875 7.2 \r\n\" style=\"fill:none;stroke:#000000;stroke-linecap:square;stroke-linejoin:miter;stroke-width:0.8;\"/>\r\n   </g>\r\n  </g>\r\n </g>\r\n <defs>\r\n  <clipPath id=\"p0e6f9773b6\">\r\n   <rect height=\"217.44\" width=\"334.8\" x=\"33.2875\" y=\"7.2\"/>\r\n  </clipPath>\r\n </defs>\r\n</svg>\r\n",
      "image/png": "[encoded data removed]"
     },
     "metadata": {
      "needs_background": "light"
     }
    },
    {
     "output_type": "stream",
     "name": "stdout",
     "text": [
      "find minima starting from 0:\n",
      "Optimization terminated successfully.\n",
      "         Current function value: -7.945823\n",
      "         Iterations: 5\n",
      "         Function evaluations: 12\n",
      "         Gradient evaluations: 6\n",
      "find minima starting from 3:\n",
      "Optimization terminated successfully.\n",
      "         Current function value: 8.315586\n",
      "         Iterations: 6\n",
      "         Function evaluations: 14\n",
      "         Gradient evaluations: 7\n",
      "find global minimum\n",
      "global minimum: x = %.4f [-1.30644001] f(x0)= %.4f -7.9458233756152845\n"
     ]
    }
   ],
   "source": [
    "import numpy as np\n",
    "from scipy import optimize       # import optimization library\n",
    "import matplotlib.pyplot as plt   # import ploting routine\n",
    "\n",
    "# Define function\n",
    "def f(x):\n",
    "    return x**2 + 10*np.sin(x)\n",
    "\n",
    "\n",
    "# plot it\n",
    "\n",
    "x = np.arange(-10, 10, 0.1)\n",
    "plt.plot(x, f(x))\n",
    "plt.show()\n",
    "\n",
    "\n",
    "# This function has a global minimum round -1.3\n",
    "# and a local minimum around 3.8\n",
    "\n",
    "# Conduct a gradient descent from zero to find minimum\n",
    "print ('find minima starting from 0:')\n",
    "optimize.fmin_bfgs(f, 0)   # start from 0 and see it finds local min only\n",
    "\n",
    "# conduct gradient descent from 3 to find minimum\n",
    "print ('find minima starting from 3:')\n",
    "optimize.fmin_bfgs(f,3)\n",
    "\n",
    "\n",
    "# To find the global optimal, we use scipy.optimize.basinhopping()\n",
    "# which combines a local optimizer with stochastic sampling of\n",
    "# starting points for the local optimizer\n",
    "\n",
    "print ('find global minimum')\n",
    "minimizer_kwargs = {\"method\": \"BFGS\"}\n",
    "ret = optimize.basinhopping(f, 0.0, \\\n",
    "          minimizer_kwargs= minimizer_kwargs, niter=200)\n",
    "print ('global minimum: x = %.4f', ret.x, 'f(x0)= %.4f', ret.fun)\n"
   ]
  },
  {
   "cell_type": "code",
   "execution_count": 93,
   "metadata": {},
   "outputs": [
    {
     "output_type": "stream",
     "name": "stdout",
     "text": [
      "Guess from 1:  [0.]\nguess from -2.5: [-2.47948183]\n"
     ]
    }
   ],
   "source": [
    "## Finding the roots of a scalar function\n",
    "import numpy as np\n",
    "from scipy import optimize   # import optimization package\n",
    "\n",
    "# define function\n",
    "def f(x):\n",
    "    return x**2 + 10*np.sin(x)\n",
    "\n",
    "root = optimize.fsolve(f,1)   # our initial guess\n",
    "print(\"Guess from 1: \", root)\n",
    "\n",
    "root = optimize.fsolve(f, -2.5) # another quess\n",
    "print(\"guess from -2.5:\", root)"
   ]
  },
  {
   "cell_type": "code",
   "execution_count": 94,
   "metadata": {},
   "outputs": [
    {
     "output_type": "stream",
     "name": "stdout",
     "text": [
      "params = [0.52685534 9.86031358]\n"
     ]
    }
   ],
   "source": [
    "# Let's see some optimization\n",
    "import numpy as np\n",
    "from scipy import optimize\n",
    "\n",
    "# define function\n",
    "def f(x):\n",
    "    return x**2 + 10*np.sin(x)\n",
    "\n",
    "xdata = np.linspace(-10,10, num=20) # generate 20 pts of x\n",
    "ydata = f(xdata) + np.random.rand(xdata.size) # generate 20 points of y\n",
    "\n",
    "# define another function\n",
    "def f2(x, a, b):\n",
    "    return a + x**2 + b*np.sin(x)\n",
    "\n",
    "# use scipy.optimize.curve_fit()\n",
    "guess = [2,2]  # initial guess\n",
    "params, params_covariance = optimize.curve_fit(f2, xdata, ydata, guess)\n",
    "\n",
    "print(\"params =\", params)"
   ]
  },
  {
   "cell_type": "code",
   "execution_count": null,
   "metadata": {},
   "outputs": [],
   "source": []
  }
 ],
 "metadata": {
  "kernelspec": {
   "name": "Python 3.8.5 32-bit",
   "display_name": "Python 3.8.5 32-bit",
   "metadata": {
    "interpreter": {
     "hash": "6236e50c5dc245ad4c3c7285518662f2c3c17f40ef1ba5dce0d0def021db3289"
    }
   }
  },
  "language_info": {
   "codemirror_mode": {
    "name": "ipython",
    "version": 3
   },
   "file_extension": ".py",
   "mimetype": "text/x-python",
   "name": "python",
   "nbconvert_exporter": "python",
   "pygments_lexer": "ipython3",
   "version": "3.8.5-final"
  }
 },
 "nbformat": 4,
 "nbformat_minor": 2
}