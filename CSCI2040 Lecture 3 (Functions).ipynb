{
 "cells": [
  {
   "cell_type": "markdown",
   "metadata": {},
   "source": [
    "# Functions\n",
    "If you have tasks you need to do many times over, don't code these tasks many times, but instea, use function <br>\n",
    "so that each time you need to execute the task, you can simply call the function. This brings simplicity, readability<br>\n",
    "and more importantly, easy software maintenance.\n",
    "\n",
    "**Created and edited by:** John C.S. Lui on August 8th, 2020.\n",
    "\n",
    "**<span style=\"color:red\"> Important note</span>:** *If you want to use and modify this notebook file, please acknowledge the author.*"
   ]
  },
  {
   "cell_type": "markdown",
   "metadata": {},
   "source": [
    "## General syntax of defining a function"
   ]
  },
  {
   "cell_type": "markdown",
   "metadata": {},
   "source": [
    "\\# Let's define a function <br>\n",
    "**def** function_name (argument_1, argument_2,...): <br>\n",
    "  &nbsp; &nbsp; &nbsp; &nbsp; write down the code of your function here<br>\n",
    "  &nbsp; &nbsp; &nbsp; &nbsp; write down the code of your function here<br>\n",
    "  \n",
    "\n",
    "\\# Later on in your program, you can use the *function_name* to call the function<br>\n",
    ".... <br>\n",
    "function_name(value_1, value_2, ...)<br>\n",
    ".... <br>\n"
   ]
  },
  {
   "cell_type": "markdown",
   "metadata": {},
   "source": [
    "## Examples"
   ]
  },
  {
   "cell_type": "code",
   "execution_count": 1,
   "metadata": {
    "tags": []
   },
   "outputs": [
    {
     "output_type": "stream",
     "name": "stdout",
     "text": "The person's name is Lui John C.S.\nThe person's name is Frank Kelly\n"
    }
   ],
   "source": [
    "# Example\n",
    "def print_reverse_name(first_name, last_name):\n",
    "      print(\"The person's name is %s %s\" %(last_name, first_name))\n",
    "        \n",
    "f_name1 = \"John C.S.\"\n",
    "l_name1 = \"Lui\"\n",
    "print_reverse_name(f_name1, l_name1)\n",
    "\n",
    "f_name2 = \"Frank\"\n",
    "l_name2 = \"Kelly\"\n",
    "print_reverse_name(l_name2, f_name2)  # It is the \"ordering\" that is important !!!!"
   ]
  },
  {
   "cell_type": "code",
   "execution_count": 2,
   "metadata": {
    "tags": []
   },
   "outputs": [
    {
     "output_type": "stream",
     "name": "stdout",
     "text": "Peter, you are doing great in CSCI2040.\nAnd please, give me a good coure evaluation because my job is on the line.\n\nMary, you are doing great in CSCI2040.\nAnd please, give me a good coure evaluation because my job is on the line.\n\nSusan, you are doing great in CSCI2040.\nAnd please, give me a good coure evaluation because my job is on the line.\n\nStanley, you are doing great in CSCI2040.\nAnd please, give me a good coure evaluation because my job is on the line.\n\n"
    }
   ],
   "source": [
    "# Let say you need to send emails to the following students with the following messages\n",
    "print(\"Peter, you are doing great in CSCI2040.\")\n",
    "print(\"And please, give me a good coure evaluation because my job is on the line.\\n\")\n",
    "\n",
    "print(\"Mary, you are doing great in CSCI2040.\")\n",
    "print(\"And please, give me a good coure evaluation because my job is on the line.\\n\")\n",
    "\n",
    "print(\"Susan, you are doing great in CSCI2040.\")\n",
    "print(\"And please, give me a good coure evaluation because my job is on the line.\\n\")\n",
    "\n",
    "print(\"Stanley, you are doing great in CSCI2040.\")\n",
    "print(\"And please, give me a good coure evaluation because my job is on the line.\\n\")"
   ]
  },
  {
   "cell_type": "code",
   "execution_count": 3,
   "metadata": {
    "tags": []
   },
   "outputs": [
    {
     "output_type": "stream",
     "name": "stdout",
     "text": "Peter, you are doing great in CSCI2040.\nAnd please, give me a good coure evaluation because my job is on the line.\n\nMary, you are doing great in CSCI2040.\nAnd please, give me a good coure evaluation because my job is on the line.\n\nSusan, you are doing great in CSCI2040.\nAnd please, give me a good coure evaluation because my job is on the line.\n\nStanley, you are doing great in CSCI2040.\nAnd please, give me a good coure evaluation because my job is on the line.\n\n"
    }
   ],
   "source": [
    "# The above code is UGLY, you can simplify it using function\n",
    "def message_func (name):\n",
    "    print(\"%s, you are doing great in CSCI2040.\" %name)\n",
    "    print(\"And please, give me a good coure evaluation because my job is on the line.\\n\")\n",
    "    \n",
    "message_func('Peter')\n",
    "message_func('Mary')\n",
    "message_func('Susan')\n",
    "message_func('Stanley')"
   ]
  },
  {
   "cell_type": "code",
   "execution_count": 4,
   "metadata": {
    "tags": []
   },
   "outputs": [
    {
     "output_type": "stream",
     "name": "stdout",
     "text": "Peter, you are doing great in CSCI2040.\nAnd please, give me a good coure evaluation because my job is on the line.\n\nMary, you are doing great in CSCI2040.\nAnd please, give me a good coure evaluation because my job is on the line.\n\nSusan, you are doing great in CSCI2040.\nAnd please, give me a good coure evaluation because my job is on the line.\n\nStanley, you are doing great in CSCI2040.\nAnd please, give me a good coure evaluation because my job is on the line.\n\n"
    }
   ],
   "source": [
    "# Better yet, we can use list and function\n",
    "def message_func (name):\n",
    "    print(\"%s, you are doing great in CSCI2040.\" %name)\n",
    "    print(\"And please, give me a good coure evaluation because my job is on the line.\\n\")\n",
    "\n",
    "name_list = ['Peter', 'Mary', 'Susan', 'Stanley']\n",
    "\n",
    "for name in name_list:\n",
    "    message_func(name)\n"
   ]
  },
  {
   "cell_type": "code",
   "execution_count": 5,
   "metadata": {
    "tags": []
   },
   "outputs": [
    {
     "output_type": "stream",
     "name": "stdout",
     "text": "*****Display items in sorted order:\nMary, you are doing great in CSCI2040.\nAnd please, give me a good coure evaluation because my job is on the line.\n\nPeter, you are doing great in CSCI2040.\nAnd please, give me a good coure evaluation because my job is on the line.\n\nStanley, you are doing great in CSCI2040.\nAnd please, give me a good coure evaluation because my job is on the line.\n\nSusan, you are doing great in CSCI2040.\nAnd please, give me a good coure evaluation because my job is on the line.\n\n\n*****Display items in reverse sorted order:\nSusan, you are doing great in CSCI2040.\nAnd please, give me a good coure evaluation because my job is on the line.\n\nStanley, you are doing great in CSCI2040.\nAnd please, give me a good coure evaluation because my job is on the line.\n\nPeter, you are doing great in CSCI2040.\nAnd please, give me a good coure evaluation because my job is on the line.\n\nMary, you are doing great in CSCI2040.\nAnd please, give me a good coure evaluation because my job is on the line.\n\n"
    }
   ],
   "source": [
    "# We can also use the list methods we learnt to do more fancy things\n",
    "def message_func (name):\n",
    "    print(\"%s, you are doing great in CSCI2040.\" %name)\n",
    "    print(\"And please, give me a good coure evaluation because my job is on the line.\\n\")\n",
    "\n",
    "name_list = ['Peter', 'Mary', 'Susan', 'Stanley']\n",
    "\n",
    "# sort the list\n",
    "name_list.sort()\n",
    "\n",
    "print(\"*****Display items in sorted order:\")\n",
    "for name in name_list:\n",
    "    message_func(name)\n",
    "\n",
    "# sort the list in reverse order\n",
    "name_list.sort(reverse=True)\n",
    "print(\"\\n*****Display items in reverse sorted order:\")\n",
    "for name in name_list:\n",
    "    message_func(name)"
   ]
  },
  {
   "cell_type": "markdown",
   "metadata": {},
   "source": [
    "## Why we want to use functions?\n",
    "- You only write a set of code ONCE.\n",
    "- Good software engineering practice. You can focus on a function to make sure it is correct.\n",
    "- One can modify the function behavior, instead of modifying spreaded codes around your program"
   ]
  },
  {
   "cell_type": "code",
   "execution_count": 6,
   "metadata": {
    "tags": []
   },
   "outputs": [
    {
     "output_type": "stream",
     "name": "stdout",
     "text": "The following students got 'A' in CSCI2040\n\t * Mary\n\t * Peter\n\t * Stanley\n\t * Susan\n\n\nThe folloiwng students also hate John C.S. Lui\n\t * Susan\n\t * Stanley\n\t * Peter\n\t * Mary\n"
    }
   ],
   "source": [
    "# Let say you want to print a message, and give a list of students.\n",
    "def message_students (students, message):\n",
    "    print(message)\n",
    "    for student in students:\n",
    "        print('\\t *', student)\n",
    "\n",
    "name_list = ['Peter', 'Mary', 'Susan', 'Stanley']\n",
    "message = \"The following students got 'A' in CSCI2040\"\n",
    "\n",
    "name_list.sort()\n",
    "message_students(name_list, message)\n",
    "\n",
    "print(\"\\n\")\n",
    "name_list.sort(reverse=True)\n",
    "message = \"The folloiwng students also hate John C.S. Lui\"\n",
    "message_students(name_list, message)"
   ]
  },
  {
   "cell_type": "markdown",
   "metadata": {},
   "source": [
    "## Values returned by a function\n",
    "Each function can return some values to the caller, and it can be very useful."
   ]
  },
  {
   "cell_type": "code",
   "execution_count": 7,
   "metadata": {
    "tags": []
   },
   "outputs": [
    {
     "output_type": "stream",
     "name": "stdout",
     "text": "The following students got 'A' in CSCI2040\n\t * Mary\n\t * Peter\n\t * Stanley\n\t * Susan\n\nThere are 4 students in the list\n"
    }
   ],
   "source": [
    "def message_students (students, message):\n",
    "    print(message)\n",
    "    for student in students:\n",
    "        print('\\t *', student)\n",
    "    return len(students)    \n",
    "\n",
    "name_list = ['Peter', 'Mary', 'Susan', 'Stanley']\n",
    "message = \"The following students got 'A' in CSCI2040\"\n",
    "\n",
    "name_list.sort()\n",
    "list_size = message_students(name_list, message)\n",
    "print(\"\\nThere are %d students in the list\" %list_size)\n",
    "\n"
   ]
  },
  {
   "cell_type": "markdown",
   "metadata": {},
   "source": [
    "## Use **globals**\n",
    "\n",
    "At times, we want to access some \"global variables\".  We can use the **global** statement"
   ]
  },
  {
   "cell_type": "code",
   "execution_count": 8,
   "metadata": {
    "tags": []
   },
   "outputs": [
    {
     "output_type": "stream",
     "name": "stdout",
     "text": "a= 1 ; b= 2\ninside function scopetest, a = 12 ; b = 4\nnow a= 1 ; b= 4\n"
    }
   ],
   "source": [
    "# def a function\n",
    "def scopetest (a):\n",
    "    global b\n",
    "    b = 4\n",
    "    a = 12\n",
    "    print('inside function scopetest, a =', a, \";\", \"b =\", b)\n",
    "    \n",
    "a = 1\n",
    "b = 2\n",
    "print ('a=', a, ';', 'b=', b)\n",
    "scopetest(a)\n",
    "print ('now a=', a, \";\", \"b=\", b)"
   ]
  },
  {
   "cell_type": "markdown",
   "metadata": {},
   "source": [
    "## Let's examine our understanding on function"
   ]
  },
  {
   "cell_type": "code",
   "execution_count": 9,
   "metadata": {
    "tags": []
   },
   "outputs": [
    {
     "output_type": "stream",
     "name": "stdout",
     "text": "15\n"
    }
   ],
   "source": [
    "# Question:  What is the answer for the following code?\n",
    "\n",
    "def outerFun(a, b):\n",
    "    def innerFun(c, d):\n",
    "        return c + d\n",
    "    return innerFun(a, b)\n",
    "\n",
    "res = outerFun(5, 10)\n",
    "print(res)"
   ]
  },
  {
   "cell_type": "code",
   "execution_count": 10,
   "metadata": {
    "tags": []
   },
   "outputs": [
    {
     "output_type": "stream",
     "name": "stdout",
     "text": "(8, 7)\n"
    }
   ],
   "source": [
    "# Question: What is the answer for the following code?\n",
    "\n",
    "def add(a, b):\n",
    "    return a+5, b+5\n",
    "\n",
    "result = add(3, 2)\n",
    "print(result)"
   ]
  },
  {
   "cell_type": "code",
   "execution_count": 11,
   "metadata": {},
   "outputs": [
    {
     "output_type": "error",
     "ename": "NameError",
     "evalue": "name 'num' is not defined",
     "traceback": [
      "\u001b[1;31m---------------------------------------------------------------------------\u001b[0m",
      "\u001b[1;31mNameError\u001b[0m                                 Traceback (most recent call last)",
      "\u001b[1;32m<ipython-input-11-b262a10cfa12>\u001b[0m in \u001b[0;36m<module>\u001b[1;34m\u001b[0m\n\u001b[0;32m      5\u001b[0m \u001b[1;33m\u001b[0m\u001b[0m\n\u001b[0;32m      6\u001b[0m \u001b[0mfun1\u001b[0m\u001b[1;33m(\u001b[0m\u001b[1;36m5\u001b[0m\u001b[1;33m)\u001b[0m\u001b[1;33m\u001b[0m\u001b[1;33m\u001b[0m\u001b[0m\n\u001b[1;32m----> 7\u001b[1;33m \u001b[0mprint\u001b[0m\u001b[1;33m(\u001b[0m\u001b[0mnum\u001b[0m\u001b[1;33m)\u001b[0m\u001b[1;33m\u001b[0m\u001b[1;33m\u001b[0m\u001b[0m\n\u001b[0m",
      "\u001b[1;31mNameError\u001b[0m: name 'num' is not defined"
     ]
    }
   ],
   "source": [
    "# Question: What is the answer for the following code?\n",
    "\n",
    "def fun1(num):\n",
    "    return num + 25\n",
    "\n",
    "fun1(5)\n",
    "print(num)"
   ]
  },
  {
   "cell_type": "code",
   "execution_count": 12,
   "metadata": {
    "tags": []
   },
   "outputs": [
    {
     "output_type": "stream",
     "name": "stdout",
     "text": "Emma 25\n"
    }
   ],
   "source": [
    "# Question: What is the answer for the following code?\n",
    "\n",
    "def fun1(name, age=20):\n",
    "    print(name, age)\n",
    "\n",
    "fun1('Emma', 25)"
   ]
  },
  {
   "cell_type": "code",
   "execution_count": 13,
   "metadata": {
    "tags": []
   },
   "outputs": [
    {
     "output_type": "stream",
     "name": "stdout",
     "text": "15\n"
    }
   ],
   "source": [
    "# Question: What is the answer fro the following code?\n",
    "\n",
    "def outerFun(a, b):\n",
    "    def innerFun(c, d):\n",
    "        return c + d\n",
    "    return innerFun(a, b)\n",
    "    return a\n",
    "\n",
    "result = outerFun(5, 10)\n",
    "print(result)"
   ]
  },
  {
   "cell_type": "markdown",
   "metadata": {},
   "source": [
    "## Exercise\n",
    "\n",
    "Write a function which takes: <br>\n",
    "* A list of 10 names\n",
    "* Another list of 10 numbers which represents the age of the corresponding people in the first list\n",
    "* Print out the name, the age, and a message that <br>\n",
    "  if a person is above 50, the message is \"over the hill\", <br>\n",
    "  else a message is \"has a bright future\"\n",
    "* You may need to look up the syntax for \"if... else\"\n",
    "\n",
    "Initialize the two lists, and then call the function."
   ]
  },
  {
   "cell_type": "code",
   "execution_count": null,
   "metadata": {},
   "outputs": [],
   "source": []
  }
 ],
 "metadata": {
  "kernelspec": {
   "display_name": "Python 3.8.5 32-bit",
   "language": "python",
   "name": "python_defaultSpec_1600171314621"
  },
  "language_info": {
   "codemirror_mode": {
    "name": "ipython",
    "version": 3
   },
   "file_extension": ".py",
   "mimetype": "text/x-python",
   "name": "python",
   "nbconvert_exporter": "python",
   "pygments_lexer": "ipython3",
   "version": "3.8.5-final"
  }
 },
 "nbformat": 4,
 "nbformat_minor": 2
}